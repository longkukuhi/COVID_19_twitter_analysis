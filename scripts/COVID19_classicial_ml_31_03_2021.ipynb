{
  "nbformat": 4,
  "nbformat_minor": 0,
  "metadata": {
    "colab": {
      "name": "COVID19_classicial_ml_31/03/2021.ipynb",
      "provenance": [],
      "collapsed_sections": [
        "BU9mGB5Y39Qe"
      ]
    },
    "kernelspec": {
      "name": "python3",
      "display_name": "Python 3"
    }
  },
  "cells": [
    {
      "cell_type": "markdown",
      "metadata": {
        "id": "BU9mGB5Y39Qe"
      },
      "source": [
        "## labels analysis"
      ]
    },
    {
      "cell_type": "code",
      "metadata": {
        "id": "3F42SmzX4Z86",
        "colab": {
          "base_uri": "https://localhost:8080/",
          "height": 232
        },
        "outputId": "5b780d6a-6206-49d2-b4ec-26be24133dd9"
      },
      "source": [
        "# load orginal data(COVID-19 TREC-IS 2020 task) from json file.\r\n",
        "data_folder = 'data' + os.sep + 'TREC_IS_2020' + os.sep + 'COVID_19'\r\n",
        "# TREC-IS A run data set\r\n",
        "cv19_dc = pd.read_json( data_folder + os.sep + 'cv19_dc_test.json',lines=True,orient='records')\r\n",
        "cv19_ws = pd.read_json(data_folder + os.sep + 'cv19_washington_state_test.json',lines=True,orient='records')\r\n",
        "cv19_ny = pd.read_json(data_folder + os.sep + 'cv19_nyc_test.json',lines=True,orient='records')\r\n",
        "cv19_a_run_info_labeled = pd.read_csv(data_folder + os.sep + 'cv19_TREC_2020_all_labeled_A.csv',\r\n",
        "                           converters={\"priority\": lambda x: x.strip(\"[]\").replace(\"'\", \"\").split(\", \"),\r\n",
        "                                       \"categories\": lambda x: x.strip(\"[]\").replace(\"'\", \"\").split(\", \")})\r\n",
        "cv19_dc_labeled = pd.merge(cv19_dc,cv19_a_run_info_labeled,on=['id'])\r\n",
        "cv19_ws_labeled = pd.merge(cv19_ws,cv19_a_run_info_labeled,on=['id'])\r\n",
        "cv19_ny_labeled = pd.merge(cv19_ny,cv19_a_run_info_labeled,on=['id'])\r\n",
        "temp = [cv19_dc_labeled,cv19_ny_labeled,cv19_ws_labeled ]\r\n",
        "cv19_a_run_info_labeled =  pd.concat(temp)"
      ],
      "execution_count": null,
      "outputs": [
        {
          "output_type": "error",
          "ename": "NameError",
          "evalue": "ignored",
          "traceback": [
            "\u001b[1;31m---------------------------------------------------------------------------\u001b[0m",
            "\u001b[1;31mNameError\u001b[0m                                 Traceback (most recent call last)",
            "\u001b[1;32m<ipython-input-1-e034f70b751b>\u001b[0m in \u001b[0;36m<module>\u001b[1;34m\u001b[0m\n\u001b[0;32m      1\u001b[0m \u001b[1;31m# load orginal data(COVID-19 TREC-IS 2020 task) from json file.\u001b[0m\u001b[1;33m\u001b[0m\u001b[1;33m\u001b[0m\u001b[1;33m\u001b[0m\u001b[0m\n\u001b[1;32m----> 2\u001b[1;33m \u001b[0mdata_folder\u001b[0m \u001b[1;33m=\u001b[0m \u001b[1;34m'data'\u001b[0m \u001b[1;33m+\u001b[0m \u001b[0mos\u001b[0m\u001b[1;33m.\u001b[0m\u001b[0msep\u001b[0m \u001b[1;33m+\u001b[0m \u001b[1;34m'TREC_IS_2020'\u001b[0m \u001b[1;33m+\u001b[0m \u001b[0mos\u001b[0m\u001b[1;33m.\u001b[0m\u001b[0msep\u001b[0m \u001b[1;33m+\u001b[0m \u001b[1;34m'COVID_19'\u001b[0m\u001b[1;33m\u001b[0m\u001b[1;33m\u001b[0m\u001b[0m\n\u001b[0m\u001b[0;32m      3\u001b[0m \u001b[1;31m# TREC-IS A run data set\u001b[0m\u001b[1;33m\u001b[0m\u001b[1;33m\u001b[0m\u001b[1;33m\u001b[0m\u001b[0m\n\u001b[0;32m      4\u001b[0m \u001b[0mcv19_dc\u001b[0m \u001b[1;33m=\u001b[0m \u001b[0mpd\u001b[0m\u001b[1;33m.\u001b[0m\u001b[0mread_json\u001b[0m\u001b[1;33m(\u001b[0m \u001b[0mdata_folder\u001b[0m \u001b[1;33m+\u001b[0m \u001b[0mos\u001b[0m\u001b[1;33m.\u001b[0m\u001b[0msep\u001b[0m \u001b[1;33m+\u001b[0m \u001b[1;34m'cv19_dc_test.json'\u001b[0m\u001b[1;33m,\u001b[0m\u001b[0mlines\u001b[0m\u001b[1;33m=\u001b[0m\u001b[1;32mTrue\u001b[0m\u001b[1;33m,\u001b[0m\u001b[0morient\u001b[0m\u001b[1;33m=\u001b[0m\u001b[1;34m'records'\u001b[0m\u001b[1;33m)\u001b[0m\u001b[1;33m\u001b[0m\u001b[1;33m\u001b[0m\u001b[0m\n\u001b[0;32m      5\u001b[0m \u001b[0mcv19_ws\u001b[0m \u001b[1;33m=\u001b[0m \u001b[0mpd\u001b[0m\u001b[1;33m.\u001b[0m\u001b[0mread_json\u001b[0m\u001b[1;33m(\u001b[0m\u001b[0mdata_folder\u001b[0m \u001b[1;33m+\u001b[0m \u001b[0mos\u001b[0m\u001b[1;33m.\u001b[0m\u001b[0msep\u001b[0m \u001b[1;33m+\u001b[0m \u001b[1;34m'cv19_washington_state_test.json'\u001b[0m\u001b[1;33m,\u001b[0m\u001b[0mlines\u001b[0m\u001b[1;33m=\u001b[0m\u001b[1;32mTrue\u001b[0m\u001b[1;33m,\u001b[0m\u001b[0morient\u001b[0m\u001b[1;33m=\u001b[0m\u001b[1;34m'records'\u001b[0m\u001b[1;33m)\u001b[0m\u001b[1;33m\u001b[0m\u001b[1;33m\u001b[0m\u001b[0m\n",
            "\u001b[1;31mNameError\u001b[0m: name 'os' is not defined"
          ]
        }
      ]
    },
    {
      "cell_type": "code",
      "metadata": {
        "id": "5HWmOPc74hK8"
      },
      "source": [
        "\r\n",
        "with open(data_folder + os.sep + 'b_label2a.json') as f:\r\n",
        "    labels_b_2a = json.load(f)\r\n",
        "\r\n",
        "with open(data_folder + os.sep + 'b_label3.json') as f:\r\n",
        "    labels_b_3 = json.load(f)\r\n",
        "\r\n",
        "with open(data_folder + os.sep + 'b_label4.json') as f:\r\n",
        "    labels_b_4 = json.load(f)\r\n",
        "\r\n",
        "with open(data_folder + os.sep + 'b_label5.json') as f:\r\n",
        "    labels_b_5 = json.load(f)\r\n",
        "\r\n",
        "with open(data_folder + os.sep + 'b_label2b.json') as f:\r\n",
        "    labels_b_2b = json.load(f)\r\n",
        "\r\n",
        "\r\n",
        "labels21 = pd.DataFrame(labels_b_2a['events'][10]['tweets'][:])\r\n",
        "labels22 = pd.DataFrame(labels_b_2a['events'][11]['tweets'][:])\r\n",
        "\r\n",
        "labels31 = pd.DataFrame(labels_b_3['events'][7]['tweets'][:])\r\n",
        "labels32 = pd.DataFrame(labels_b_3['events'][8]['tweets'][:])\r\n",
        "labels33 = pd.DataFrame(labels_b_3['events'][12]['tweets'][:])\r\n",
        "labels34 = pd.DataFrame(labels_b_3['events'][13]['tweets'][:])\r\n",
        "# labels32 = pd.DataFrame(labels3['events'][2]['tweets'][:])\r\n",
        "\r\n",
        "labels41 = pd.DataFrame(labels_b_4['events'][2]['tweets'][:])\r\n",
        "labels42 = pd.DataFrame(labels_b_4['events'][3]['tweets'][:])\r\n",
        "labels43 = pd.DataFrame(labels_b_4['events'][4]['tweets'][:])\r\n",
        "\r\n",
        "labels51 = pd.DataFrame(labels_b_5['events'][8]['tweets'][:])\r\n",
        "labels52 = pd.DataFrame(labels_b_5['events'][9]['tweets'][:])\r\n",
        "labels53 = pd.DataFrame(labels_b_5['events'][10]['tweets'][:])\r\n",
        "labels54 = pd.DataFrame(labels_b_5['events'][11]['tweets'][:])\r\n",
        "labels55 = pd.DataFrame(labels_b_5['events'][12]['tweets'][:])\r\n",
        "labels56 = pd.DataFrame(labels_b_5['events'][13]['tweets'][:])\r\n",
        "labels57 = pd.DataFrame(labels_b_5['events'][17]['tweets'][:])\r\n",
        "labels58 = pd.DataFrame(labels_b_5['events'][18]['tweets'][:])\r\n",
        "\r\n",
        "\r\n",
        "\r\n",
        "# Union them all into one dataFrame\r\n",
        "temp = [labels21, labels22, labels31, labels32, labels33, labels34, labels41, labels42, labels43, labels51,\r\n",
        "          labels52, labels53, labels54, labels55, labels56, labels57, labels58]\r\n",
        "all_labels_b = pd.concat(temp)\r\n",
        "all_labels_b = all_labels_b.rename(columns={'postID': 'id'})\r\n",
        "all_labels_b = all_labels_b.astype({\"id\": np.int64})\r\n",
        "all_labels_b.reset_index()"
      ],
      "execution_count": null,
      "outputs": []
    },
    {
      "cell_type": "code",
      "metadata": {
        "id": "cwUPeA3JZZph"
      },
      "source": [
        "all_labels_union_b = []\r\n",
        "# For debugging\r\n",
        "count = 0\r\n",
        "# Iterate all tweets including duplicate labels\r\n",
        "for id in all_labels_b.id.values:\r\n",
        "    priority = []\r\n",
        "    categories = []\r\n",
        "    count += 1\r\n",
        "    print(count)\r\n",
        "    # concatenate all labels for information type and prioritization task\r\n",
        "    for idx in range(len(all_labels_b)):\r\n",
        "      if id == all_labels_b.iloc[idx].id:\r\n",
        "        priority += [all_labels_b.iloc[idx].priority]\r\n",
        "        categories += all_labels_b.iloc[idx].categories\r\n",
        "\r\n",
        "#     print(list(set(priority)))\r\n",
        "    all_labels_union_b.append({'id': id,'full_text':all_labels_b.iloc[idx].text, 'priority': list(set(priority)), 'categories': list(set(categories))})\r\n",
        "# Transer list to dataFrame\r\n",
        "all_labels_union_b = pd.DataFrame(all_labels_union_b)\r\n",
        "all_labels_union_b.to_csv('cache/all_labeled_duplicated_b.csv')\r\n",
        "all_labels_union_b.drop_duplicates('id', keep='first', inplace=True)\r\n",
        "all_labels_union_b.to_csv('cache/all_labeled_b.csv')"
      ],
      "execution_count": null,
      "outputs": []
    },
    {
      "cell_type": "code",
      "metadata": {
        "id": "iUP2IyAHZbId"
      },
      "source": [
        "frame = all_labels_union_b.copy()"
      ],
      "execution_count": null,
      "outputs": []
    },
    {
      "cell_type": "code",
      "metadata": {
        "id": "tcT_9cNBZc81"
      },
      "source": [
        "frame.index = np.arange(len(frame))\r\n",
        "categories = ['Low', 'Medium', 'High', 'Critical']\r\n",
        "for idx in range(len(frame)):\r\n",
        "    length = len(frame.loc[idx, 'priority'])\r\n",
        "    final_label = None\r\n",
        "    print(idx)\r\n",
        "\r\n",
        "    if length >= 3:\r\n",
        "        number_count = [0, 0, 0, 0]\r\n",
        "        for priority_label in frame.loc[idx, 'priority']:\r\n",
        "            if priority_label == 'Low':\r\n",
        "                number_count[0] += 1\r\n",
        "            elif priority_label == 'Medium':\r\n",
        "                number_count[1] += 1\r\n",
        "            elif priority_label == 'High':\r\n",
        "                number_count[2] += 1\r\n",
        "            else:\r\n",
        "                number_count[3] += 1\r\n",
        "        final_label = categories[np.argmax(np.array(number_count))]\r\n",
        "    else:\r\n",
        "        final_label = frame.loc[idx, 'priority'][0]\r\n",
        "        # print(final_label)\r\n",
        "        frame.loc[idx, 'priority'] = final_label\r\n",
        "        \r\n",
        "cv19_b_run_labeled = frame"
      ],
      "execution_count": null,
      "outputs": []
    },
    {
      "cell_type": "code",
      "metadata": {
        "id": "TQFtsu68ZeRz"
      },
      "source": [
        "cv19_b_run_labeled"
      ],
      "execution_count": null,
      "outputs": []
    },
    {
      "cell_type": "code",
      "metadata": {
        "colab": {
          "base_uri": "https://localhost:8080/"
        },
        "id": "9xcWZHlJ7IVL",
        "outputId": "013ddb1d-b466-4407-f8d0-75d9ed47f605"
      },
      "source": [
        "tmp = all_labels_b.groupby('id').count().reset_index()\r\n",
        "ids = tmp[tmp['text'] >= 2]['id']\r\n",
        "print(len(ids))\r\n",
        "consist_num  = 0\r\n",
        "for id in ids:\r\n",
        "  labels = []\r\n",
        "  for label in all_labels_b[all_labels_b['id'] == id].priority:\r\n",
        "    labels.append(label)\r\n",
        "  consist = len(set(labels))\r\n",
        "  if consist == 1:\r\n",
        "    consist_num += 1\r\n",
        "consist_num "
      ],
      "execution_count": null,
      "outputs": [
        {
          "output_type": "stream",
          "text": [
            "459\n"
          ],
          "name": "stdout"
        },
        {
          "output_type": "execute_result",
          "data": {
            "text/plain": [
              "203"
            ]
          },
          "metadata": {
            "tags": []
          },
          "execution_count": 65
        }
      ]
    },
    {
      "cell_type": "code",
      "metadata": {
        "colab": {
          "base_uri": "https://localhost:8080/"
        },
        "id": "8BDlWfmj-aO-",
        "outputId": "7e886ec5-ab8f-4971-fcca-faf4528d12bc"
      },
      "source": [
        "labels = []\r\n",
        "for label in all_labels_b[all_labels_b['id'] == 1296130571672997889].priority:\r\n",
        "  labels.append(label)\r\n",
        "len(set(labels)) == 1"
      ],
      "execution_count": null,
      "outputs": [
        {
          "output_type": "execute_result",
          "data": {
            "text/plain": [
              "True"
            ]
          },
          "metadata": {
            "tags": []
          },
          "execution_count": 60
        }
      ]
    },
    {
      "cell_type": "markdown",
      "metadata": {
        "id": "EST_HkrfjtB_"
      },
      "source": [
        "## Load data"
      ]
    },
    {
      "cell_type": "code",
      "metadata": {
        "id": "On_uy9UEj-tj"
      },
      "source": [
        "import os\r\n",
        "from covid_tools import *\r\n",
        "from BERTs import *"
      ],
      "execution_count": null,
      "outputs": []
    },
    {
      "cell_type": "code",
      "metadata": {
        "id": "Usdb98wtnKZD"
      },
      "source": [
        "# load orginal data(COVID-19 TREC-IS 2020 task) from json file.\r\n",
        "data_folder = 'data' + os.sep + 'TREC_IS_2020' + os.sep + 'COVID_19'\r\n",
        "# TREC-IS A run data set\r\n",
        "cv19_dc = pd.read_json( data_folder + os.sep + 'cv19_dc_test.json',lines=True,orient='records')\r\n",
        "cv19_ws = pd.read_json(data_folder + os.sep + 'cv19_washington_state_test.json',lines=True,orient='records')\r\n",
        "cv19_ny = pd.read_json(data_folder + os.sep + 'cv19_nyc_test.json',lines=True,orient='records')\r\n",
        "cv19_a_run_info_labeled = pd.read_csv(data_folder + os.sep + 'cv19_TREC_2020_all_labeled_A.csv',\r\n",
        "                           converters={\"priority\": lambda x: x.strip(\"[]\").replace(\"'\", \"\").split(\", \"),\r\n",
        "                                       \"categories\": lambda x: x.strip(\"[]\").replace(\"'\", \"\").split(\", \")})\r\n",
        "cv19_dc_labeled = pd.merge(cv19_dc,cv19_a_run_info_labeled,on=['id'])\r\n",
        "cv19_ws_labeled = pd.merge(cv19_ws,cv19_a_run_info_labeled,on=['id'])\r\n",
        "cv19_ny_labeled = pd.merge(cv19_ny,cv19_a_run_info_labeled,on=['id'])\r\n",
        "\r\n",
        "cv19_dc_labeled = Process_labels.extract_majority_vote_label(cv19_dc_labeled)\r\n",
        "cv19_ny_labeled = Process_labels.extract_majority_vote_label(cv19_ny_labeled)\r\n",
        "cv19_ws_labeled = Process_labels.extract_majority_vote_label(cv19_ws_labeled)\r\n",
        "\r\n",
        "temp = [cv19_dc_labeled,cv19_ny_labeled,cv19_ws_labeled ]\r\n",
        "cv19_a_run_info_labeled =  pd.concat(temp)\r\n",
        "\r\n",
        "cv19_a_run_info_labeled = cv19_a_run_info_labeled.reset_index()\r\n",
        "\r\n",
        "cv19_a_run_info_labeled = Process_labels.extract_hashtags(cv19_a_run_info_labeled)"
      ],
      "execution_count": null,
      "outputs": []
    },
    {
      "cell_type": "code",
      "metadata": {
        "id": "ghvGdA9hzhwu"
      },
      "source": [
        "cv19_b_run_info_labeled = pd.read_csv(data_folder + os.sep + 'cv19_TREC_2020_all_labeled_B.csv',\r\n",
        "                           converters={\"priority\": lambda x: x.strip(\"[]\").replace(\"'\", \"\").split(\", \"),\r\n",
        "                                       \"categories\": lambda x: x.strip(\"[]\").replace(\"'\", \"\").split(\", \")})\r\n",
        "\r\n",
        "cv19_Houston_2020 = pd.read_json(data_folder + os.sep + 'cv_Houston2020.json',lines=True,orient='records')\r\n",
        "cv19_Atlanta_2020 = pd.read_json(data_folder + os.sep + 'cv_Atlanta2020.json',lines=True,orient='records')\r\n",
        "cv19_Melbourne2020 = pd.read_json(data_folder + os.sep + 'cv_Melbourne2020.json',lines=True,orient='records')\r\n",
        "cv19_NYC_2020 = pd.read_json(data_folder + os.sep + 'cv_NYC2020.json',lines=True,orient='records')\r\n",
        "cv19_acksonville_2020 = pd.read_json(data_folder + os.sep + 'cv_Jacksonville2020.json',lines=True,orient='records')\r\n",
        "\r\n",
        "# Merge original dataset with lablled dataset based on id of tweets\r\n",
        "cv19_Houston_2020_labeled = pd.merge(cv19_Houston_2020, cv19_b_run_info_labeled,on=['id'])\r\n",
        "cv19_Atlanta_2020_labeled = pd.merge(cv19_Atlanta_2020, cv19_b_run_info_labeled,on=['id'])\r\n",
        "cv19_Melbourne2020_labeled = pd.merge(cv19_Melbourne2020, cv19_b_run_info_labeled,on=['id'])\r\n",
        "cv19_NYC_2020_labeled = pd.merge(cv19_NYC_2020, cv19_b_run_info_labeled, on=['id'])\r\n",
        "cv19_acksonville_2020_labeled = pd.merge(cv19_acksonville_2020,cv19_b_run_info_labeled, on=['id'])\r\n",
        "\r\n",
        "temp = [cv19_Houston_2020_labeled,cv19_Atlanta_2020_labeled,cv19_Melbourne2020_labeled,cv19_NYC_2020_labeled, cv19_acksonville_2020_labeled ]\r\n",
        "cv19_b_run_info_labeled =  pd.concat(temp)\r\n",
        "cv19_b_run_info_labeled = cv19_b_run_info_labeled.reset_index()\r\n",
        "\r\n",
        "cv19_b_run_info_labeled = Process_labels.extract_majority_vote_label(cv19_b_run_info_labeled)\r\n",
        "\r\n",
        "\r\n",
        "cv19_b_run_info_labeled = Process_labels.extract_hashtags(cv19_b_run_info_labeled)"
      ],
      "execution_count": null,
      "outputs": []
    },
    {
      "cell_type": "code",
      "metadata": {
        "id": "AT0eI4dHZuIY"
      },
      "source": [
        "cv19_b_run_info_labeled = cv19_b_run_info_labeled.rename(columns={'full_text_x':'full_text'})\r\n",
        "categories = ['GoodsServices','InformationWanted','Volunteer','EmergingThreats','NewSubEvent','ServiceAvailable','Advice',]\r\n",
        "\r\n",
        "# # Extract training set\r\n",
        "# featureList = ['full_text'] #,'favorited'\r\n",
        "# dataset_inputs = extract_features(Tweets,featureList)\r\n",
        "\r\n",
        "# Extract labels\r\n",
        "labelList = ['categories']\r\n",
        "a_info_num_labels = Process_labels.extract_features(cv19_a_run_info_labeled,labelList)['categories']\r\n",
        "b_info_num_labels = Process_labels.extract_features(cv19_b_run_info_labeled,labelList)['categories']\r\n",
        "# Transfer a list of text labels into a list of number labels, like [0,1,0,0,0,0,0]\r\n",
        "a_info_num_labels = Process_labels.extractLabels(cv19_a_run_info_labeled,a_info_num_labels)\r\n",
        "b_info_num_labels = Process_labels.extractLabels(cv19_b_run_info_labeled,b_info_num_labels )"
      ],
      "execution_count": null,
      "outputs": []
    },
    {
      "cell_type": "code",
      "metadata": {
        "id": "Pnz4hFqSZ6TN"
      },
      "source": [
        "a_priority_num_labels = cv19_a_run_info_labeled.priority\r\n",
        "b_priority_num_labels = cv19_b_run_info_labeled.priority"
      ],
      "execution_count": null,
      "outputs": []
    },
    {
      "cell_type": "code",
      "metadata": {
        "id": "RdjvJqfQaYa5",
        "colab": {
          "base_uri": "https://localhost:8080/"
        },
        "outputId": "523b04bc-a646-467b-9d42-0ffe680e9ac5"
      },
      "source": [
        "categories = ['GoodsServices','InformationWanted','Volunteer','EmergingThreats','NewSubEvent','ServiceAvailable','Advice']\r\n",
        "# Sperate labels for each category and store them in one dict\r\n",
        "# A dict Contains labels for all categories e.g. trainL_single[category]\r\n",
        "labels_single_a = Process_labels.build_single_label(a_info_num_labels,categories)\r\n",
        "labels_single_b = Process_labels.build_single_label(b_info_num_labels, categories)"
      ],
      "execution_count": null,
      "outputs": [
        {
          "output_type": "stream",
          "text": [
            "Currrent is processing on categorie GoodsServices\n",
            "\n",
            "Currrent is processing on categorie InformationWanted\n",
            "\n",
            "Currrent is processing on categorie Volunteer\n",
            "\n",
            "Currrent is processing on categorie EmergingThreats\n",
            "\n",
            "Currrent is processing on categorie NewSubEvent\n",
            "\n",
            "Currrent is processing on categorie ServiceAvailable\n",
            "\n",
            "Currrent is processing on categorie Advice\n",
            "\n",
            "Currrent is processing on categorie GoodsServices\n",
            "\n",
            "Currrent is processing on categorie InformationWanted\n",
            "\n",
            "Currrent is processing on categorie Volunteer\n",
            "\n",
            "Currrent is processing on categorie EmergingThreats\n",
            "\n",
            "Currrent is processing on categorie NewSubEvent\n",
            "\n",
            "Currrent is processing on categorie ServiceAvailable\n",
            "\n",
            "Currrent is processing on categorie Advice\n",
            "\n"
          ],
          "name": "stdout"
        }
      ]
    },
    {
      "cell_type": "markdown",
      "metadata": {
        "id": "Loy8nfHiarWg"
      },
      "source": [
        "# info classification"
      ]
    },
    {
      "cell_type": "code",
      "metadata": {
        "id": "_E-uUJuOavHM"
      },
      "source": [
        "#preprossesing\r\n",
        "# from nltk.corpus import stopwords\r\n",
        "# nltk.download('stopwords')\r\n",
        "# from nltk.tokenize import word_tokenize\r\n",
        "\r\n",
        "# Use Spacy as nlp tool\r\n",
        "nlp = spacy.load('en_core_web_sm')\r\n",
        "all_stopwords = nlp.Defaults.stop_words\r\n",
        "# Do not remove 'not' as stopword\r\n",
        "if 'not' in all_stopwords:\r\n",
        "  all_stopwords.remove('not')\r\n",
        "if 'no' in all_stopwords:\r\n",
        "  all_stopwords.remove('no')\r\n",
        "\r\n",
        "\r\n",
        "# Speed up the processing of Spacy\r\n",
        "disable=['ner']\r\n",
        "nlp.remove_pipe('tagger')\r\n",
        "nlp.remove_pipe('parser')\r\n",
        "# These three functions are learnt from course named Text as data\r\n",
        "def spacy_tokenize(string):\r\n",
        "  tokens = list()\r\n",
        "  doc = nlp(string)\r\n",
        "  for token in doc:\r\n",
        "    tokens.append(token)\r\n",
        "  return tokens\r\n",
        "\r\n",
        "#@Normalize\r\n",
        "def normalize(tokens):\r\n",
        "  normalized_tokens = list()\r\n",
        "  for token in tokens:\r\n",
        "    normalized = token.text.lower().strip()\r\n",
        "    if (not token.is_stop):\r\n",
        "        if ((token.is_alpha or token.is_digit or token.like_url)):\r\n",
        "            normalized_tokens.append(normalized)\r\n",
        "  return normalized_tokens\r\n",
        "\r\n",
        "#@Tokenize and normalize\r\n",
        "def tokenize_normalize(string):\r\n",
        "  return normalize(spacy_tokenize(string))\r\n",
        "\r\n",
        "count_vect = CountVectorizer(tokenizer=tokenize_normalize)\r\n",
        "Tfidf_vect = TfidfVectorizer(tokenizer=tokenize_normalize,max_features=25000,ngram_range=(1,2),sublinear_tf=(1,2))\r\n",
        "    "
      ],
      "execution_count": null,
      "outputs": []
    },
    {
      "cell_type": "markdown",
      "metadata": {
        "id": "Xjnwa-g9bDdB"
      },
      "source": [
        "## Cross event validtation"
      ]
    },
    {
      "cell_type": "markdown",
      "metadata": {
        "id": "ntW4_CNrEqvt"
      },
      "source": [
        "#### TF-idf and count vectorizer"
      ]
    },
    {
      "cell_type": "code",
      "metadata": {
        "id": "R0jj5zuGEqTZ"
      },
      "source": [
        "count_vect = CountVectorizer(tokenizer=tokenize_normalize)\r\n",
        "Tfidf_vect = TfidfVectorizer(tokenizer=tokenize_normalize,max_features=25000,ngram_range=(1,2),sublinear_tf=(1,2))"
      ],
      "execution_count": null,
      "outputs": []
    },
    {
      "cell_type": "code",
      "metadata": {
        "id": "Lj2xhjltbCeY"
      },
      "source": [
        "a_batch = [cv19_a_run_info_labeled, labels_single_a]\r\n",
        "b_batch = [cv19_b_run_info_labeled, labels_single_b]\r\n",
        "best_over_sample_factors = [24,44,7,4,4,4,1]\r\n",
        "\r\n",
        "for i in range(6, 7):\r\n",
        "    section_category = i\r\n",
        "    increase_time = best_over_sample_factors[i]\r\n",
        "    Classical_classifiers.cross_event_validate_lr_info_task(section_category, a_batch, b_batch,increase_time, full_text_vectorizer=Tfidf_vect, hash_tags_vectorizer=count_vect\r\n",
        "                        )\r\n"
      ],
      "execution_count": null,
      "outputs": []
    },
    {
      "cell_type": "code",
      "metadata": {
        "id": "CjtC3VpNe7LP"
      },
      "source": [
        ""
      ],
      "execution_count": null,
      "outputs": []
    },
    {
      "cell_type": "code",
      "metadata": {
        "id": "htq3nCqua2BL"
      },
      "source": [
        ""
      ],
      "execution_count": null,
      "outputs": []
    },
    {
      "cell_type": "markdown",
      "metadata": {
        "id": "K2sXvi4Ya2YN"
      },
      "source": [
        "## SVM"
      ]
    },
    {
      "cell_type": "markdown",
      "metadata": {
        "id": "uukXOtBebiVF"
      },
      "source": [
        "#### 1. tf-idf + count"
      ]
    },
    {
      "cell_type": "code",
      "metadata": {
        "id": "3its4DEia3rq",
        "colab": {
          "base_uri": "https://localhost:8080/"
        },
        "outputId": "c9062b33-3ec4-4970-f4c9-715b22a3da8b"
      },
      "source": [
        "train_features = cv19_a_run_info_labeled[:int(len(cv19_a_run_info_labeled)*0.8)]\r\n",
        "\r\n",
        "test_features = cv19_a_run_info_labeled[int(len(cv19_a_run_info_labeled)*0.8) :]\r\n",
        "\r\n",
        "featureList = ['full_text','hashtags','favorite_count'] #,'favorited'\r\n",
        "train_features = Process_labels.extract_features(train_features,featureList)\r\n",
        "\r\n",
        "\r\n",
        "# best_over_sample_factors = [24,44,7,4,4,4,1]\r\n",
        "best_over_sample_factors = [24,44,7,4,4,4,1]\r\n",
        "vectorizers = [Tfidf_vect , count_vect]\r\n",
        "for i in range(7):\r\n",
        "    print(\"Currently is processing %d\" %(i))\r\n",
        "    section_category = i\r\n",
        "    train_labels = labels_single_a[section_category][:int(len(cv19_a_run_info_labeled)*0.8)]\r\n",
        "    test_labels = labels_single_a[section_category][int(len(cv19_a_run_info_labeled)*0.8) :]\r\n",
        "    running_set = [train_features, train_labels, test_features, test_labels]\r\n",
        "    Classical_classifiers.svm(running_set, vectorizers, section_category, over_sample_targets=[1], increase_factor=best_over_sample_factors[i],\r\n",
        "                        )"
      ],
      "execution_count": null,
      "outputs": [
        {
          "output_type": "stream",
          "text": [
            "Currently is processing 0\n",
            "Over-sample data set\n",
            "feature-union\n",
            "Train with feature union\n"
          ],
          "name": "stdout"
        },
        {
          "output_type": "stream",
          "text": [
            "c:\\users\\longkuku\\appdata\\local\\programs\\python\\python37\\lib\\site-packages\\sklearn\\metrics\\_classification.py:1245: UndefinedMetricWarning: Precision is ill-defined and being set to 0.0 due to no predicted samples. Use `zero_division` parameter to control this behavior.\n",
            "  _warn_prf(average, modifier, msg_start, len(result))\n",
            "c:\\users\\longkuku\\appdata\\local\\programs\\python\\python37\\lib\\site-packages\\sklearn\\metrics\\_classification.py:1245: UndefinedMetricWarning: Precision is ill-defined and being set to 0.0 due to no predicted samples. Use `zero_division` parameter to control this behavior.\n",
            "  _warn_prf(average, modifier, msg_start, len(result))\n",
            "c:\\users\\longkuku\\appdata\\local\\programs\\python\\python37\\lib\\site-packages\\sklearn\\metrics\\_classification.py:1245: UndefinedMetricWarning: Precision is ill-defined and being set to 0.0 due to no predicted samples. Use `zero_division` parameter to control this behavior.\n",
            "  _warn_prf(average, modifier, msg_start, len(result))\n",
            "c:\\users\\longkuku\\appdata\\local\\programs\\python\\python37\\lib\\site-packages\\sklearn\\metrics\\_classification.py:1245: UndefinedMetricWarning: Precision is ill-defined and being set to 0.0 due to no predicted samples. Use `zero_division` parameter to control this behavior.\n",
            "  _warn_prf(average, modifier, msg_start, len(result))\n",
            "c:\\users\\longkuku\\appdata\\local\\programs\\python\\python37\\lib\\site-packages\\sklearn\\metrics\\_classification.py:1245: UndefinedMetricWarning: Precision is ill-defined and being set to 0.0 due to no predicted samples. Use `zero_division` parameter to control this behavior.\n",
            "  _warn_prf(average, modifier, msg_start, len(result))\n",
            "c:\\users\\longkuku\\appdata\\local\\programs\\python\\python37\\lib\\site-packages\\sklearn\\metrics\\_classification.py:1245: UndefinedMetricWarning: Precision is ill-defined and being set to 0.0 due to no predicted samples. Use `zero_division` parameter to control this behavior.\n",
            "  _warn_prf(average, modifier, msg_start, len(result))\n",
            "c:\\users\\longkuku\\appdata\\local\\programs\\python\\python37\\lib\\site-packages\\sklearn\\metrics\\_classification.py:1245: UndefinedMetricWarning: Precision is ill-defined and being set to 0.0 due to no predicted samples. Use `zero_division` parameter to control this behavior.\n",
            "  _warn_prf(average, modifier, msg_start, len(result))\n",
            "c:\\users\\longkuku\\appdata\\local\\programs\\python\\python37\\lib\\site-packages\\sklearn\\metrics\\_classification.py:1245: UndefinedMetricWarning: Precision is ill-defined and being set to 0.0 due to no predicted samples. Use `zero_division` parameter to control this behavior.\n",
            "  _warn_prf(average, modifier, msg_start, len(result))\n",
            "c:\\users\\longkuku\\appdata\\local\\programs\\python\\python37\\lib\\site-packages\\sklearn\\metrics\\_classification.py:1245: UndefinedMetricWarning: Precision is ill-defined and being set to 0.0 due to no predicted samples. Use `zero_division` parameter to control this behavior.\n",
            "  _warn_prf(average, modifier, msg_start, len(result))\n",
            "c:\\users\\longkuku\\appdata\\local\\programs\\python\\python37\\lib\\site-packages\\sklearn\\metrics\\_classification.py:1245: UndefinedMetricWarning: Precision is ill-defined and being set to 0.0 due to no predicted samples. Use `zero_division` parameter to control this behavior.\n",
            "  _warn_prf(average, modifier, msg_start, len(result))\n",
            "c:\\users\\longkuku\\appdata\\local\\programs\\python\\python37\\lib\\site-packages\\sklearn\\metrics\\_classification.py:1245: UndefinedMetricWarning: Recall is ill-defined and being set to 0.0 due to no true samples. Use `zero_division` parameter to control this behavior.\n",
            "  _warn_prf(average, modifier, msg_start, len(result))\n",
            "c:\\users\\longkuku\\appdata\\local\\programs\\python\\python37\\lib\\site-packages\\sklearn\\utils\\validation.py:72: FutureWarning: Pass beta=1 as keyword args. From version 1.0 (renaming of 0.25) passing these as positional arguments will result in an error\n",
            "  \"will result in an error\", FutureWarning)\n",
            "c:\\users\\longkuku\\appdata\\local\\programs\\python\\python37\\lib\\site-packages\\sklearn\\metrics\\_classification.py:1245: UndefinedMetricWarning: Recall and F-score are ill-defined and being set to 0.0 in labels with no true samples. Use `zero_division` parameter to control this behavior.\n",
            "  _warn_prf(average, modifier, msg_start, len(result))\n",
            "c:\\users\\longkuku\\appdata\\local\\programs\\python\\python37\\lib\\site-packages\\sklearn\\metrics\\_classification.py:1245: UndefinedMetricWarning: Recall and F-score are ill-defined and being set to 0.0 in labels with no true samples. Use `zero_division` parameter to control this behavior.\n",
            "  _warn_prf(average, modifier, msg_start, len(result))\n",
            "c:\\users\\longkuku\\appdata\\local\\programs\\python\\python37\\lib\\site-packages\\sklearn\\metrics\\_classification.py:1245: UndefinedMetricWarning: Recall and F-score are ill-defined and being set to 0.0 in labels with no true samples. Use `zero_division` parameter to control this behavior.\n",
            "  _warn_prf(average, modifier, msg_start, len(result))\n",
            "c:\\users\\longkuku\\appdata\\local\\programs\\python\\python37\\lib\\site-packages\\sklearn\\metrics\\_classification.py:1245: UndefinedMetricWarning: Recall is ill-defined and being set to 0.0 due to no true samples. Use `zero_division` parameter to control this behavior.\n",
            "  _warn_prf(average, modifier, msg_start, len(result))\n",
            "c:\\users\\longkuku\\appdata\\local\\programs\\python\\python37\\lib\\site-packages\\sklearn\\utils\\validation.py:72: FutureWarning: Pass beta=1 as keyword args. From version 1.0 (renaming of 0.25) passing these as positional arguments will result in an error\n",
            "  \"will result in an error\", FutureWarning)\n",
            "c:\\users\\longkuku\\appdata\\local\\programs\\python\\python37\\lib\\site-packages\\sklearn\\metrics\\_classification.py:1245: UndefinedMetricWarning: Recall and F-score are ill-defined and being set to 0.0 in labels with no true samples. Use `zero_division` parameter to control this behavior.\n",
            "  _warn_prf(average, modifier, msg_start, len(result))\n",
            "c:\\users\\longkuku\\appdata\\local\\programs\\python\\python37\\lib\\site-packages\\sklearn\\metrics\\_classification.py:1245: UndefinedMetricWarning: Recall and F-score are ill-defined and being set to 0.0 in labels with no true samples. Use `zero_division` parameter to control this behavior.\n",
            "  _warn_prf(average, modifier, msg_start, len(result))\n"
          ],
          "name": "stderr"
        },
        {
          "output_type": "stream",
          "text": [
            "Cross validation: Average training set result: test_accuracy=0.997362 test_precision=0.000000 test_f1=0.000000 test_recall=0.000000 .\n",
            "\n",
            "Cross validation: Average validation set result: train_accuracy=0.997362 train_precision=0.000000 train_f1=0.000000 train_recall=0.000000 .\n",
            "\n",
            "Evaluating on test set:\n",
            "Evaluation for: SVMresult on test set\n",
            "Classifier 'SVMresult on test set' has Acc=0.999 P=0.000 R=0.000 F1=0.000\n",
            "              precision    recall  f1-score   support\n",
            "\n",
            "           0      1.000     0.999     0.999      1517\n",
            "           1      0.000     0.000     0.000         0\n",
            "\n",
            "    accuracy                          0.999      1517\n",
            "   macro avg      0.500     0.499     0.500      1517\n",
            "weighted avg      1.000     0.999     0.999      1517\n",
            "\n",
            "Simple test result:\n",
            "Prediction result: {'accuracy': 0.998681608437706, 'precision': 0.0, 'f1': 0.0, 'recall': 0.0}\n",
            "              precision    recall  f1-score   support\n",
            "\n",
            "           0     1.0000    0.9987    0.9993      1517\n",
            "           1     0.0000    0.0000    0.0000         0\n",
            "\n",
            "    accuracy                         0.9987      1517\n",
            "   macro avg     0.5000    0.4993    0.4997      1517\n",
            "weighted avg     1.0000    0.9987    0.9993      1517\n",
            "\n",
            "Train with feature union + over-sample\n"
          ],
          "name": "stdout"
        },
        {
          "output_type": "stream",
          "text": [
            "c:\\users\\longkuku\\appdata\\local\\programs\\python\\python37\\lib\\site-packages\\sklearn\\metrics\\_classification.py:1245: UndefinedMetricWarning: Recall and F-score are ill-defined and being set to 0.0 in labels with no true samples. Use `zero_division` parameter to control this behavior.\n",
            "  _warn_prf(average, modifier, msg_start, len(result))\n",
            "c:\\users\\longkuku\\appdata\\local\\programs\\python\\python37\\lib\\site-packages\\sklearn\\metrics\\_classification.py:1245: UndefinedMetricWarning: Precision is ill-defined and being set to 0.0 due to no predicted samples. Use `zero_division` parameter to control this behavior.\n",
            "  _warn_prf(average, modifier, msg_start, len(result))\n",
            "c:\\users\\longkuku\\appdata\\local\\programs\\python\\python37\\lib\\site-packages\\sklearn\\metrics\\_classification.py:1245: UndefinedMetricWarning: Precision is ill-defined and being set to 0.0 due to no predicted samples. Use `zero_division` parameter to control this behavior.\n",
            "  _warn_prf(average, modifier, msg_start, len(result))\n",
            "c:\\users\\longkuku\\appdata\\local\\programs\\python\\python37\\lib\\site-packages\\sklearn\\metrics\\_classification.py:1245: UndefinedMetricWarning: Precision is ill-defined and being set to 0.0 due to no predicted samples. Use `zero_division` parameter to control this behavior.\n",
            "  _warn_prf(average, modifier, msg_start, len(result))\n"
          ],
          "name": "stderr"
        },
        {
          "output_type": "stream",
          "text": [
            "Cross validation: Average training set result: test_accuracy=0.937519 test_precision=0.200000 test_f1=0.004938 test_recall=0.002500 .\n",
            "\n",
            "Cross validation: Average validation set result: train_accuracy=0.941202 train_precision=0.689327 train_f1=0.113550 train_recall=0.061875 .\n",
            "\n",
            "Evaluating on test set:\n",
            "Evaluation for: SVMresult on test set\n",
            "Classifier 'SVMresult on test set' has Acc=0.998 P=0.000 R=0.000 F1=0.000\n",
            "              precision    recall  f1-score   support\n",
            "\n",
            "           0      0.999     0.999     0.999      1516\n",
            "           1      0.000     0.000     0.000         1\n",
            "\n",
            "    accuracy                          0.998      1517\n",
            "   macro avg      0.500     0.499     0.500      1517\n",
            "weighted avg      0.999     0.998     0.998      1517\n",
            "\n",
            "Simple test result:\n",
            "Prediction result: {'accuracy': 0.998022412656559, 'precision': 0.0, 'f1': 0.0, 'recall': 0.0}\n",
            "              precision    recall  f1-score   support\n",
            "\n",
            "           0     0.9993    0.9987    0.9990      1516\n",
            "           1     0.0000    0.0000    0.0000         1\n",
            "\n",
            "    accuracy                         0.9980      1517\n",
            "   macro avg     0.4997    0.4993    0.4995      1517\n",
            "weighted avg     0.9987    0.9980    0.9984      1517\n",
            "\n",
            "This compuation takes: 0:06:27\n",
            "Currently is processing 1\n",
            "Over-sample data set\n",
            "feature-union\n"
          ],
          "name": "stdout"
        },
        {
          "output_type": "stream",
          "text": [
            "c:\\users\\longkuku\\appdata\\local\\programs\\python\\python37\\lib\\site-packages\\sklearn\\utils\\validation.py:72: FutureWarning: Pass beta=1 as keyword args. From version 1.0 (renaming of 0.25) passing these as positional arguments will result in an error\n",
            "  \"will result in an error\", FutureWarning)\n",
            "c:\\users\\longkuku\\appdata\\local\\programs\\python\\python37\\lib\\site-packages\\sklearn\\utils\\validation.py:72: FutureWarning: Pass beta=1 as keyword args. From version 1.0 (renaming of 0.25) passing these as positional arguments will result in an error\n",
            "  \"will result in an error\", FutureWarning)\n"
          ],
          "name": "stderr"
        },
        {
          "output_type": "stream",
          "text": [
            "Train with feature union\n"
          ],
          "name": "stdout"
        },
        {
          "output_type": "stream",
          "text": [
            "c:\\users\\longkuku\\appdata\\local\\programs\\python\\python37\\lib\\site-packages\\sklearn\\metrics\\_classification.py:1245: UndefinedMetricWarning: Precision is ill-defined and being set to 0.0 due to no predicted samples. Use `zero_division` parameter to control this behavior.\n",
            "  _warn_prf(average, modifier, msg_start, len(result))\n",
            "c:\\users\\longkuku\\appdata\\local\\programs\\python\\python37\\lib\\site-packages\\sklearn\\metrics\\_classification.py:1245: UndefinedMetricWarning: Precision is ill-defined and being set to 0.0 due to no predicted samples. Use `zero_division` parameter to control this behavior.\n",
            "  _warn_prf(average, modifier, msg_start, len(result))\n",
            "c:\\users\\longkuku\\appdata\\local\\programs\\python\\python37\\lib\\site-packages\\sklearn\\metrics\\_classification.py:1245: UndefinedMetricWarning: Precision is ill-defined and being set to 0.0 due to no predicted samples. Use `zero_division` parameter to control this behavior.\n",
            "  _warn_prf(average, modifier, msg_start, len(result))\n",
            "c:\\users\\longkuku\\appdata\\local\\programs\\python\\python37\\lib\\site-packages\\sklearn\\metrics\\_classification.py:1245: UndefinedMetricWarning: Precision is ill-defined and being set to 0.0 due to no predicted samples. Use `zero_division` parameter to control this behavior.\n",
            "  _warn_prf(average, modifier, msg_start, len(result))\n",
            "c:\\users\\longkuku\\appdata\\local\\programs\\python\\python37\\lib\\site-packages\\sklearn\\metrics\\_classification.py:1245: UndefinedMetricWarning: Precision is ill-defined and being set to 0.0 due to no predicted samples. Use `zero_division` parameter to control this behavior.\n",
            "  _warn_prf(average, modifier, msg_start, len(result))\n",
            "c:\\users\\longkuku\\appdata\\local\\programs\\python\\python37\\lib\\site-packages\\sklearn\\metrics\\_classification.py:1245: UndefinedMetricWarning: Precision is ill-defined and being set to 0.0 due to no predicted samples. Use `zero_division` parameter to control this behavior.\n",
            "  _warn_prf(average, modifier, msg_start, len(result))\n",
            "c:\\users\\longkuku\\appdata\\local\\programs\\python\\python37\\lib\\site-packages\\sklearn\\metrics\\_classification.py:1245: UndefinedMetricWarning: Precision is ill-defined and being set to 0.0 due to no predicted samples. Use `zero_division` parameter to control this behavior.\n",
            "  _warn_prf(average, modifier, msg_start, len(result))\n",
            "c:\\users\\longkuku\\appdata\\local\\programs\\python\\python37\\lib\\site-packages\\sklearn\\metrics\\_classification.py:1245: UndefinedMetricWarning: Precision is ill-defined and being set to 0.0 due to no predicted samples. Use `zero_division` parameter to control this behavior.\n",
            "  _warn_prf(average, modifier, msg_start, len(result))\n",
            "c:\\users\\longkuku\\appdata\\local\\programs\\python\\python37\\lib\\site-packages\\sklearn\\metrics\\_classification.py:1245: UndefinedMetricWarning: Precision is ill-defined and being set to 0.0 due to no predicted samples. Use `zero_division` parameter to control this behavior.\n",
            "  _warn_prf(average, modifier, msg_start, len(result))\n",
            "c:\\users\\longkuku\\appdata\\local\\programs\\python\\python37\\lib\\site-packages\\sklearn\\metrics\\_classification.py:1245: UndefinedMetricWarning: Precision is ill-defined and being set to 0.0 due to no predicted samples. Use `zero_division` parameter to control this behavior.\n",
            "  _warn_prf(average, modifier, msg_start, len(result))\n"
          ],
          "name": "stderr"
        },
        {
          "output_type": "stream",
          "text": [
            "Cross validation: Average training set result: test_accuracy=0.997362 test_precision=0.000000 test_f1=0.000000 test_recall=0.000000 .\n",
            "\n",
            "Cross validation: Average validation set result: train_accuracy=0.997362 train_precision=0.000000 train_f1=0.000000 train_recall=0.000000 .\n",
            "\n",
            "Evaluating on test set:\n",
            "Evaluation for: SVMresult on test set\n",
            "Classifier 'SVMresult on test set' has Acc=0.995 P=0.000 R=0.000 F1=0.000\n",
            "              precision    recall  f1-score   support\n",
            "\n",
            "           0      1.000     0.995     0.998      1517\n",
            "           1      0.000     0.000     0.000         0\n",
            "\n",
            "    accuracy                          0.995      1517\n",
            "   macro avg      0.500     0.498     0.499      1517\n",
            "weighted avg      1.000     0.995     0.998      1517\n",
            "\n",
            "Simple test result:\n",
            "Prediction result: {'accuracy': 0.995385629531971, 'precision': 0.0, 'f1': 0.0, 'recall': 0.0}\n",
            "              precision    recall  f1-score   support\n",
            "\n",
            "           0     1.0000    0.9954    0.9977      1517\n",
            "           1     0.0000    0.0000    0.0000         0\n",
            "\n",
            "    accuracy                         0.9954      1517\n",
            "   macro avg     0.5000    0.4977    0.4988      1517\n",
            "weighted avg     1.0000    0.9954    0.9977      1517\n",
            "\n",
            "Train with feature union + over-sample\n"
          ],
          "name": "stdout"
        },
        {
          "output_type": "stream",
          "text": [
            "c:\\users\\longkuku\\appdata\\local\\programs\\python\\python37\\lib\\site-packages\\sklearn\\metrics\\_classification.py:1245: UndefinedMetricWarning: Recall is ill-defined and being set to 0.0 due to no true samples. Use `zero_division` parameter to control this behavior.\n",
            "  _warn_prf(average, modifier, msg_start, len(result))\n",
            "c:\\users\\longkuku\\appdata\\local\\programs\\python\\python37\\lib\\site-packages\\sklearn\\utils\\validation.py:72: FutureWarning: Pass beta=1 as keyword args. From version 1.0 (renaming of 0.25) passing these as positional arguments will result in an error\n",
            "  \"will result in an error\", FutureWarning)\n",
            "c:\\users\\longkuku\\appdata\\local\\programs\\python\\python37\\lib\\site-packages\\sklearn\\metrics\\_classification.py:1245: UndefinedMetricWarning: Recall and F-score are ill-defined and being set to 0.0 in labels with no true samples. Use `zero_division` parameter to control this behavior.\n",
            "  _warn_prf(average, modifier, msg_start, len(result))\n",
            "c:\\users\\longkuku\\appdata\\local\\programs\\python\\python37\\lib\\site-packages\\sklearn\\metrics\\_classification.py:1245: UndefinedMetricWarning: Recall and F-score are ill-defined and being set to 0.0 in labels with no true samples. Use `zero_division` parameter to control this behavior.\n",
            "  _warn_prf(average, modifier, msg_start, len(result))\n",
            "c:\\users\\longkuku\\appdata\\local\\programs\\python\\python37\\lib\\site-packages\\sklearn\\metrics\\_classification.py:1245: UndefinedMetricWarning: Recall and F-score are ill-defined and being set to 0.0 in labels with no true samples. Use `zero_division` parameter to control this behavior.\n",
            "  _warn_prf(average, modifier, msg_start, len(result))\n",
            "c:\\users\\longkuku\\appdata\\local\\programs\\python\\python37\\lib\\site-packages\\sklearn\\metrics\\_classification.py:1245: UndefinedMetricWarning: Recall is ill-defined and being set to 0.0 due to no true samples. Use `zero_division` parameter to control this behavior.\n",
            "  _warn_prf(average, modifier, msg_start, len(result))\n",
            "c:\\users\\longkuku\\appdata\\local\\programs\\python\\python37\\lib\\site-packages\\sklearn\\utils\\validation.py:72: FutureWarning: Pass beta=1 as keyword args. From version 1.0 (renaming of 0.25) passing these as positional arguments will result in an error\n",
            "  \"will result in an error\", FutureWarning)\n",
            "c:\\users\\longkuku\\appdata\\local\\programs\\python\\python37\\lib\\site-packages\\sklearn\\metrics\\_classification.py:1245: UndefinedMetricWarning: Recall and F-score are ill-defined and being set to 0.0 in labels with no true samples. Use `zero_division` parameter to control this behavior.\n",
            "  _warn_prf(average, modifier, msg_start, len(result))\n",
            "c:\\users\\longkuku\\appdata\\local\\programs\\python\\python37\\lib\\site-packages\\sklearn\\metrics\\_classification.py:1245: UndefinedMetricWarning: Recall and F-score are ill-defined and being set to 0.0 in labels with no true samples. Use `zero_division` parameter to control this behavior.\n",
            "  _warn_prf(average, modifier, msg_start, len(result))\n",
            "c:\\users\\longkuku\\appdata\\local\\programs\\python\\python37\\lib\\site-packages\\sklearn\\metrics\\_classification.py:1245: UndefinedMetricWarning: Recall and F-score are ill-defined and being set to 0.0 in labels with no true samples. Use `zero_division` parameter to control this behavior.\n",
            "  _warn_prf(average, modifier, msg_start, len(result))\n",
            "c:\\users\\longkuku\\appdata\\local\\programs\\python\\python37\\lib\\site-packages\\sklearn\\metrics\\_classification.py:1245: UndefinedMetricWarning: Precision is ill-defined and being set to 0.0 due to no predicted samples. Use `zero_division` parameter to control this behavior.\n",
            "  _warn_prf(average, modifier, msg_start, len(result))\n",
            "c:\\users\\longkuku\\appdata\\local\\programs\\python\\python37\\lib\\site-packages\\sklearn\\metrics\\_classification.py:1245: UndefinedMetricWarning: Precision is ill-defined and being set to 0.0 due to no predicted samples. Use `zero_division` parameter to control this behavior.\n",
            "  _warn_prf(average, modifier, msg_start, len(result))\n",
            "c:\\users\\longkuku\\appdata\\local\\programs\\python\\python37\\lib\\site-packages\\sklearn\\metrics\\_classification.py:1245: UndefinedMetricWarning: Precision is ill-defined and being set to 0.0 due to no predicted samples. Use `zero_division` parameter to control this behavior.\n",
            "  _warn_prf(average, modifier, msg_start, len(result))\n",
            "c:\\users\\longkuku\\appdata\\local\\programs\\python\\python37\\lib\\site-packages\\sklearn\\metrics\\_classification.py:1245: UndefinedMetricWarning: Precision is ill-defined and being set to 0.0 due to no predicted samples. Use `zero_division` parameter to control this behavior.\n",
            "  _warn_prf(average, modifier, msg_start, len(result))\n",
            "c:\\users\\longkuku\\appdata\\local\\programs\\python\\python37\\lib\\site-packages\\sklearn\\metrics\\_classification.py:1245: UndefinedMetricWarning: Precision is ill-defined and being set to 0.0 due to no predicted samples. Use `zero_division` parameter to control this behavior.\n",
            "  _warn_prf(average, modifier, msg_start, len(result))\n",
            "c:\\users\\longkuku\\appdata\\local\\programs\\python\\python37\\lib\\site-packages\\sklearn\\metrics\\_classification.py:1245: UndefinedMetricWarning: Precision is ill-defined and being set to 0.0 due to no predicted samples. Use `zero_division` parameter to control this behavior.\n",
            "  _warn_prf(average, modifier, msg_start, len(result))\n",
            "c:\\users\\longkuku\\appdata\\local\\programs\\python\\python37\\lib\\site-packages\\sklearn\\metrics\\_classification.py:1245: UndefinedMetricWarning: Precision is ill-defined and being set to 0.0 due to no predicted samples. Use `zero_division` parameter to control this behavior.\n",
            "  _warn_prf(average, modifier, msg_start, len(result))\n",
            "c:\\users\\longkuku\\appdata\\local\\programs\\python\\python37\\lib\\site-packages\\sklearn\\metrics\\_classification.py:1245: UndefinedMetricWarning: Precision is ill-defined and being set to 0.0 due to no predicted samples. Use `zero_division` parameter to control this behavior.\n",
            "  _warn_prf(average, modifier, msg_start, len(result))\n",
            "c:\\users\\longkuku\\appdata\\local\\programs\\python\\python37\\lib\\site-packages\\sklearn\\metrics\\_classification.py:1245: UndefinedMetricWarning: Precision is ill-defined and being set to 0.0 due to no predicted samples. Use `zero_division` parameter to control this behavior.\n",
            "  _warn_prf(average, modifier, msg_start, len(result))\n",
            "c:\\users\\longkuku\\appdata\\local\\programs\\python\\python37\\lib\\site-packages\\sklearn\\metrics\\_classification.py:1245: UndefinedMetricWarning: Precision is ill-defined and being set to 0.0 due to no predicted samples. Use `zero_division` parameter to control this behavior.\n",
            "  _warn_prf(average, modifier, msg_start, len(result))\n"
          ],
          "name": "stderr"
        },
        {
          "output_type": "stream",
          "text": [
            "Cross validation: Average training set result: test_accuracy=0.893648 test_precision=0.000000 test_f1=0.000000 test_recall=0.000000 .\n",
            "\n",
            "Cross validation: Average validation set result: train_accuracy=0.893648 train_precision=0.000000 train_f1=0.000000 train_recall=0.000000 .\n",
            "\n",
            "Evaluating on test set:\n",
            "Evaluation for: SVMresult on test set\n",
            "Classifier 'SVMresult on test set' has Acc=0.995 P=0.000 R=0.000 F1=0.000\n",
            "              precision    recall  f1-score   support\n",
            "\n",
            "           0      1.000     0.995     0.998      1517\n",
            "           1      0.000     0.000     0.000         0\n",
            "\n",
            "    accuracy                          0.995      1517\n",
            "   macro avg      0.500     0.498     0.499      1517\n",
            "weighted avg      1.000     0.995     0.998      1517\n",
            "\n",
            "Simple test result:\n",
            "Prediction result: {'accuracy': 0.995385629531971, 'precision': 0.0, 'f1': 0.0, 'recall': 0.0}\n",
            "              precision    recall  f1-score   support\n",
            "\n",
            "           0     1.0000    0.9954    0.9977      1517\n",
            "           1     0.0000    0.0000    0.0000         0\n",
            "\n",
            "    accuracy                         0.9954      1517\n",
            "   macro avg     0.5000    0.4977    0.4988      1517\n",
            "weighted avg     1.0000    0.9954    0.9977      1517\n",
            "\n",
            "This compuation takes: 0:06:38\n",
            "Currently is processing 2\n",
            "Over-sample data set\n",
            "feature-union\n"
          ],
          "name": "stdout"
        },
        {
          "output_type": "stream",
          "text": [
            "c:\\users\\longkuku\\appdata\\local\\programs\\python\\python37\\lib\\site-packages\\sklearn\\metrics\\_classification.py:1245: UndefinedMetricWarning: Recall is ill-defined and being set to 0.0 due to no true samples. Use `zero_division` parameter to control this behavior.\n",
            "  _warn_prf(average, modifier, msg_start, len(result))\n",
            "c:\\users\\longkuku\\appdata\\local\\programs\\python\\python37\\lib\\site-packages\\sklearn\\utils\\validation.py:72: FutureWarning: Pass beta=1 as keyword args. From version 1.0 (renaming of 0.25) passing these as positional arguments will result in an error\n",
            "  \"will result in an error\", FutureWarning)\n",
            "c:\\users\\longkuku\\appdata\\local\\programs\\python\\python37\\lib\\site-packages\\sklearn\\metrics\\_classification.py:1245: UndefinedMetricWarning: Recall and F-score are ill-defined and being set to 0.0 in labels with no true samples. Use `zero_division` parameter to control this behavior.\n",
            "  _warn_prf(average, modifier, msg_start, len(result))\n",
            "c:\\users\\longkuku\\appdata\\local\\programs\\python\\python37\\lib\\site-packages\\sklearn\\metrics\\_classification.py:1245: UndefinedMetricWarning: Recall and F-score are ill-defined and being set to 0.0 in labels with no true samples. Use `zero_division` parameter to control this behavior.\n",
            "  _warn_prf(average, modifier, msg_start, len(result))\n",
            "c:\\users\\longkuku\\appdata\\local\\programs\\python\\python37\\lib\\site-packages\\sklearn\\metrics\\_classification.py:1245: UndefinedMetricWarning: Recall and F-score are ill-defined and being set to 0.0 in labels with no true samples. Use `zero_division` parameter to control this behavior.\n",
            "  _warn_prf(average, modifier, msg_start, len(result))\n",
            "c:\\users\\longkuku\\appdata\\local\\programs\\python\\python37\\lib\\site-packages\\sklearn\\metrics\\_classification.py:1245: UndefinedMetricWarning: Recall is ill-defined and being set to 0.0 due to no true samples. Use `zero_division` parameter to control this behavior.\n",
            "  _warn_prf(average, modifier, msg_start, len(result))\n",
            "c:\\users\\longkuku\\appdata\\local\\programs\\python\\python37\\lib\\site-packages\\sklearn\\utils\\validation.py:72: FutureWarning: Pass beta=1 as keyword args. From version 1.0 (renaming of 0.25) passing these as positional arguments will result in an error\n",
            "  \"will result in an error\", FutureWarning)\n",
            "c:\\users\\longkuku\\appdata\\local\\programs\\python\\python37\\lib\\site-packages\\sklearn\\metrics\\_classification.py:1245: UndefinedMetricWarning: Recall and F-score are ill-defined and being set to 0.0 in labels with no true samples. Use `zero_division` parameter to control this behavior.\n",
            "  _warn_prf(average, modifier, msg_start, len(result))\n",
            "c:\\users\\longkuku\\appdata\\local\\programs\\python\\python37\\lib\\site-packages\\sklearn\\metrics\\_classification.py:1245: UndefinedMetricWarning: Recall and F-score are ill-defined and being set to 0.0 in labels with no true samples. Use `zero_division` parameter to control this behavior.\n",
            "  _warn_prf(average, modifier, msg_start, len(result))\n",
            "c:\\users\\longkuku\\appdata\\local\\programs\\python\\python37\\lib\\site-packages\\sklearn\\metrics\\_classification.py:1245: UndefinedMetricWarning: Recall and F-score are ill-defined and being set to 0.0 in labels with no true samples. Use `zero_division` parameter to control this behavior.\n",
            "  _warn_prf(average, modifier, msg_start, len(result))\n"
          ],
          "name": "stderr"
        },
        {
          "output_type": "stream",
          "text": [
            "Train with feature union\n"
          ],
          "name": "stdout"
        },
        {
          "output_type": "stream",
          "text": [
            "c:\\users\\longkuku\\appdata\\local\\programs\\python\\python37\\lib\\site-packages\\sklearn\\metrics\\_classification.py:1245: UndefinedMetricWarning: Precision is ill-defined and being set to 0.0 due to no predicted samples. Use `zero_division` parameter to control this behavior.\n",
            "  _warn_prf(average, modifier, msg_start, len(result))\n",
            "c:\\users\\longkuku\\appdata\\local\\programs\\python\\python37\\lib\\site-packages\\sklearn\\metrics\\_classification.py:1245: UndefinedMetricWarning: Precision is ill-defined and being set to 0.0 due to no predicted samples. Use `zero_division` parameter to control this behavior.\n",
            "  _warn_prf(average, modifier, msg_start, len(result))\n",
            "c:\\users\\longkuku\\appdata\\local\\programs\\python\\python37\\lib\\site-packages\\sklearn\\metrics\\_classification.py:1245: UndefinedMetricWarning: Precision is ill-defined and being set to 0.0 due to no predicted samples. Use `zero_division` parameter to control this behavior.\n",
            "  _warn_prf(average, modifier, msg_start, len(result))\n",
            "c:\\users\\longkuku\\appdata\\local\\programs\\python\\python37\\lib\\site-packages\\sklearn\\metrics\\_classification.py:1245: UndefinedMetricWarning: Precision is ill-defined and being set to 0.0 due to no predicted samples. Use `zero_division` parameter to control this behavior.\n",
            "  _warn_prf(average, modifier, msg_start, len(result))\n",
            "c:\\users\\longkuku\\appdata\\local\\programs\\python\\python37\\lib\\site-packages\\sklearn\\metrics\\_classification.py:1245: UndefinedMetricWarning: Precision is ill-defined and being set to 0.0 due to no predicted samples. Use `zero_division` parameter to control this behavior.\n",
            "  _warn_prf(average, modifier, msg_start, len(result))\n",
            "c:\\users\\longkuku\\appdata\\local\\programs\\python\\python37\\lib\\site-packages\\sklearn\\metrics\\_classification.py:1245: UndefinedMetricWarning: Precision is ill-defined and being set to 0.0 due to no predicted samples. Use `zero_division` parameter to control this behavior.\n",
            "  _warn_prf(average, modifier, msg_start, len(result))\n",
            "c:\\users\\longkuku\\appdata\\local\\programs\\python\\python37\\lib\\site-packages\\sklearn\\metrics\\_classification.py:1245: UndefinedMetricWarning: Precision is ill-defined and being set to 0.0 due to no predicted samples. Use `zero_division` parameter to control this behavior.\n",
            "  _warn_prf(average, modifier, msg_start, len(result))\n",
            "c:\\users\\longkuku\\appdata\\local\\programs\\python\\python37\\lib\\site-packages\\sklearn\\metrics\\_classification.py:1245: UndefinedMetricWarning: Precision is ill-defined and being set to 0.0 due to no predicted samples. Use `zero_division` parameter to control this behavior.\n",
            "  _warn_prf(average, modifier, msg_start, len(result))\n",
            "c:\\users\\longkuku\\appdata\\local\\programs\\python\\python37\\lib\\site-packages\\sklearn\\metrics\\_classification.py:1245: UndefinedMetricWarning: Precision is ill-defined and being set to 0.0 due to no predicted samples. Use `zero_division` parameter to control this behavior.\n",
            "  _warn_prf(average, modifier, msg_start, len(result))\n",
            "c:\\users\\longkuku\\appdata\\local\\programs\\python\\python37\\lib\\site-packages\\sklearn\\metrics\\_classification.py:1245: UndefinedMetricWarning: Precision is ill-defined and being set to 0.0 due to no predicted samples. Use `zero_division` parameter to control this behavior.\n",
            "  _warn_prf(average, modifier, msg_start, len(result))\n",
            "c:\\users\\longkuku\\appdata\\local\\programs\\python\\python37\\lib\\site-packages\\sklearn\\metrics\\_classification.py:1245: UndefinedMetricWarning: Recall is ill-defined and being set to 0.0 due to no true samples. Use `zero_division` parameter to control this behavior.\n",
            "  _warn_prf(average, modifier, msg_start, len(result))\n",
            "c:\\users\\longkuku\\appdata\\local\\programs\\python\\python37\\lib\\site-packages\\sklearn\\utils\\validation.py:72: FutureWarning: Pass beta=1 as keyword args. From version 1.0 (renaming of 0.25) passing these as positional arguments will result in an error\n",
            "  \"will result in an error\", FutureWarning)\n",
            "c:\\users\\longkuku\\appdata\\local\\programs\\python\\python37\\lib\\site-packages\\sklearn\\metrics\\_classification.py:1245: UndefinedMetricWarning: Recall and F-score are ill-defined and being set to 0.0 in labels with no true samples. Use `zero_division` parameter to control this behavior.\n",
            "  _warn_prf(average, modifier, msg_start, len(result))\n",
            "c:\\users\\longkuku\\appdata\\local\\programs\\python\\python37\\lib\\site-packages\\sklearn\\metrics\\_classification.py:1245: UndefinedMetricWarning: Recall and F-score are ill-defined and being set to 0.0 in labels with no true samples. Use `zero_division` parameter to control this behavior.\n",
            "  _warn_prf(average, modifier, msg_start, len(result))\n",
            "c:\\users\\longkuku\\appdata\\local\\programs\\python\\python37\\lib\\site-packages\\sklearn\\metrics\\_classification.py:1245: UndefinedMetricWarning: Recall and F-score are ill-defined and being set to 0.0 in labels with no true samples. Use `zero_division` parameter to control this behavior.\n",
            "  _warn_prf(average, modifier, msg_start, len(result))\n",
            "c:\\users\\longkuku\\appdata\\local\\programs\\python\\python37\\lib\\site-packages\\sklearn\\metrics\\_classification.py:1245: UndefinedMetricWarning: Recall is ill-defined and being set to 0.0 due to no true samples. Use `zero_division` parameter to control this behavior.\n",
            "  _warn_prf(average, modifier, msg_start, len(result))\n",
            "c:\\users\\longkuku\\appdata\\local\\programs\\python\\python37\\lib\\site-packages\\sklearn\\utils\\validation.py:72: FutureWarning: Pass beta=1 as keyword args. From version 1.0 (renaming of 0.25) passing these as positional arguments will result in an error\n",
            "  \"will result in an error\", FutureWarning)\n",
            "c:\\users\\longkuku\\appdata\\local\\programs\\python\\python37\\lib\\site-packages\\sklearn\\metrics\\_classification.py:1245: UndefinedMetricWarning: Recall and F-score are ill-defined and being set to 0.0 in labels with no true samples. Use `zero_division` parameter to control this behavior.\n",
            "  _warn_prf(average, modifier, msg_start, len(result))\n",
            "c:\\users\\longkuku\\appdata\\local\\programs\\python\\python37\\lib\\site-packages\\sklearn\\metrics\\_classification.py:1245: UndefinedMetricWarning: Recall and F-score are ill-defined and being set to 0.0 in labels with no true samples. Use `zero_division` parameter to control this behavior.\n",
            "  _warn_prf(average, modifier, msg_start, len(result))\n",
            "c:\\users\\longkuku\\appdata\\local\\programs\\python\\python37\\lib\\site-packages\\sklearn\\metrics\\_classification.py:1245: UndefinedMetricWarning: Recall and F-score are ill-defined and being set to 0.0 in labels with no true samples. Use `zero_division` parameter to control this behavior.\n",
            "  _warn_prf(average, modifier, msg_start, len(result))\n"
          ],
          "name": "stderr"
        },
        {
          "output_type": "stream",
          "text": [
            "Cross validation: Average training set result: test_accuracy=0.994560 test_precision=0.000000 test_f1=0.000000 test_recall=0.000000 .\n",
            "\n",
            "Cross validation: Average validation set result: train_accuracy=0.994560 train_precision=0.000000 train_f1=0.000000 train_recall=0.000000 .\n",
            "\n",
            "Evaluating on test set:\n",
            "Evaluation for: SVMresult on test set\n",
            "Classifier 'SVMresult on test set' has Acc=0.991 P=0.000 R=0.000 F1=0.000\n",
            "              precision    recall  f1-score   support\n",
            "\n",
            "           0      1.000     0.991     0.996      1517\n",
            "           1      0.000     0.000     0.000         0\n",
            "\n",
            "    accuracy                          0.991      1517\n",
            "   macro avg      0.500     0.496     0.498      1517\n",
            "weighted avg      1.000     0.991     0.996      1517\n",
            "\n",
            "Simple test result:\n",
            "Prediction result: {'accuracy': 0.991430454845089, 'precision': 0.0, 'f1': 0.0, 'recall': 0.0}\n",
            "              precision    recall  f1-score   support\n",
            "\n",
            "           0     1.0000    0.9914    0.9957      1517\n",
            "           1     0.0000    0.0000    0.0000         0\n",
            "\n",
            "    accuracy                         0.9914      1517\n",
            "   macro avg     0.5000    0.4957    0.4978      1517\n",
            "weighted avg     1.0000    0.9914    0.9957      1517\n",
            "\n",
            "Train with feature union + over-sample\n"
          ],
          "name": "stdout"
        },
        {
          "output_type": "stream",
          "text": [
            "c:\\users\\longkuku\\appdata\\local\\programs\\python\\python37\\lib\\site-packages\\sklearn\\metrics\\_classification.py:1245: UndefinedMetricWarning: Precision is ill-defined and being set to 0.0 due to no predicted samples. Use `zero_division` parameter to control this behavior.\n",
            "  _warn_prf(average, modifier, msg_start, len(result))\n",
            "c:\\users\\longkuku\\appdata\\local\\programs\\python\\python37\\lib\\site-packages\\sklearn\\metrics\\_classification.py:1245: UndefinedMetricWarning: Precision is ill-defined and being set to 0.0 due to no predicted samples. Use `zero_division` parameter to control this behavior.\n",
            "  _warn_prf(average, modifier, msg_start, len(result))\n",
            "c:\\users\\longkuku\\appdata\\local\\programs\\python\\python37\\lib\\site-packages\\sklearn\\metrics\\_classification.py:1245: UndefinedMetricWarning: Precision is ill-defined and being set to 0.0 due to no predicted samples. Use `zero_division` parameter to control this behavior.\n",
            "  _warn_prf(average, modifier, msg_start, len(result))\n",
            "c:\\users\\longkuku\\appdata\\local\\programs\\python\\python37\\lib\\site-packages\\sklearn\\metrics\\_classification.py:1245: UndefinedMetricWarning: Precision is ill-defined and being set to 0.0 due to no predicted samples. Use `zero_division` parameter to control this behavior.\n",
            "  _warn_prf(average, modifier, msg_start, len(result))\n",
            "c:\\users\\longkuku\\appdata\\local\\programs\\python\\python37\\lib\\site-packages\\sklearn\\metrics\\_classification.py:1245: UndefinedMetricWarning: Precision is ill-defined and being set to 0.0 due to no predicted samples. Use `zero_division` parameter to control this behavior.\n",
            "  _warn_prf(average, modifier, msg_start, len(result))\n",
            "c:\\users\\longkuku\\appdata\\local\\programs\\python\\python37\\lib\\site-packages\\sklearn\\metrics\\_classification.py:1245: UndefinedMetricWarning: Precision is ill-defined and being set to 0.0 due to no predicted samples. Use `zero_division` parameter to control this behavior.\n",
            "  _warn_prf(average, modifier, msg_start, len(result))\n",
            "c:\\users\\longkuku\\appdata\\local\\programs\\python\\python37\\lib\\site-packages\\sklearn\\metrics\\_classification.py:1245: UndefinedMetricWarning: Precision is ill-defined and being set to 0.0 due to no predicted samples. Use `zero_division` parameter to control this behavior.\n",
            "  _warn_prf(average, modifier, msg_start, len(result))\n",
            "c:\\users\\longkuku\\appdata\\local\\programs\\python\\python37\\lib\\site-packages\\sklearn\\metrics\\_classification.py:1245: UndefinedMetricWarning: Precision is ill-defined and being set to 0.0 due to no predicted samples. Use `zero_division` parameter to control this behavior.\n",
            "  _warn_prf(average, modifier, msg_start, len(result))\n",
            "c:\\users\\longkuku\\appdata\\local\\programs\\python\\python37\\lib\\site-packages\\sklearn\\metrics\\_classification.py:1245: UndefinedMetricWarning: Precision is ill-defined and being set to 0.0 due to no predicted samples. Use `zero_division` parameter to control this behavior.\n",
            "  _warn_prf(average, modifier, msg_start, len(result))\n",
            "c:\\users\\longkuku\\appdata\\local\\programs\\python\\python37\\lib\\site-packages\\sklearn\\metrics\\_classification.py:1245: UndefinedMetricWarning: Precision is ill-defined and being set to 0.0 due to no predicted samples. Use `zero_division` parameter to control this behavior.\n",
            "  _warn_prf(average, modifier, msg_start, len(result))\n"
          ],
          "name": "stderr"
        },
        {
          "output_type": "stream",
          "text": [
            "Cross validation: Average training set result: test_accuracy=0.958075 test_precision=0.000000 test_f1=0.000000 test_recall=0.000000 .\n",
            "\n",
            "Cross validation: Average validation set result: train_accuracy=0.958075 train_precision=0.000000 train_f1=0.000000 train_recall=0.000000 .\n",
            "\n",
            "Evaluating on test set:\n",
            "Evaluation for: SVMresult on test set\n",
            "Classifier 'SVMresult on test set' has Acc=0.991 P=0.000 R=0.000 F1=0.000\n",
            "              precision    recall  f1-score   support\n",
            "\n",
            "           0      1.000     0.991     0.996      1517\n",
            "           1      0.000     0.000     0.000         0\n",
            "\n",
            "    accuracy                          0.991      1517\n",
            "   macro avg      0.500     0.496     0.498      1517\n",
            "weighted avg      1.000     0.991     0.996      1517\n",
            "\n",
            "Simple test result:\n",
            "Prediction result: {'accuracy': 0.991430454845089, 'precision': 0.0, 'f1': 0.0, 'recall': 0.0}\n",
            "              precision    recall  f1-score   support\n",
            "\n",
            "           0     1.0000    0.9914    0.9957      1517\n",
            "           1     0.0000    0.0000    0.0000         0\n",
            "\n",
            "    accuracy                         0.9914      1517\n",
            "   macro avg     0.5000    0.4957    0.4978      1517\n",
            "weighted avg     1.0000    0.9914    0.9957      1517\n",
            "\n",
            "This compuation takes: 0:06:15\n",
            "Currently is processing 3\n",
            "Over-sample data set\n",
            "feature-union\n"
          ],
          "name": "stdout"
        },
        {
          "output_type": "stream",
          "text": [
            "c:\\users\\longkuku\\appdata\\local\\programs\\python\\python37\\lib\\site-packages\\sklearn\\metrics\\_classification.py:1245: UndefinedMetricWarning: Recall is ill-defined and being set to 0.0 due to no true samples. Use `zero_division` parameter to control this behavior.\n",
            "  _warn_prf(average, modifier, msg_start, len(result))\n",
            "c:\\users\\longkuku\\appdata\\local\\programs\\python\\python37\\lib\\site-packages\\sklearn\\utils\\validation.py:72: FutureWarning: Pass beta=1 as keyword args. From version 1.0 (renaming of 0.25) passing these as positional arguments will result in an error\n",
            "  \"will result in an error\", FutureWarning)\n",
            "c:\\users\\longkuku\\appdata\\local\\programs\\python\\python37\\lib\\site-packages\\sklearn\\metrics\\_classification.py:1245: UndefinedMetricWarning: Recall and F-score are ill-defined and being set to 0.0 in labels with no true samples. Use `zero_division` parameter to control this behavior.\n",
            "  _warn_prf(average, modifier, msg_start, len(result))\n",
            "c:\\users\\longkuku\\appdata\\local\\programs\\python\\python37\\lib\\site-packages\\sklearn\\metrics\\_classification.py:1245: UndefinedMetricWarning: Recall and F-score are ill-defined and being set to 0.0 in labels with no true samples. Use `zero_division` parameter to control this behavior.\n",
            "  _warn_prf(average, modifier, msg_start, len(result))\n",
            "c:\\users\\longkuku\\appdata\\local\\programs\\python\\python37\\lib\\site-packages\\sklearn\\metrics\\_classification.py:1245: UndefinedMetricWarning: Recall and F-score are ill-defined and being set to 0.0 in labels with no true samples. Use `zero_division` parameter to control this behavior.\n",
            "  _warn_prf(average, modifier, msg_start, len(result))\n",
            "c:\\users\\longkuku\\appdata\\local\\programs\\python\\python37\\lib\\site-packages\\sklearn\\metrics\\_classification.py:1245: UndefinedMetricWarning: Recall is ill-defined and being set to 0.0 due to no true samples. Use `zero_division` parameter to control this behavior.\n",
            "  _warn_prf(average, modifier, msg_start, len(result))\n",
            "c:\\users\\longkuku\\appdata\\local\\programs\\python\\python37\\lib\\site-packages\\sklearn\\utils\\validation.py:72: FutureWarning: Pass beta=1 as keyword args. From version 1.0 (renaming of 0.25) passing these as positional arguments will result in an error\n",
            "  \"will result in an error\", FutureWarning)\n",
            "c:\\users\\longkuku\\appdata\\local\\programs\\python\\python37\\lib\\site-packages\\sklearn\\metrics\\_classification.py:1245: UndefinedMetricWarning: Recall and F-score are ill-defined and being set to 0.0 in labels with no true samples. Use `zero_division` parameter to control this behavior.\n",
            "  _warn_prf(average, modifier, msg_start, len(result))\n",
            "c:\\users\\longkuku\\appdata\\local\\programs\\python\\python37\\lib\\site-packages\\sklearn\\metrics\\_classification.py:1245: UndefinedMetricWarning: Recall and F-score are ill-defined and being set to 0.0 in labels with no true samples. Use `zero_division` parameter to control this behavior.\n",
            "  _warn_prf(average, modifier, msg_start, len(result))\n",
            "c:\\users\\longkuku\\appdata\\local\\programs\\python\\python37\\lib\\site-packages\\sklearn\\metrics\\_classification.py:1245: UndefinedMetricWarning: Recall and F-score are ill-defined and being set to 0.0 in labels with no true samples. Use `zero_division` parameter to control this behavior.\n",
            "  _warn_prf(average, modifier, msg_start, len(result))\n"
          ],
          "name": "stderr"
        },
        {
          "output_type": "stream",
          "text": [
            "Train with feature union\n"
          ],
          "name": "stdout"
        },
        {
          "output_type": "stream",
          "text": [
            "c:\\users\\longkuku\\appdata\\local\\programs\\python\\python37\\lib\\site-packages\\sklearn\\metrics\\_classification.py:1245: UndefinedMetricWarning: Precision is ill-defined and being set to 0.0 due to no predicted samples. Use `zero_division` parameter to control this behavior.\n",
            "  _warn_prf(average, modifier, msg_start, len(result))\n",
            "c:\\users\\longkuku\\appdata\\local\\programs\\python\\python37\\lib\\site-packages\\sklearn\\metrics\\_classification.py:1245: UndefinedMetricWarning: Precision is ill-defined and being set to 0.0 due to no predicted samples. Use `zero_division` parameter to control this behavior.\n",
            "  _warn_prf(average, modifier, msg_start, len(result))\n",
            "c:\\users\\longkuku\\appdata\\local\\programs\\python\\python37\\lib\\site-packages\\sklearn\\metrics\\_classification.py:1245: UndefinedMetricWarning: Precision is ill-defined and being set to 0.0 due to no predicted samples. Use `zero_division` parameter to control this behavior.\n",
            "  _warn_prf(average, modifier, msg_start, len(result))\n",
            "c:\\users\\longkuku\\appdata\\local\\programs\\python\\python37\\lib\\site-packages\\sklearn\\metrics\\_classification.py:1245: UndefinedMetricWarning: Precision is ill-defined and being set to 0.0 due to no predicted samples. Use `zero_division` parameter to control this behavior.\n",
            "  _warn_prf(average, modifier, msg_start, len(result))\n",
            "c:\\users\\longkuku\\appdata\\local\\programs\\python\\python37\\lib\\site-packages\\sklearn\\metrics\\_classification.py:1245: UndefinedMetricWarning: Precision is ill-defined and being set to 0.0 due to no predicted samples. Use `zero_division` parameter to control this behavior.\n",
            "  _warn_prf(average, modifier, msg_start, len(result))\n",
            "c:\\users\\longkuku\\appdata\\local\\programs\\python\\python37\\lib\\site-packages\\sklearn\\metrics\\_classification.py:1245: UndefinedMetricWarning: Precision is ill-defined and being set to 0.0 due to no predicted samples. Use `zero_division` parameter to control this behavior.\n",
            "  _warn_prf(average, modifier, msg_start, len(result))\n",
            "c:\\users\\longkuku\\appdata\\local\\programs\\python\\python37\\lib\\site-packages\\sklearn\\metrics\\_classification.py:1245: UndefinedMetricWarning: Precision is ill-defined and being set to 0.0 due to no predicted samples. Use `zero_division` parameter to control this behavior.\n",
            "  _warn_prf(average, modifier, msg_start, len(result))\n",
            "c:\\users\\longkuku\\appdata\\local\\programs\\python\\python37\\lib\\site-packages\\sklearn\\metrics\\_classification.py:1245: UndefinedMetricWarning: Precision is ill-defined and being set to 0.0 due to no predicted samples. Use `zero_division` parameter to control this behavior.\n",
            "  _warn_prf(average, modifier, msg_start, len(result))\n",
            "c:\\users\\longkuku\\appdata\\local\\programs\\python\\python37\\lib\\site-packages\\sklearn\\metrics\\_classification.py:1245: UndefinedMetricWarning: Precision is ill-defined and being set to 0.0 due to no predicted samples. Use `zero_division` parameter to control this behavior.\n",
            "  _warn_prf(average, modifier, msg_start, len(result))\n",
            "c:\\users\\longkuku\\appdata\\local\\programs\\python\\python37\\lib\\site-packages\\sklearn\\metrics\\_classification.py:1245: UndefinedMetricWarning: Precision is ill-defined and being set to 0.0 due to no predicted samples. Use `zero_division` parameter to control this behavior.\n",
            "  _warn_prf(average, modifier, msg_start, len(result))\n"
          ],
          "name": "stderr"
        },
        {
          "output_type": "stream",
          "text": [
            "Cross validation: Average training set result: test_accuracy=0.932081 test_precision=0.000000 test_f1=0.000000 test_recall=0.000000 .\n",
            "\n",
            "Cross validation: Average validation set result: train_accuracy=0.932080 train_precision=0.000000 train_f1=0.000000 train_recall=0.000000 .\n",
            "\n",
            "Evaluating on test set:\n",
            "Evaluation for: SVMresult on test set\n",
            "Classifier 'SVMresult on test set' has Acc=0.933 P=0.000 R=0.000 F1=0.000\n",
            "              precision    recall  f1-score   support\n",
            "\n",
            "           0      1.000     0.933     0.965      1517\n",
            "           1      0.000     0.000     0.000         0\n",
            "\n",
            "    accuracy                          0.933      1517\n",
            "   macro avg      0.500     0.466     0.483      1517\n",
            "weighted avg      1.000     0.933     0.965      1517\n",
            "\n",
            "Simple test result:\n",
            "Prediction result: {'accuracy': 0.932762030323006, 'precision': 0.0, 'f1': 0.0, 'recall': 0.0}\n",
            "              precision    recall  f1-score   support\n",
            "\n",
            "           0     1.0000    0.9328    0.9652      1517\n",
            "           1     0.0000    0.0000    0.0000         0\n",
            "\n",
            "    accuracy                         0.9328      1517\n",
            "   macro avg     0.5000    0.4664    0.4826      1517\n",
            "weighted avg     1.0000    0.9328    0.9652      1517\n",
            "\n",
            "Train with feature union + over-sample\n"
          ],
          "name": "stdout"
        },
        {
          "output_type": "stream",
          "text": [
            "c:\\users\\longkuku\\appdata\\local\\programs\\python\\python37\\lib\\site-packages\\sklearn\\metrics\\_classification.py:1245: UndefinedMetricWarning: Recall is ill-defined and being set to 0.0 due to no true samples. Use `zero_division` parameter to control this behavior.\n",
            "  _warn_prf(average, modifier, msg_start, len(result))\n",
            "c:\\users\\longkuku\\appdata\\local\\programs\\python\\python37\\lib\\site-packages\\sklearn\\utils\\validation.py:72: FutureWarning: Pass beta=1 as keyword args. From version 1.0 (renaming of 0.25) passing these as positional arguments will result in an error\n",
            "  \"will result in an error\", FutureWarning)\n",
            "c:\\users\\longkuku\\appdata\\local\\programs\\python\\python37\\lib\\site-packages\\sklearn\\metrics\\_classification.py:1245: UndefinedMetricWarning: Recall and F-score are ill-defined and being set to 0.0 in labels with no true samples. Use `zero_division` parameter to control this behavior.\n",
            "  _warn_prf(average, modifier, msg_start, len(result))\n",
            "c:\\users\\longkuku\\appdata\\local\\programs\\python\\python37\\lib\\site-packages\\sklearn\\metrics\\_classification.py:1245: UndefinedMetricWarning: Recall and F-score are ill-defined and being set to 0.0 in labels with no true samples. Use `zero_division` parameter to control this behavior.\n",
            "  _warn_prf(average, modifier, msg_start, len(result))\n",
            "c:\\users\\longkuku\\appdata\\local\\programs\\python\\python37\\lib\\site-packages\\sklearn\\metrics\\_classification.py:1245: UndefinedMetricWarning: Recall and F-score are ill-defined and being set to 0.0 in labels with no true samples. Use `zero_division` parameter to control this behavior.\n",
            "  _warn_prf(average, modifier, msg_start, len(result))\n",
            "c:\\users\\longkuku\\appdata\\local\\programs\\python\\python37\\lib\\site-packages\\sklearn\\metrics\\_classification.py:1245: UndefinedMetricWarning: Recall is ill-defined and being set to 0.0 due to no true samples. Use `zero_division` parameter to control this behavior.\n",
            "  _warn_prf(average, modifier, msg_start, len(result))\n",
            "c:\\users\\longkuku\\appdata\\local\\programs\\python\\python37\\lib\\site-packages\\sklearn\\utils\\validation.py:72: FutureWarning: Pass beta=1 as keyword args. From version 1.0 (renaming of 0.25) passing these as positional arguments will result in an error\n",
            "  \"will result in an error\", FutureWarning)\n",
            "c:\\users\\longkuku\\appdata\\local\\programs\\python\\python37\\lib\\site-packages\\sklearn\\metrics\\_classification.py:1245: UndefinedMetricWarning: Recall and F-score are ill-defined and being set to 0.0 in labels with no true samples. Use `zero_division` parameter to control this behavior.\n",
            "  _warn_prf(average, modifier, msg_start, len(result))\n",
            "c:\\users\\longkuku\\appdata\\local\\programs\\python\\python37\\lib\\site-packages\\sklearn\\metrics\\_classification.py:1245: UndefinedMetricWarning: Recall and F-score are ill-defined and being set to 0.0 in labels with no true samples. Use `zero_division` parameter to control this behavior.\n",
            "  _warn_prf(average, modifier, msg_start, len(result))\n",
            "c:\\users\\longkuku\\appdata\\local\\programs\\python\\python37\\lib\\site-packages\\sklearn\\metrics\\_classification.py:1245: UndefinedMetricWarning: Recall and F-score are ill-defined and being set to 0.0 in labels with no true samples. Use `zero_division` parameter to control this behavior.\n",
            "  _warn_prf(average, modifier, msg_start, len(result))\n",
            "c:\\users\\longkuku\\appdata\\local\\programs\\python\\python37\\lib\\site-packages\\sklearn\\metrics\\_classification.py:1245: UndefinedMetricWarning: Precision is ill-defined and being set to 0.0 due to no predicted samples. Use `zero_division` parameter to control this behavior.\n",
            "  _warn_prf(average, modifier, msg_start, len(result))\n",
            "c:\\users\\longkuku\\appdata\\local\\programs\\python\\python37\\lib\\site-packages\\sklearn\\metrics\\_classification.py:1245: UndefinedMetricWarning: Precision is ill-defined and being set to 0.0 due to no predicted samples. Use `zero_division` parameter to control this behavior.\n",
            "  _warn_prf(average, modifier, msg_start, len(result))\n",
            "c:\\users\\longkuku\\appdata\\local\\programs\\python\\python37\\lib\\site-packages\\sklearn\\metrics\\_classification.py:1245: UndefinedMetricWarning: Precision is ill-defined and being set to 0.0 due to no predicted samples. Use `zero_division` parameter to control this behavior.\n",
            "  _warn_prf(average, modifier, msg_start, len(result))\n"
          ],
          "name": "stderr"
        },
        {
          "output_type": "stream",
          "text": [
            "Cross validation: Average training set result: test_accuracy=0.732694 test_precision=0.200000 test_f1=0.000969 test_recall=0.000485 .\n",
            "\n",
            "Cross validation: Average validation set result: train_accuracy=0.733536 train_precision=0.647179 train_f1=0.005795 train_recall=0.002913 .\n",
            "\n",
            "Evaluating on test set:\n",
            "Evaluation for: SVMresult on test set\n",
            "Classifier 'SVMresult on test set' has Acc=0.933 P=0.000 R=0.000 F1=0.000\n",
            "              precision    recall  f1-score   support\n",
            "\n",
            "           0      1.000     0.933     0.965      1517\n",
            "           1      0.000     0.000     0.000         0\n",
            "\n",
            "    accuracy                          0.933      1517\n",
            "   macro avg      0.500     0.466     0.483      1517\n",
            "weighted avg      1.000     0.933     0.965      1517\n",
            "\n",
            "Simple test result:\n",
            "Prediction result: {'accuracy': 0.932762030323006, 'precision': 0.0, 'f1': 0.0, 'recall': 0.0}\n",
            "              precision    recall  f1-score   support\n",
            "\n",
            "           0     1.0000    0.9328    0.9652      1517\n",
            "           1     0.0000    0.0000    0.0000         0\n",
            "\n",
            "    accuracy                         0.9328      1517\n",
            "   macro avg     0.5000    0.4664    0.4826      1517\n",
            "weighted avg     1.0000    0.9328    0.9652      1517\n",
            "\n",
            "This compuation takes: 0:07:38\n",
            "Currently is processing 4\n",
            "Over-sample data set\n",
            "feature-union\n"
          ],
          "name": "stdout"
        },
        {
          "output_type": "stream",
          "text": [
            "c:\\users\\longkuku\\appdata\\local\\programs\\python\\python37\\lib\\site-packages\\sklearn\\metrics\\_classification.py:1245: UndefinedMetricWarning: Recall is ill-defined and being set to 0.0 due to no true samples. Use `zero_division` parameter to control this behavior.\n",
            "  _warn_prf(average, modifier, msg_start, len(result))\n",
            "c:\\users\\longkuku\\appdata\\local\\programs\\python\\python37\\lib\\site-packages\\sklearn\\utils\\validation.py:72: FutureWarning: Pass beta=1 as keyword args. From version 1.0 (renaming of 0.25) passing these as positional arguments will result in an error\n",
            "  \"will result in an error\", FutureWarning)\n",
            "c:\\users\\longkuku\\appdata\\local\\programs\\python\\python37\\lib\\site-packages\\sklearn\\metrics\\_classification.py:1245: UndefinedMetricWarning: Recall and F-score are ill-defined and being set to 0.0 in labels with no true samples. Use `zero_division` parameter to control this behavior.\n",
            "  _warn_prf(average, modifier, msg_start, len(result))\n",
            "c:\\users\\longkuku\\appdata\\local\\programs\\python\\python37\\lib\\site-packages\\sklearn\\metrics\\_classification.py:1245: UndefinedMetricWarning: Recall and F-score are ill-defined and being set to 0.0 in labels with no true samples. Use `zero_division` parameter to control this behavior.\n",
            "  _warn_prf(average, modifier, msg_start, len(result))\n",
            "c:\\users\\longkuku\\appdata\\local\\programs\\python\\python37\\lib\\site-packages\\sklearn\\metrics\\_classification.py:1245: UndefinedMetricWarning: Recall and F-score are ill-defined and being set to 0.0 in labels with no true samples. Use `zero_division` parameter to control this behavior.\n",
            "  _warn_prf(average, modifier, msg_start, len(result))\n",
            "c:\\users\\longkuku\\appdata\\local\\programs\\python\\python37\\lib\\site-packages\\sklearn\\metrics\\_classification.py:1245: UndefinedMetricWarning: Recall is ill-defined and being set to 0.0 due to no true samples. Use `zero_division` parameter to control this behavior.\n",
            "  _warn_prf(average, modifier, msg_start, len(result))\n",
            "c:\\users\\longkuku\\appdata\\local\\programs\\python\\python37\\lib\\site-packages\\sklearn\\utils\\validation.py:72: FutureWarning: Pass beta=1 as keyword args. From version 1.0 (renaming of 0.25) passing these as positional arguments will result in an error\n",
            "  \"will result in an error\", FutureWarning)\n",
            "c:\\users\\longkuku\\appdata\\local\\programs\\python\\python37\\lib\\site-packages\\sklearn\\metrics\\_classification.py:1245: UndefinedMetricWarning: Recall and F-score are ill-defined and being set to 0.0 in labels with no true samples. Use `zero_division` parameter to control this behavior.\n",
            "  _warn_prf(average, modifier, msg_start, len(result))\n",
            "c:\\users\\longkuku\\appdata\\local\\programs\\python\\python37\\lib\\site-packages\\sklearn\\metrics\\_classification.py:1245: UndefinedMetricWarning: Recall and F-score are ill-defined and being set to 0.0 in labels with no true samples. Use `zero_division` parameter to control this behavior.\n",
            "  _warn_prf(average, modifier, msg_start, len(result))\n",
            "c:\\users\\longkuku\\appdata\\local\\programs\\python\\python37\\lib\\site-packages\\sklearn\\metrics\\_classification.py:1245: UndefinedMetricWarning: Recall and F-score are ill-defined and being set to 0.0 in labels with no true samples. Use `zero_division` parameter to control this behavior.\n",
            "  _warn_prf(average, modifier, msg_start, len(result))\n"
          ],
          "name": "stderr"
        },
        {
          "output_type": "stream",
          "text": [
            "Train with feature union\n"
          ],
          "name": "stdout"
        },
        {
          "output_type": "stream",
          "text": [
            "c:\\users\\longkuku\\appdata\\local\\programs\\python\\python37\\lib\\site-packages\\sklearn\\metrics\\_classification.py:1245: UndefinedMetricWarning: Precision is ill-defined and being set to 0.0 due to no predicted samples. Use `zero_division` parameter to control this behavior.\n",
            "  _warn_prf(average, modifier, msg_start, len(result))\n",
            "c:\\users\\longkuku\\appdata\\local\\programs\\python\\python37\\lib\\site-packages\\sklearn\\metrics\\_classification.py:1245: UndefinedMetricWarning: Precision is ill-defined and being set to 0.0 due to no predicted samples. Use `zero_division` parameter to control this behavior.\n",
            "  _warn_prf(average, modifier, msg_start, len(result))\n",
            "c:\\users\\longkuku\\appdata\\local\\programs\\python\\python37\\lib\\site-packages\\sklearn\\metrics\\_classification.py:1245: UndefinedMetricWarning: Precision is ill-defined and being set to 0.0 due to no predicted samples. Use `zero_division` parameter to control this behavior.\n",
            "  _warn_prf(average, modifier, msg_start, len(result))\n",
            "c:\\users\\longkuku\\appdata\\local\\programs\\python\\python37\\lib\\site-packages\\sklearn\\metrics\\_classification.py:1245: UndefinedMetricWarning: Precision is ill-defined and being set to 0.0 due to no predicted samples. Use `zero_division` parameter to control this behavior.\n",
            "  _warn_prf(average, modifier, msg_start, len(result))\n",
            "c:\\users\\longkuku\\appdata\\local\\programs\\python\\python37\\lib\\site-packages\\sklearn\\metrics\\_classification.py:1245: UndefinedMetricWarning: Precision is ill-defined and being set to 0.0 due to no predicted samples. Use `zero_division` parameter to control this behavior.\n",
            "  _warn_prf(average, modifier, msg_start, len(result))\n",
            "c:\\users\\longkuku\\appdata\\local\\programs\\python\\python37\\lib\\site-packages\\sklearn\\metrics\\_classification.py:1245: UndefinedMetricWarning: Precision is ill-defined and being set to 0.0 due to no predicted samples. Use `zero_division` parameter to control this behavior.\n",
            "  _warn_prf(average, modifier, msg_start, len(result))\n",
            "c:\\users\\longkuku\\appdata\\local\\programs\\python\\python37\\lib\\site-packages\\sklearn\\metrics\\_classification.py:1245: UndefinedMetricWarning: Precision is ill-defined and being set to 0.0 due to no predicted samples. Use `zero_division` parameter to control this behavior.\n",
            "  _warn_prf(average, modifier, msg_start, len(result))\n",
            "c:\\users\\longkuku\\appdata\\local\\programs\\python\\python37\\lib\\site-packages\\sklearn\\metrics\\_classification.py:1245: UndefinedMetricWarning: Precision is ill-defined and being set to 0.0 due to no predicted samples. Use `zero_division` parameter to control this behavior.\n",
            "  _warn_prf(average, modifier, msg_start, len(result))\n",
            "c:\\users\\longkuku\\appdata\\local\\programs\\python\\python37\\lib\\site-packages\\sklearn\\metrics\\_classification.py:1245: UndefinedMetricWarning: Precision is ill-defined and being set to 0.0 due to no predicted samples. Use `zero_division` parameter to control this behavior.\n",
            "  _warn_prf(average, modifier, msg_start, len(result))\n",
            "c:\\users\\longkuku\\appdata\\local\\programs\\python\\python37\\lib\\site-packages\\sklearn\\metrics\\_classification.py:1245: UndefinedMetricWarning: Precision is ill-defined and being set to 0.0 due to no predicted samples. Use `zero_division` parameter to control this behavior.\n",
            "  _warn_prf(average, modifier, msg_start, len(result))\n"
          ],
          "name": "stderr"
        },
        {
          "output_type": "stream",
          "text": [
            "Cross validation: Average training set result: test_accuracy=0.972799 test_precision=0.000000 test_f1=0.000000 test_recall=0.000000 .\n",
            "\n",
            "Cross validation: Average validation set result: train_accuracy=0.972799 train_precision=0.000000 train_f1=0.000000 train_recall=0.000000 .\n",
            "\n",
            "Evaluating on test set:\n",
            "Evaluation for: SVMresult on test set\n",
            "Classifier 'SVMresult on test set' has Acc=0.945 P=0.000 R=0.000 F1=0.000\n",
            "              precision    recall  f1-score   support\n",
            "\n",
            "           0      1.000     0.945     0.972      1517\n",
            "           1      0.000     0.000     0.000         0\n",
            "\n",
            "    accuracy                          0.945      1517\n",
            "   macro avg      0.500     0.473     0.486      1517\n",
            "weighted avg      1.000     0.945     0.972      1517\n",
            "\n",
            "Simple test result:\n",
            "Prediction result: {'accuracy': 0.9452867501647989, 'precision': 0.0, 'f1': 0.0, 'recall': 0.0}\n",
            "              precision    recall  f1-score   support\n",
            "\n",
            "           0     1.0000    0.9453    0.9719      1517\n",
            "           1     0.0000    0.0000    0.0000         0\n",
            "\n",
            "    accuracy                         0.9453      1517\n",
            "   macro avg     0.5000    0.4726    0.4859      1517\n",
            "weighted avg     1.0000    0.9453    0.9719      1517\n",
            "\n",
            "Train with feature union + over-sample\n"
          ],
          "name": "stdout"
        },
        {
          "output_type": "stream",
          "text": [
            "c:\\users\\longkuku\\appdata\\local\\programs\\python\\python37\\lib\\site-packages\\sklearn\\metrics\\_classification.py:1245: UndefinedMetricWarning: Recall is ill-defined and being set to 0.0 due to no true samples. Use `zero_division` parameter to control this behavior.\n",
            "  _warn_prf(average, modifier, msg_start, len(result))\n",
            "c:\\users\\longkuku\\appdata\\local\\programs\\python\\python37\\lib\\site-packages\\sklearn\\utils\\validation.py:72: FutureWarning: Pass beta=1 as keyword args. From version 1.0 (renaming of 0.25) passing these as positional arguments will result in an error\n",
            "  \"will result in an error\", FutureWarning)\n",
            "c:\\users\\longkuku\\appdata\\local\\programs\\python\\python37\\lib\\site-packages\\sklearn\\metrics\\_classification.py:1245: UndefinedMetricWarning: Recall and F-score are ill-defined and being set to 0.0 in labels with no true samples. Use `zero_division` parameter to control this behavior.\n",
            "  _warn_prf(average, modifier, msg_start, len(result))\n",
            "c:\\users\\longkuku\\appdata\\local\\programs\\python\\python37\\lib\\site-packages\\sklearn\\metrics\\_classification.py:1245: UndefinedMetricWarning: Recall and F-score are ill-defined and being set to 0.0 in labels with no true samples. Use `zero_division` parameter to control this behavior.\n",
            "  _warn_prf(average, modifier, msg_start, len(result))\n",
            "c:\\users\\longkuku\\appdata\\local\\programs\\python\\python37\\lib\\site-packages\\sklearn\\metrics\\_classification.py:1245: UndefinedMetricWarning: Recall and F-score are ill-defined and being set to 0.0 in labels with no true samples. Use `zero_division` parameter to control this behavior.\n",
            "  _warn_prf(average, modifier, msg_start, len(result))\n",
            "c:\\users\\longkuku\\appdata\\local\\programs\\python\\python37\\lib\\site-packages\\sklearn\\metrics\\_classification.py:1245: UndefinedMetricWarning: Recall is ill-defined and being set to 0.0 due to no true samples. Use `zero_division` parameter to control this behavior.\n",
            "  _warn_prf(average, modifier, msg_start, len(result))\n",
            "c:\\users\\longkuku\\appdata\\local\\programs\\python\\python37\\lib\\site-packages\\sklearn\\utils\\validation.py:72: FutureWarning: Pass beta=1 as keyword args. From version 1.0 (renaming of 0.25) passing these as positional arguments will result in an error\n",
            "  \"will result in an error\", FutureWarning)\n",
            "c:\\users\\longkuku\\appdata\\local\\programs\\python\\python37\\lib\\site-packages\\sklearn\\metrics\\_classification.py:1245: UndefinedMetricWarning: Recall and F-score are ill-defined and being set to 0.0 in labels with no true samples. Use `zero_division` parameter to control this behavior.\n",
            "  _warn_prf(average, modifier, msg_start, len(result))\n",
            "c:\\users\\longkuku\\appdata\\local\\programs\\python\\python37\\lib\\site-packages\\sklearn\\metrics\\_classification.py:1245: UndefinedMetricWarning: Recall and F-score are ill-defined and being set to 0.0 in labels with no true samples. Use `zero_division` parameter to control this behavior.\n",
            "  _warn_prf(average, modifier, msg_start, len(result))\n",
            "c:\\users\\longkuku\\appdata\\local\\programs\\python\\python37\\lib\\site-packages\\sklearn\\metrics\\_classification.py:1245: UndefinedMetricWarning: Recall and F-score are ill-defined and being set to 0.0 in labels with no true samples. Use `zero_division` parameter to control this behavior.\n",
            "  _warn_prf(average, modifier, msg_start, len(result))\n",
            "c:\\users\\longkuku\\appdata\\local\\programs\\python\\python37\\lib\\site-packages\\sklearn\\metrics\\_classification.py:1245: UndefinedMetricWarning: Precision is ill-defined and being set to 0.0 due to no predicted samples. Use `zero_division` parameter to control this behavior.\n",
            "  _warn_prf(average, modifier, msg_start, len(result))\n",
            "c:\\users\\longkuku\\appdata\\local\\programs\\python\\python37\\lib\\site-packages\\sklearn\\metrics\\_classification.py:1245: UndefinedMetricWarning: Precision is ill-defined and being set to 0.0 due to no predicted samples. Use `zero_division` parameter to control this behavior.\n",
            "  _warn_prf(average, modifier, msg_start, len(result))\n",
            "c:\\users\\longkuku\\appdata\\local\\programs\\python\\python37\\lib\\site-packages\\sklearn\\metrics\\_classification.py:1245: UndefinedMetricWarning: Precision is ill-defined and being set to 0.0 due to no predicted samples. Use `zero_division` parameter to control this behavior.\n",
            "  _warn_prf(average, modifier, msg_start, len(result))\n",
            "c:\\users\\longkuku\\appdata\\local\\programs\\python\\python37\\lib\\site-packages\\sklearn\\metrics\\_classification.py:1245: UndefinedMetricWarning: Precision is ill-defined and being set to 0.0 due to no predicted samples. Use `zero_division` parameter to control this behavior.\n",
            "  _warn_prf(average, modifier, msg_start, len(result))\n",
            "c:\\users\\longkuku\\appdata\\local\\programs\\python\\python37\\lib\\site-packages\\sklearn\\metrics\\_classification.py:1245: UndefinedMetricWarning: Precision is ill-defined and being set to 0.0 due to no predicted samples. Use `zero_division` parameter to control this behavior.\n",
            "  _warn_prf(average, modifier, msg_start, len(result))\n",
            "c:\\users\\longkuku\\appdata\\local\\programs\\python\\python37\\lib\\site-packages\\sklearn\\metrics\\_classification.py:1245: UndefinedMetricWarning: Precision is ill-defined and being set to 0.0 due to no predicted samples. Use `zero_division` parameter to control this behavior.\n",
            "  _warn_prf(average, modifier, msg_start, len(result))\n",
            "c:\\users\\longkuku\\appdata\\local\\programs\\python\\python37\\lib\\site-packages\\sklearn\\metrics\\_classification.py:1245: UndefinedMetricWarning: Precision is ill-defined and being set to 0.0 due to no predicted samples. Use `zero_division` parameter to control this behavior.\n",
            "  _warn_prf(average, modifier, msg_start, len(result))\n",
            "c:\\users\\longkuku\\appdata\\local\\programs\\python\\python37\\lib\\site-packages\\sklearn\\metrics\\_classification.py:1245: UndefinedMetricWarning: Precision is ill-defined and being set to 0.0 due to no predicted samples. Use `zero_division` parameter to control this behavior.\n",
            "  _warn_prf(average, modifier, msg_start, len(result))\n"
          ],
          "name": "stderr"
        },
        {
          "output_type": "stream",
          "text": [
            "Cross validation: Average training set result: test_accuracy=0.877044 test_precision=0.000000 test_f1=0.000000 test_recall=0.000000 .\n",
            "\n",
            "Cross validation: Average validation set result: train_accuracy=0.877453 train_precision=0.142857 train_f1=0.002999 train_recall=0.001515 .\n",
            "\n",
            "Evaluating on test set:\n",
            "Evaluation for: SVMresult on test set\n",
            "Classifier 'SVMresult on test set' has Acc=0.945 P=0.000 R=0.000 F1=0.000\n",
            "              precision    recall  f1-score   support\n",
            "\n",
            "           0      1.000     0.945     0.972      1517\n",
            "           1      0.000     0.000     0.000         0\n",
            "\n",
            "    accuracy                          0.945      1517\n",
            "   macro avg      0.500     0.473     0.486      1517\n",
            "weighted avg      1.000     0.945     0.972      1517\n",
            "\n",
            "Simple test result:\n",
            "Prediction result: {'accuracy': 0.9452867501647989, 'precision': 0.0, 'f1': 0.0, 'recall': 0.0}\n",
            "              precision    recall  f1-score   support\n",
            "\n",
            "           0     1.0000    0.9453    0.9719      1517\n",
            "           1     0.0000    0.0000    0.0000         0\n",
            "\n",
            "    accuracy                         0.9453      1517\n",
            "   macro avg     0.5000    0.4726    0.4859      1517\n",
            "weighted avg     1.0000    0.9453    0.9719      1517\n",
            "\n",
            "This compuation takes: 0:06:42\n",
            "Currently is processing 5\n",
            "Over-sample data set\n",
            "feature-union\n"
          ],
          "name": "stdout"
        },
        {
          "output_type": "stream",
          "text": [
            "c:\\users\\longkuku\\appdata\\local\\programs\\python\\python37\\lib\\site-packages\\sklearn\\metrics\\_classification.py:1245: UndefinedMetricWarning: Recall is ill-defined and being set to 0.0 due to no true samples. Use `zero_division` parameter to control this behavior.\n",
            "  _warn_prf(average, modifier, msg_start, len(result))\n",
            "c:\\users\\longkuku\\appdata\\local\\programs\\python\\python37\\lib\\site-packages\\sklearn\\utils\\validation.py:72: FutureWarning: Pass beta=1 as keyword args. From version 1.0 (renaming of 0.25) passing these as positional arguments will result in an error\n",
            "  \"will result in an error\", FutureWarning)\n",
            "c:\\users\\longkuku\\appdata\\local\\programs\\python\\python37\\lib\\site-packages\\sklearn\\metrics\\_classification.py:1245: UndefinedMetricWarning: Recall and F-score are ill-defined and being set to 0.0 in labels with no true samples. Use `zero_division` parameter to control this behavior.\n",
            "  _warn_prf(average, modifier, msg_start, len(result))\n",
            "c:\\users\\longkuku\\appdata\\local\\programs\\python\\python37\\lib\\site-packages\\sklearn\\metrics\\_classification.py:1245: UndefinedMetricWarning: Recall and F-score are ill-defined and being set to 0.0 in labels with no true samples. Use `zero_division` parameter to control this behavior.\n",
            "  _warn_prf(average, modifier, msg_start, len(result))\n",
            "c:\\users\\longkuku\\appdata\\local\\programs\\python\\python37\\lib\\site-packages\\sklearn\\metrics\\_classification.py:1245: UndefinedMetricWarning: Recall and F-score are ill-defined and being set to 0.0 in labels with no true samples. Use `zero_division` parameter to control this behavior.\n",
            "  _warn_prf(average, modifier, msg_start, len(result))\n",
            "c:\\users\\longkuku\\appdata\\local\\programs\\python\\python37\\lib\\site-packages\\sklearn\\metrics\\_classification.py:1245: UndefinedMetricWarning: Recall is ill-defined and being set to 0.0 due to no true samples. Use `zero_division` parameter to control this behavior.\n",
            "  _warn_prf(average, modifier, msg_start, len(result))\n",
            "c:\\users\\longkuku\\appdata\\local\\programs\\python\\python37\\lib\\site-packages\\sklearn\\utils\\validation.py:72: FutureWarning: Pass beta=1 as keyword args. From version 1.0 (renaming of 0.25) passing these as positional arguments will result in an error\n",
            "  \"will result in an error\", FutureWarning)\n",
            "c:\\users\\longkuku\\appdata\\local\\programs\\python\\python37\\lib\\site-packages\\sklearn\\metrics\\_classification.py:1245: UndefinedMetricWarning: Recall and F-score are ill-defined and being set to 0.0 in labels with no true samples. Use `zero_division` parameter to control this behavior.\n",
            "  _warn_prf(average, modifier, msg_start, len(result))\n",
            "c:\\users\\longkuku\\appdata\\local\\programs\\python\\python37\\lib\\site-packages\\sklearn\\metrics\\_classification.py:1245: UndefinedMetricWarning: Recall and F-score are ill-defined and being set to 0.0 in labels with no true samples. Use `zero_division` parameter to control this behavior.\n",
            "  _warn_prf(average, modifier, msg_start, len(result))\n",
            "c:\\users\\longkuku\\appdata\\local\\programs\\python\\python37\\lib\\site-packages\\sklearn\\metrics\\_classification.py:1245: UndefinedMetricWarning: Recall and F-score are ill-defined and being set to 0.0 in labels with no true samples. Use `zero_division` parameter to control this behavior.\n",
            "  _warn_prf(average, modifier, msg_start, len(result))\n"
          ],
          "name": "stderr"
        },
        {
          "output_type": "stream",
          "text": [
            "Train with feature union\n"
          ],
          "name": "stdout"
        },
        {
          "output_type": "stream",
          "text": [
            "c:\\users\\longkuku\\appdata\\local\\programs\\python\\python37\\lib\\site-packages\\sklearn\\metrics\\_classification.py:1245: UndefinedMetricWarning: Precision is ill-defined and being set to 0.0 due to no predicted samples. Use `zero_division` parameter to control this behavior.\n",
            "  _warn_prf(average, modifier, msg_start, len(result))\n",
            "c:\\users\\longkuku\\appdata\\local\\programs\\python\\python37\\lib\\site-packages\\sklearn\\metrics\\_classification.py:1245: UndefinedMetricWarning: Precision is ill-defined and being set to 0.0 due to no predicted samples. Use `zero_division` parameter to control this behavior.\n",
            "  _warn_prf(average, modifier, msg_start, len(result))\n",
            "c:\\users\\longkuku\\appdata\\local\\programs\\python\\python37\\lib\\site-packages\\sklearn\\metrics\\_classification.py:1245: UndefinedMetricWarning: Precision is ill-defined and being set to 0.0 due to no predicted samples. Use `zero_division` parameter to control this behavior.\n",
            "  _warn_prf(average, modifier, msg_start, len(result))\n",
            "c:\\users\\longkuku\\appdata\\local\\programs\\python\\python37\\lib\\site-packages\\sklearn\\metrics\\_classification.py:1245: UndefinedMetricWarning: Precision is ill-defined and being set to 0.0 due to no predicted samples. Use `zero_division` parameter to control this behavior.\n",
            "  _warn_prf(average, modifier, msg_start, len(result))\n",
            "c:\\users\\longkuku\\appdata\\local\\programs\\python\\python37\\lib\\site-packages\\sklearn\\metrics\\_classification.py:1245: UndefinedMetricWarning: Precision is ill-defined and being set to 0.0 due to no predicted samples. Use `zero_division` parameter to control this behavior.\n",
            "  _warn_prf(average, modifier, msg_start, len(result))\n",
            "c:\\users\\longkuku\\appdata\\local\\programs\\python\\python37\\lib\\site-packages\\sklearn\\metrics\\_classification.py:1245: UndefinedMetricWarning: Precision is ill-defined and being set to 0.0 due to no predicted samples. Use `zero_division` parameter to control this behavior.\n",
            "  _warn_prf(average, modifier, msg_start, len(result))\n",
            "c:\\users\\longkuku\\appdata\\local\\programs\\python\\python37\\lib\\site-packages\\sklearn\\metrics\\_classification.py:1245: UndefinedMetricWarning: Precision is ill-defined and being set to 0.0 due to no predicted samples. Use `zero_division` parameter to control this behavior.\n",
            "  _warn_prf(average, modifier, msg_start, len(result))\n",
            "c:\\users\\longkuku\\appdata\\local\\programs\\python\\python37\\lib\\site-packages\\sklearn\\metrics\\_classification.py:1245: UndefinedMetricWarning: Precision is ill-defined and being set to 0.0 due to no predicted samples. Use `zero_division` parameter to control this behavior.\n",
            "  _warn_prf(average, modifier, msg_start, len(result))\n",
            "c:\\users\\longkuku\\appdata\\local\\programs\\python\\python37\\lib\\site-packages\\sklearn\\metrics\\_classification.py:1245: UndefinedMetricWarning: Precision is ill-defined and being set to 0.0 due to no predicted samples. Use `zero_division` parameter to control this behavior.\n",
            "  _warn_prf(average, modifier, msg_start, len(result))\n"
          ],
          "name": "stderr"
        },
        {
          "output_type": "stream",
          "text": [
            "Cross validation: Average training set result: test_accuracy=0.954995 test_precision=0.000000 test_f1=0.000000 test_recall=0.000000 .\n",
            "\n",
            "Cross validation: Average validation set result: train_accuracy=0.955036 train_precision=0.200000 train_f1=0.001818 train_recall=0.000913 .\n",
            "\n",
            "Evaluating on test set:\n",
            "Evaluation for: SVMresult on test set\n",
            "Classifier 'SVMresult on test set' has Acc=0.945 P=0.000 R=0.000 F1=0.000\n",
            "              precision    recall  f1-score   support\n",
            "\n",
            "           0      1.000     0.945     0.972      1517\n",
            "           1      0.000     0.000     0.000         0\n",
            "\n",
            "    accuracy                          0.945      1517\n",
            "   macro avg      0.500     0.472     0.486      1517\n",
            "weighted avg      1.000     0.945     0.972      1517\n",
            "\n",
            "Simple test result:\n",
            "Prediction result: {'accuracy': 0.944627554383652, 'precision': 0.0, 'f1': 0.0, 'recall': 0.0}\n",
            "              precision    recall  f1-score   support\n",
            "\n",
            "           0     1.0000    0.9446    0.9715      1517\n",
            "           1     0.0000    0.0000    0.0000         0\n",
            "\n",
            "    accuracy                         0.9446      1517\n",
            "   macro avg     0.5000    0.4723    0.4858      1517\n",
            "weighted avg     1.0000    0.9446    0.9715      1517\n",
            "\n",
            "Train with feature union + over-sample\n"
          ],
          "name": "stdout"
        },
        {
          "output_type": "stream",
          "text": [
            "c:\\users\\longkuku\\appdata\\local\\programs\\python\\python37\\lib\\site-packages\\sklearn\\metrics\\_classification.py:1245: UndefinedMetricWarning: Recall is ill-defined and being set to 0.0 due to no true samples. Use `zero_division` parameter to control this behavior.\n",
            "  _warn_prf(average, modifier, msg_start, len(result))\n",
            "c:\\users\\longkuku\\appdata\\local\\programs\\python\\python37\\lib\\site-packages\\sklearn\\utils\\validation.py:72: FutureWarning: Pass beta=1 as keyword args. From version 1.0 (renaming of 0.25) passing these as positional arguments will result in an error\n",
            "  \"will result in an error\", FutureWarning)\n",
            "c:\\users\\longkuku\\appdata\\local\\programs\\python\\python37\\lib\\site-packages\\sklearn\\metrics\\_classification.py:1245: UndefinedMetricWarning: Recall and F-score are ill-defined and being set to 0.0 in labels with no true samples. Use `zero_division` parameter to control this behavior.\n",
            "  _warn_prf(average, modifier, msg_start, len(result))\n",
            "c:\\users\\longkuku\\appdata\\local\\programs\\python\\python37\\lib\\site-packages\\sklearn\\metrics\\_classification.py:1245: UndefinedMetricWarning: Recall and F-score are ill-defined and being set to 0.0 in labels with no true samples. Use `zero_division` parameter to control this behavior.\n",
            "  _warn_prf(average, modifier, msg_start, len(result))\n",
            "c:\\users\\longkuku\\appdata\\local\\programs\\python\\python37\\lib\\site-packages\\sklearn\\metrics\\_classification.py:1245: UndefinedMetricWarning: Recall and F-score are ill-defined and being set to 0.0 in labels with no true samples. Use `zero_division` parameter to control this behavior.\n",
            "  _warn_prf(average, modifier, msg_start, len(result))\n",
            "c:\\users\\longkuku\\appdata\\local\\programs\\python\\python37\\lib\\site-packages\\sklearn\\metrics\\_classification.py:1245: UndefinedMetricWarning: Recall is ill-defined and being set to 0.0 due to no true samples. Use `zero_division` parameter to control this behavior.\n",
            "  _warn_prf(average, modifier, msg_start, len(result))\n",
            "c:\\users\\longkuku\\appdata\\local\\programs\\python\\python37\\lib\\site-packages\\sklearn\\utils\\validation.py:72: FutureWarning: Pass beta=1 as keyword args. From version 1.0 (renaming of 0.25) passing these as positional arguments will result in an error\n",
            "  \"will result in an error\", FutureWarning)\n",
            "c:\\users\\longkuku\\appdata\\local\\programs\\python\\python37\\lib\\site-packages\\sklearn\\metrics\\_classification.py:1245: UndefinedMetricWarning: Recall and F-score are ill-defined and being set to 0.0 in labels with no true samples. Use `zero_division` parameter to control this behavior.\n",
            "  _warn_prf(average, modifier, msg_start, len(result))\n",
            "c:\\users\\longkuku\\appdata\\local\\programs\\python\\python37\\lib\\site-packages\\sklearn\\metrics\\_classification.py:1245: UndefinedMetricWarning: Recall and F-score are ill-defined and being set to 0.0 in labels with no true samples. Use `zero_division` parameter to control this behavior.\n",
            "  _warn_prf(average, modifier, msg_start, len(result))\n",
            "c:\\users\\longkuku\\appdata\\local\\programs\\python\\python37\\lib\\site-packages\\sklearn\\metrics\\_classification.py:1245: UndefinedMetricWarning: Recall and F-score are ill-defined and being set to 0.0 in labels with no true samples. Use `zero_division` parameter to control this behavior.\n",
            "  _warn_prf(average, modifier, msg_start, len(result))\n",
            "c:\\users\\longkuku\\appdata\\local\\programs\\python\\python37\\lib\\site-packages\\sklearn\\metrics\\_classification.py:1245: UndefinedMetricWarning: Precision is ill-defined and being set to 0.0 due to no predicted samples. Use `zero_division` parameter to control this behavior.\n",
            "  _warn_prf(average, modifier, msg_start, len(result))\n"
          ],
          "name": "stderr"
        },
        {
          "output_type": "stream",
          "text": [
            "Cross validation: Average training set result: test_accuracy=0.809304 test_precision=0.400000 test_f1=0.007236 test_recall=0.003663 .\n",
            "\n",
            "Cross validation: Average validation set result: train_accuracy=0.810352 train_precision=0.804322 train_f1=0.014501 train_recall=0.007326 .\n",
            "\n",
            "Evaluating on test set:\n",
            "Evaluation for: SVMresult on test set\n",
            "Classifier 'SVMresult on test set' has Acc=0.944 P=0.000 R=0.000 F1=0.000\n",
            "              precision    recall  f1-score   support\n",
            "\n",
            "           0      0.999     0.945     0.971      1516\n",
            "           1      0.000     0.000     0.000         1\n",
            "\n",
            "    accuracy                          0.944      1517\n",
            "   macro avg      0.500     0.472     0.486      1517\n",
            "weighted avg      0.999     0.944     0.971      1517\n",
            "\n",
            "Simple test result:\n",
            "Prediction result: {'accuracy': 0.9439683586025049, 'precision': 0.0, 'f1': 0.0, 'recall': 0.0}\n",
            "              precision    recall  f1-score   support\n",
            "\n",
            "           0     0.9993    0.9446    0.9712      1516\n",
            "           1     0.0000    0.0000    0.0000         1\n",
            "\n",
            "    accuracy                         0.9440      1517\n",
            "   macro avg     0.4997    0.4723    0.4856      1517\n",
            "weighted avg     0.9986    0.9440    0.9705      1517\n",
            "\n",
            "This compuation takes: 0:07:14\n",
            "Currently is processing 6\n",
            "Over-sample data set\n",
            "feature-union\n"
          ],
          "name": "stdout"
        },
        {
          "output_type": "stream",
          "text": [
            "c:\\users\\longkuku\\appdata\\local\\programs\\python\\python37\\lib\\site-packages\\sklearn\\utils\\validation.py:72: FutureWarning: Pass beta=1 as keyword args. From version 1.0 (renaming of 0.25) passing these as positional arguments will result in an error\n",
            "  \"will result in an error\", FutureWarning)\n",
            "c:\\users\\longkuku\\appdata\\local\\programs\\python\\python37\\lib\\site-packages\\sklearn\\utils\\validation.py:72: FutureWarning: Pass beta=1 as keyword args. From version 1.0 (renaming of 0.25) passing these as positional arguments will result in an error\n",
            "  \"will result in an error\", FutureWarning)\n"
          ],
          "name": "stderr"
        },
        {
          "output_type": "stream",
          "text": [
            "Train with feature union\n"
          ],
          "name": "stdout"
        },
        {
          "output_type": "stream",
          "text": [
            "c:\\users\\longkuku\\appdata\\local\\programs\\python\\python37\\lib\\site-packages\\sklearn\\metrics\\_classification.py:1245: UndefinedMetricWarning: Precision is ill-defined and being set to 0.0 due to no predicted samples. Use `zero_division` parameter to control this behavior.\n",
            "  _warn_prf(average, modifier, msg_start, len(result))\n",
            "c:\\users\\longkuku\\appdata\\local\\programs\\python\\python37\\lib\\site-packages\\sklearn\\metrics\\_classification.py:1245: UndefinedMetricWarning: Precision is ill-defined and being set to 0.0 due to no predicted samples. Use `zero_division` parameter to control this behavior.\n",
            "  _warn_prf(average, modifier, msg_start, len(result))\n",
            "c:\\users\\longkuku\\appdata\\local\\programs\\python\\python37\\lib\\site-packages\\sklearn\\metrics\\_classification.py:1245: UndefinedMetricWarning: Precision is ill-defined and being set to 0.0 due to no predicted samples. Use `zero_division` parameter to control this behavior.\n",
            "  _warn_prf(average, modifier, msg_start, len(result))\n",
            "c:\\users\\longkuku\\appdata\\local\\programs\\python\\python37\\lib\\site-packages\\sklearn\\metrics\\_classification.py:1245: UndefinedMetricWarning: Precision is ill-defined and being set to 0.0 due to no predicted samples. Use `zero_division` parameter to control this behavior.\n",
            "  _warn_prf(average, modifier, msg_start, len(result))\n",
            "c:\\users\\longkuku\\appdata\\local\\programs\\python\\python37\\lib\\site-packages\\sklearn\\metrics\\_classification.py:1245: UndefinedMetricWarning: Precision is ill-defined and being set to 0.0 due to no predicted samples. Use `zero_division` parameter to control this behavior.\n",
            "  _warn_prf(average, modifier, msg_start, len(result))\n",
            "c:\\users\\longkuku\\appdata\\local\\programs\\python\\python37\\lib\\site-packages\\sklearn\\metrics\\_classification.py:1245: UndefinedMetricWarning: Precision is ill-defined and being set to 0.0 due to no predicted samples. Use `zero_division` parameter to control this behavior.\n",
            "  _warn_prf(average, modifier, msg_start, len(result))\n"
          ],
          "name": "stderr"
        },
        {
          "output_type": "stream",
          "text": [
            "Cross validation: Average training set result: test_accuracy=0.934718 test_precision=0.000000 test_f1=0.000000 test_recall=0.000000 .\n",
            "\n",
            "Cross validation: Average validation set result: train_accuracy=0.934883 train_precision=0.800000 train_f1=0.005031 train_recall=0.002524 .\n",
            "\n",
            "Evaluating on test set:\n",
            "Evaluation for: SVMresult on test set\n",
            "Classifier 'SVMresult on test set' has Acc=0.871 P=0.000 R=0.000 F1=0.000\n",
            "              precision    recall  f1-score   support\n",
            "\n",
            "           0      1.000     0.871     0.931      1517\n",
            "           1      0.000     0.000     0.000         0\n",
            "\n",
            "    accuracy                          0.871      1517\n",
            "   macro avg      0.500     0.435     0.465      1517\n",
            "weighted avg      1.000     0.871     0.931      1517\n",
            "\n",
            "Simple test result:\n",
            "Prediction result: {'accuracy': 0.8707976268951879, 'precision': 0.0, 'f1': 0.0, 'recall': 0.0}\n",
            "              precision    recall  f1-score   support\n",
            "\n",
            "           0     1.0000    0.8708    0.9309      1517\n",
            "           1     0.0000    0.0000    0.0000         0\n",
            "\n",
            "    accuracy                         0.8708      1517\n",
            "   macro avg     0.5000    0.4354    0.4655      1517\n",
            "weighted avg     1.0000    0.8708    0.9309      1517\n",
            "\n",
            "Train with feature union + over-sample\n"
          ],
          "name": "stdout"
        },
        {
          "output_type": "stream",
          "text": [
            "c:\\users\\longkuku\\appdata\\local\\programs\\python\\python37\\lib\\site-packages\\sklearn\\metrics\\_classification.py:1245: UndefinedMetricWarning: Recall is ill-defined and being set to 0.0 due to no true samples. Use `zero_division` parameter to control this behavior.\n",
            "  _warn_prf(average, modifier, msg_start, len(result))\n",
            "c:\\users\\longkuku\\appdata\\local\\programs\\python\\python37\\lib\\site-packages\\sklearn\\utils\\validation.py:72: FutureWarning: Pass beta=1 as keyword args. From version 1.0 (renaming of 0.25) passing these as positional arguments will result in an error\n",
            "  \"will result in an error\", FutureWarning)\n",
            "c:\\users\\longkuku\\appdata\\local\\programs\\python\\python37\\lib\\site-packages\\sklearn\\metrics\\_classification.py:1245: UndefinedMetricWarning: Recall and F-score are ill-defined and being set to 0.0 in labels with no true samples. Use `zero_division` parameter to control this behavior.\n",
            "  _warn_prf(average, modifier, msg_start, len(result))\n",
            "c:\\users\\longkuku\\appdata\\local\\programs\\python\\python37\\lib\\site-packages\\sklearn\\metrics\\_classification.py:1245: UndefinedMetricWarning: Recall and F-score are ill-defined and being set to 0.0 in labels with no true samples. Use `zero_division` parameter to control this behavior.\n",
            "  _warn_prf(average, modifier, msg_start, len(result))\n",
            "c:\\users\\longkuku\\appdata\\local\\programs\\python\\python37\\lib\\site-packages\\sklearn\\metrics\\_classification.py:1245: UndefinedMetricWarning: Recall and F-score are ill-defined and being set to 0.0 in labels with no true samples. Use `zero_division` parameter to control this behavior.\n",
            "  _warn_prf(average, modifier, msg_start, len(result))\n",
            "c:\\users\\longkuku\\appdata\\local\\programs\\python\\python37\\lib\\site-packages\\sklearn\\metrics\\_classification.py:1245: UndefinedMetricWarning: Recall is ill-defined and being set to 0.0 due to no true samples. Use `zero_division` parameter to control this behavior.\n",
            "  _warn_prf(average, modifier, msg_start, len(result))\n",
            "c:\\users\\longkuku\\appdata\\local\\programs\\python\\python37\\lib\\site-packages\\sklearn\\utils\\validation.py:72: FutureWarning: Pass beta=1 as keyword args. From version 1.0 (renaming of 0.25) passing these as positional arguments will result in an error\n",
            "  \"will result in an error\", FutureWarning)\n",
            "c:\\users\\longkuku\\appdata\\local\\programs\\python\\python37\\lib\\site-packages\\sklearn\\metrics\\_classification.py:1245: UndefinedMetricWarning: Recall and F-score are ill-defined and being set to 0.0 in labels with no true samples. Use `zero_division` parameter to control this behavior.\n",
            "  _warn_prf(average, modifier, msg_start, len(result))\n",
            "c:\\users\\longkuku\\appdata\\local\\programs\\python\\python37\\lib\\site-packages\\sklearn\\metrics\\_classification.py:1245: UndefinedMetricWarning: Recall and F-score are ill-defined and being set to 0.0 in labels with no true samples. Use `zero_division` parameter to control this behavior.\n",
            "  _warn_prf(average, modifier, msg_start, len(result))\n",
            "c:\\users\\longkuku\\appdata\\local\\programs\\python\\python37\\lib\\site-packages\\sklearn\\metrics\\_classification.py:1245: UndefinedMetricWarning: Recall and F-score are ill-defined and being set to 0.0 in labels with no true samples. Use `zero_division` parameter to control this behavior.\n",
            "  _warn_prf(average, modifier, msg_start, len(result))\n",
            "c:\\users\\longkuku\\appdata\\local\\programs\\python\\python37\\lib\\site-packages\\sklearn\\metrics\\_classification.py:1245: UndefinedMetricWarning: Precision is ill-defined and being set to 0.0 due to no predicted samples. Use `zero_division` parameter to control this behavior.\n",
            "  _warn_prf(average, modifier, msg_start, len(result))\n",
            "c:\\users\\longkuku\\appdata\\local\\programs\\python\\python37\\lib\\site-packages\\sklearn\\metrics\\_classification.py:1245: UndefinedMetricWarning: Precision is ill-defined and being set to 0.0 due to no predicted samples. Use `zero_division` parameter to control this behavior.\n",
            "  _warn_prf(average, modifier, msg_start, len(result))\n",
            "c:\\users\\longkuku\\appdata\\local\\programs\\python\\python37\\lib\\site-packages\\sklearn\\metrics\\_classification.py:1245: UndefinedMetricWarning: Precision is ill-defined and being set to 0.0 due to no predicted samples. Use `zero_division` parameter to control this behavior.\n",
            "  _warn_prf(average, modifier, msg_start, len(result))\n"
          ],
          "name": "stderr"
        },
        {
          "output_type": "stream",
          "text": [
            "Cross validation: Average training set result: test_accuracy=0.877747 test_precision=0.400000 test_f1=0.005016 test_recall=0.002524 .\n",
            "\n",
            "Cross validation: Average validation set result: train_accuracy=0.877747 train_precision=1.000000 train_f1=0.005036 train_recall=0.002525 .\n",
            "\n",
            "Evaluating on test set:\n",
            "Evaluation for: SVMresult on test set\n",
            "Classifier 'SVMresult on test set' has Acc=0.870 P=0.000 R=0.000 F1=0.000\n",
            "              precision    recall  f1-score   support\n",
            "\n",
            "           0      0.999     0.871     0.931      1516\n",
            "           1      0.000     0.000     0.000         1\n",
            "\n",
            "    accuracy                          0.870      1517\n",
            "   macro avg      0.500     0.435     0.465      1517\n",
            "weighted avg      0.999     0.870     0.930      1517\n",
            "\n",
            "Simple test result:\n",
            "Prediction result: {'accuracy': 0.8701384311140409, 'precision': 0.0, 'f1': 0.0, 'recall': 0.0}\n",
            "              precision    recall  f1-score   support\n",
            "\n",
            "           0     0.9992    0.8707    0.9306      1516\n",
            "           1     0.0000    0.0000    0.0000         1\n",
            "\n",
            "    accuracy                         0.8701      1517\n",
            "   macro avg     0.4996    0.4354    0.4653      1517\n",
            "weighted avg     0.9986    0.8701    0.9299      1517\n",
            "\n",
            "This compuation takes: 0:06:47\n"
          ],
          "name": "stdout"
        },
        {
          "output_type": "stream",
          "text": [
            "c:\\users\\longkuku\\appdata\\local\\programs\\python\\python37\\lib\\site-packages\\sklearn\\utils\\validation.py:72: FutureWarning: Pass beta=1 as keyword args. From version 1.0 (renaming of 0.25) passing these as positional arguments will result in an error\n",
            "  \"will result in an error\", FutureWarning)\n",
            "c:\\users\\longkuku\\appdata\\local\\programs\\python\\python37\\lib\\site-packages\\sklearn\\utils\\validation.py:72: FutureWarning: Pass beta=1 as keyword args. From version 1.0 (renaming of 0.25) passing these as positional arguments will result in an error\n",
            "  \"will result in an error\", FutureWarning)\n"
          ],
          "name": "stderr"
        }
      ]
    },
    {
      "cell_type": "markdown",
      "metadata": {
        "id": "YOIrWXKAblWR"
      },
      "source": [
        "#### 2. count + count"
      ]
    },
    {
      "cell_type": "code",
      "metadata": {
        "id": "fOwRzkqSa3xS",
        "colab": {
          "base_uri": "https://localhost:8080/"
        },
        "outputId": "42fb4c47-0a69-4cce-c991-d7419c51bdab"
      },
      "source": [
        "vectorizers = [count_vect , count_vect]\r\n",
        "for i in range(7):\r\n",
        "    section_category = i\r\n",
        "    train_labels = labels_single_a[section_category][:int(len(cv19_a_run_info_labeled)*0.8)]\r\n",
        "    test_labels = labels_single_a[section_category][int(len(cv19_a_run_info_labeled)*0.8) :]\r\n",
        "    running_set = [train_features, train_labels, test_features, test_labels]\r\n",
        "    Classical_classifiers.svm(running_set, vectorizers, section_category, over_sample_targets=[1], increase_factor=best_over_sample_factors[i],\r\n",
        "                        )"
      ],
      "execution_count": null,
      "outputs": [
        {
          "output_type": "stream",
          "text": [
            "Over-sample data set\n",
            "feature-union\n",
            "Train with feature union\n"
          ],
          "name": "stdout"
        },
        {
          "output_type": "stream",
          "text": [
            "c:\\users\\longkuku\\appdata\\local\\programs\\python\\python37\\lib\\site-packages\\sklearn\\metrics\\_classification.py:1245: UndefinedMetricWarning: Precision is ill-defined and being set to 0.0 due to no predicted samples. Use `zero_division` parameter to control this behavior.\n",
            "  _warn_prf(average, modifier, msg_start, len(result))\n",
            "c:\\users\\longkuku\\appdata\\local\\programs\\python\\python37\\lib\\site-packages\\sklearn\\metrics\\_classification.py:1245: UndefinedMetricWarning: Precision is ill-defined and being set to 0.0 due to no predicted samples. Use `zero_division` parameter to control this behavior.\n",
            "  _warn_prf(average, modifier, msg_start, len(result))\n",
            "c:\\users\\longkuku\\appdata\\local\\programs\\python\\python37\\lib\\site-packages\\sklearn\\metrics\\_classification.py:1245: UndefinedMetricWarning: Precision is ill-defined and being set to 0.0 due to no predicted samples. Use `zero_division` parameter to control this behavior.\n",
            "  _warn_prf(average, modifier, msg_start, len(result))\n",
            "c:\\users\\longkuku\\appdata\\local\\programs\\python\\python37\\lib\\site-packages\\sklearn\\metrics\\_classification.py:1245: UndefinedMetricWarning: Precision is ill-defined and being set to 0.0 due to no predicted samples. Use `zero_division` parameter to control this behavior.\n",
            "  _warn_prf(average, modifier, msg_start, len(result))\n",
            "c:\\users\\longkuku\\appdata\\local\\programs\\python\\python37\\lib\\site-packages\\sklearn\\metrics\\_classification.py:1245: UndefinedMetricWarning: Precision is ill-defined and being set to 0.0 due to no predicted samples. Use `zero_division` parameter to control this behavior.\n",
            "  _warn_prf(average, modifier, msg_start, len(result))\n",
            "c:\\users\\longkuku\\appdata\\local\\programs\\python\\python37\\lib\\site-packages\\sklearn\\metrics\\_classification.py:1245: UndefinedMetricWarning: Precision is ill-defined and being set to 0.0 due to no predicted samples. Use `zero_division` parameter to control this behavior.\n",
            "  _warn_prf(average, modifier, msg_start, len(result))\n",
            "c:\\users\\longkuku\\appdata\\local\\programs\\python\\python37\\lib\\site-packages\\sklearn\\metrics\\_classification.py:1245: UndefinedMetricWarning: Precision is ill-defined and being set to 0.0 due to no predicted samples. Use `zero_division` parameter to control this behavior.\n",
            "  _warn_prf(average, modifier, msg_start, len(result))\n",
            "c:\\users\\longkuku\\appdata\\local\\programs\\python\\python37\\lib\\site-packages\\sklearn\\metrics\\_classification.py:1245: UndefinedMetricWarning: Precision is ill-defined and being set to 0.0 due to no predicted samples. Use `zero_division` parameter to control this behavior.\n",
            "  _warn_prf(average, modifier, msg_start, len(result))\n",
            "c:\\users\\longkuku\\appdata\\local\\programs\\python\\python37\\lib\\site-packages\\sklearn\\metrics\\_classification.py:1245: UndefinedMetricWarning: Precision is ill-defined and being set to 0.0 due to no predicted samples. Use `zero_division` parameter to control this behavior.\n",
            "  _warn_prf(average, modifier, msg_start, len(result))\n",
            "c:\\users\\longkuku\\appdata\\local\\programs\\python\\python37\\lib\\site-packages\\sklearn\\metrics\\_classification.py:1245: UndefinedMetricWarning: Precision is ill-defined and being set to 0.0 due to no predicted samples. Use `zero_division` parameter to control this behavior.\n",
            "  _warn_prf(average, modifier, msg_start, len(result))\n"
          ],
          "name": "stderr"
        },
        {
          "output_type": "stream",
          "text": [
            "Cross validation: Average training set result: test_accuracy=0.997362 test_precision=0.000000 test_f1=0.000000 test_recall=0.000000 .\n",
            "\n",
            "Cross validation: Average validation set result: train_accuracy=0.997362 train_precision=0.000000 train_f1=0.000000 train_recall=0.000000 .\n",
            "\n",
            "Evaluating on test set:\n",
            "Evaluation for: SVMresult on test set\n",
            "Classifier 'SVMresult on test set' has Acc=0.999 P=0.000 R=0.000 F1=0.000\n",
            "              precision    recall  f1-score   support\n",
            "\n",
            "           0      1.000     0.999     0.999      1517\n",
            "           1      0.000     0.000     0.000         0\n",
            "\n",
            "    accuracy                          0.999      1517\n",
            "   macro avg      0.500     0.499     0.500      1517\n",
            "weighted avg      1.000     0.999     0.999      1517\n",
            "\n",
            "Simple test result:\n",
            "Prediction result: {'accuracy': 0.998681608437706, 'precision': 0.0, 'f1': 0.0, 'recall': 0.0}\n",
            "              precision    recall  f1-score   support\n",
            "\n",
            "           0     1.0000    0.9987    0.9993      1517\n",
            "           1     0.0000    0.0000    0.0000         0\n",
            "\n",
            "    accuracy                         0.9987      1517\n",
            "   macro avg     0.5000    0.4993    0.4997      1517\n",
            "weighted avg     1.0000    0.9987    0.9993      1517\n",
            "\n",
            "Train with feature union + over-sample\n"
          ],
          "name": "stdout"
        },
        {
          "output_type": "stream",
          "text": [
            "c:\\users\\longkuku\\appdata\\local\\programs\\python\\python37\\lib\\site-packages\\sklearn\\metrics\\_classification.py:1245: UndefinedMetricWarning: Recall is ill-defined and being set to 0.0 due to no true samples. Use `zero_division` parameter to control this behavior.\n",
            "  _warn_prf(average, modifier, msg_start, len(result))\n",
            "c:\\users\\longkuku\\appdata\\local\\programs\\python\\python37\\lib\\site-packages\\sklearn\\utils\\validation.py:72: FutureWarning: Pass beta=1 as keyword args. From version 1.0 (renaming of 0.25) passing these as positional arguments will result in an error\n",
            "  \"will result in an error\", FutureWarning)\n",
            "c:\\users\\longkuku\\appdata\\local\\programs\\python\\python37\\lib\\site-packages\\sklearn\\metrics\\_classification.py:1245: UndefinedMetricWarning: Recall and F-score are ill-defined and being set to 0.0 in labels with no true samples. Use `zero_division` parameter to control this behavior.\n",
            "  _warn_prf(average, modifier, msg_start, len(result))\n",
            "c:\\users\\longkuku\\appdata\\local\\programs\\python\\python37\\lib\\site-packages\\sklearn\\metrics\\_classification.py:1245: UndefinedMetricWarning: Recall and F-score are ill-defined and being set to 0.0 in labels with no true samples. Use `zero_division` parameter to control this behavior.\n",
            "  _warn_prf(average, modifier, msg_start, len(result))\n",
            "c:\\users\\longkuku\\appdata\\local\\programs\\python\\python37\\lib\\site-packages\\sklearn\\metrics\\_classification.py:1245: UndefinedMetricWarning: Recall and F-score are ill-defined and being set to 0.0 in labels with no true samples. Use `zero_division` parameter to control this behavior.\n",
            "  _warn_prf(average, modifier, msg_start, len(result))\n",
            "c:\\users\\longkuku\\appdata\\local\\programs\\python\\python37\\lib\\site-packages\\sklearn\\metrics\\_classification.py:1245: UndefinedMetricWarning: Recall is ill-defined and being set to 0.0 due to no true samples. Use `zero_division` parameter to control this behavior.\n",
            "  _warn_prf(average, modifier, msg_start, len(result))\n",
            "c:\\users\\longkuku\\appdata\\local\\programs\\python\\python37\\lib\\site-packages\\sklearn\\utils\\validation.py:72: FutureWarning: Pass beta=1 as keyword args. From version 1.0 (renaming of 0.25) passing these as positional arguments will result in an error\n",
            "  \"will result in an error\", FutureWarning)\n",
            "c:\\users\\longkuku\\appdata\\local\\programs\\python\\python37\\lib\\site-packages\\sklearn\\metrics\\_classification.py:1245: UndefinedMetricWarning: Recall and F-score are ill-defined and being set to 0.0 in labels with no true samples. Use `zero_division` parameter to control this behavior.\n",
            "  _warn_prf(average, modifier, msg_start, len(result))\n",
            "c:\\users\\longkuku\\appdata\\local\\programs\\python\\python37\\lib\\site-packages\\sklearn\\metrics\\_classification.py:1245: UndefinedMetricWarning: Recall and F-score are ill-defined and being set to 0.0 in labels with no true samples. Use `zero_division` parameter to control this behavior.\n",
            "  _warn_prf(average, modifier, msg_start, len(result))\n",
            "c:\\users\\longkuku\\appdata\\local\\programs\\python\\python37\\lib\\site-packages\\sklearn\\metrics\\_classification.py:1245: UndefinedMetricWarning: Recall and F-score are ill-defined and being set to 0.0 in labels with no true samples. Use `zero_division` parameter to control this behavior.\n",
            "  _warn_prf(average, modifier, msg_start, len(result))\n",
            "c:\\users\\longkuku\\appdata\\local\\programs\\python\\python37\\lib\\site-packages\\sklearn\\metrics\\_classification.py:1245: UndefinedMetricWarning: Precision is ill-defined and being set to 0.0 due to no predicted samples. Use `zero_division` parameter to control this behavior.\n",
            "  _warn_prf(average, modifier, msg_start, len(result))\n",
            "c:\\users\\longkuku\\appdata\\local\\programs\\python\\python37\\lib\\site-packages\\sklearn\\metrics\\_classification.py:1245: UndefinedMetricWarning: Precision is ill-defined and being set to 0.0 due to no predicted samples. Use `zero_division` parameter to control this behavior.\n",
            "  _warn_prf(average, modifier, msg_start, len(result))\n",
            "c:\\users\\longkuku\\appdata\\local\\programs\\python\\python37\\lib\\site-packages\\sklearn\\metrics\\_classification.py:1245: UndefinedMetricWarning: Precision is ill-defined and being set to 0.0 due to no predicted samples. Use `zero_division` parameter to control this behavior.\n",
            "  _warn_prf(average, modifier, msg_start, len(result))\n"
          ],
          "name": "stderr"
        },
        {
          "output_type": "stream",
          "text": [
            "Cross validation: Average training set result: test_accuracy=0.937519 test_precision=0.200000 test_f1=0.004938 test_recall=0.002500 .\n",
            "\n",
            "Cross validation: Average validation set result: train_accuracy=0.941202 train_precision=0.689327 train_f1=0.113550 train_recall=0.061875 .\n",
            "\n",
            "Evaluating on test set:\n",
            "Evaluation for: SVMresult on test set\n",
            "Classifier 'SVMresult on test set' has Acc=0.998 P=0.000 R=0.000 F1=0.000\n",
            "              precision    recall  f1-score   support\n",
            "\n",
            "           0      0.999     0.999     0.999      1516\n",
            "           1      0.000     0.000     0.000         1\n",
            "\n",
            "    accuracy                          0.998      1517\n",
            "   macro avg      0.500     0.499     0.500      1517\n",
            "weighted avg      0.999     0.998     0.998      1517\n",
            "\n",
            "Simple test result:\n",
            "Prediction result: {'accuracy': 0.998022412656559, 'precision': 0.0, 'f1': 0.0, 'recall': 0.0}\n",
            "              precision    recall  f1-score   support\n",
            "\n",
            "           0     0.9993    0.9987    0.9990      1516\n",
            "           1     0.0000    0.0000    0.0000         1\n",
            "\n",
            "    accuracy                         0.9980      1517\n",
            "   macro avg     0.4997    0.4993    0.4995      1517\n",
            "weighted avg     0.9987    0.9980    0.9984      1517\n",
            "\n",
            "This compuation takes: 0:06:26\n",
            "Over-sample data set\n",
            "feature-union\n"
          ],
          "name": "stdout"
        },
        {
          "output_type": "stream",
          "text": [
            "c:\\users\\longkuku\\appdata\\local\\programs\\python\\python37\\lib\\site-packages\\sklearn\\utils\\validation.py:72: FutureWarning: Pass beta=1 as keyword args. From version 1.0 (renaming of 0.25) passing these as positional arguments will result in an error\n",
            "  \"will result in an error\", FutureWarning)\n",
            "c:\\users\\longkuku\\appdata\\local\\programs\\python\\python37\\lib\\site-packages\\sklearn\\utils\\validation.py:72: FutureWarning: Pass beta=1 as keyword args. From version 1.0 (renaming of 0.25) passing these as positional arguments will result in an error\n",
            "  \"will result in an error\", FutureWarning)\n"
          ],
          "name": "stderr"
        },
        {
          "output_type": "stream",
          "text": [
            "Train with feature union\n"
          ],
          "name": "stdout"
        },
        {
          "output_type": "stream",
          "text": [
            "c:\\users\\longkuku\\appdata\\local\\programs\\python\\python37\\lib\\site-packages\\sklearn\\metrics\\_classification.py:1245: UndefinedMetricWarning: Precision is ill-defined and being set to 0.0 due to no predicted samples. Use `zero_division` parameter to control this behavior.\n",
            "  _warn_prf(average, modifier, msg_start, len(result))\n",
            "c:\\users\\longkuku\\appdata\\local\\programs\\python\\python37\\lib\\site-packages\\sklearn\\metrics\\_classification.py:1245: UndefinedMetricWarning: Precision is ill-defined and being set to 0.0 due to no predicted samples. Use `zero_division` parameter to control this behavior.\n",
            "  _warn_prf(average, modifier, msg_start, len(result))\n",
            "c:\\users\\longkuku\\appdata\\local\\programs\\python\\python37\\lib\\site-packages\\sklearn\\metrics\\_classification.py:1245: UndefinedMetricWarning: Precision is ill-defined and being set to 0.0 due to no predicted samples. Use `zero_division` parameter to control this behavior.\n",
            "  _warn_prf(average, modifier, msg_start, len(result))\n",
            "c:\\users\\longkuku\\appdata\\local\\programs\\python\\python37\\lib\\site-packages\\sklearn\\metrics\\_classification.py:1245: UndefinedMetricWarning: Precision is ill-defined and being set to 0.0 due to no predicted samples. Use `zero_division` parameter to control this behavior.\n",
            "  _warn_prf(average, modifier, msg_start, len(result))\n",
            "c:\\users\\longkuku\\appdata\\local\\programs\\python\\python37\\lib\\site-packages\\sklearn\\metrics\\_classification.py:1245: UndefinedMetricWarning: Precision is ill-defined and being set to 0.0 due to no predicted samples. Use `zero_division` parameter to control this behavior.\n",
            "  _warn_prf(average, modifier, msg_start, len(result))\n",
            "c:\\users\\longkuku\\appdata\\local\\programs\\python\\python37\\lib\\site-packages\\sklearn\\metrics\\_classification.py:1245: UndefinedMetricWarning: Precision is ill-defined and being set to 0.0 due to no predicted samples. Use `zero_division` parameter to control this behavior.\n",
            "  _warn_prf(average, modifier, msg_start, len(result))\n",
            "c:\\users\\longkuku\\appdata\\local\\programs\\python\\python37\\lib\\site-packages\\sklearn\\metrics\\_classification.py:1245: UndefinedMetricWarning: Precision is ill-defined and being set to 0.0 due to no predicted samples. Use `zero_division` parameter to control this behavior.\n",
            "  _warn_prf(average, modifier, msg_start, len(result))\n",
            "c:\\users\\longkuku\\appdata\\local\\programs\\python\\python37\\lib\\site-packages\\sklearn\\metrics\\_classification.py:1245: UndefinedMetricWarning: Precision is ill-defined and being set to 0.0 due to no predicted samples. Use `zero_division` parameter to control this behavior.\n",
            "  _warn_prf(average, modifier, msg_start, len(result))\n",
            "c:\\users\\longkuku\\appdata\\local\\programs\\python\\python37\\lib\\site-packages\\sklearn\\metrics\\_classification.py:1245: UndefinedMetricWarning: Precision is ill-defined and being set to 0.0 due to no predicted samples. Use `zero_division` parameter to control this behavior.\n",
            "  _warn_prf(average, modifier, msg_start, len(result))\n",
            "c:\\users\\longkuku\\appdata\\local\\programs\\python\\python37\\lib\\site-packages\\sklearn\\metrics\\_classification.py:1245: UndefinedMetricWarning: Precision is ill-defined and being set to 0.0 due to no predicted samples. Use `zero_division` parameter to control this behavior.\n",
            "  _warn_prf(average, modifier, msg_start, len(result))\n"
          ],
          "name": "stderr"
        },
        {
          "output_type": "stream",
          "text": [
            "Cross validation: Average training set result: test_accuracy=0.997362 test_precision=0.000000 test_f1=0.000000 test_recall=0.000000 .\n",
            "\n",
            "Cross validation: Average validation set result: train_accuracy=0.997362 train_precision=0.000000 train_f1=0.000000 train_recall=0.000000 .\n",
            "\n",
            "Evaluating on test set:\n",
            "Evaluation for: SVMresult on test set\n",
            "Classifier 'SVMresult on test set' has Acc=0.995 P=0.000 R=0.000 F1=0.000\n",
            "              precision    recall  f1-score   support\n",
            "\n",
            "           0      1.000     0.995     0.998      1517\n",
            "           1      0.000     0.000     0.000         0\n",
            "\n",
            "    accuracy                          0.995      1517\n",
            "   macro avg      0.500     0.498     0.499      1517\n",
            "weighted avg      1.000     0.995     0.998      1517\n",
            "\n",
            "Simple test result:\n",
            "Prediction result: {'accuracy': 0.995385629531971, 'precision': 0.0, 'f1': 0.0, 'recall': 0.0}\n",
            "              precision    recall  f1-score   support\n",
            "\n",
            "           0     1.0000    0.9954    0.9977      1517\n",
            "           1     0.0000    0.0000    0.0000         0\n",
            "\n",
            "    accuracy                         0.9954      1517\n",
            "   macro avg     0.5000    0.4977    0.4988      1517\n",
            "weighted avg     1.0000    0.9954    0.9977      1517\n",
            "\n",
            "Train with feature union + over-sample\n"
          ],
          "name": "stdout"
        },
        {
          "output_type": "stream",
          "text": [
            "c:\\users\\longkuku\\appdata\\local\\programs\\python\\python37\\lib\\site-packages\\sklearn\\metrics\\_classification.py:1245: UndefinedMetricWarning: Recall is ill-defined and being set to 0.0 due to no true samples. Use `zero_division` parameter to control this behavior.\n",
            "  _warn_prf(average, modifier, msg_start, len(result))\n",
            "c:\\users\\longkuku\\appdata\\local\\programs\\python\\python37\\lib\\site-packages\\sklearn\\utils\\validation.py:72: FutureWarning: Pass beta=1 as keyword args. From version 1.0 (renaming of 0.25) passing these as positional arguments will result in an error\n",
            "  \"will result in an error\", FutureWarning)\n",
            "c:\\users\\longkuku\\appdata\\local\\programs\\python\\python37\\lib\\site-packages\\sklearn\\metrics\\_classification.py:1245: UndefinedMetricWarning: Recall and F-score are ill-defined and being set to 0.0 in labels with no true samples. Use `zero_division` parameter to control this behavior.\n",
            "  _warn_prf(average, modifier, msg_start, len(result))\n",
            "c:\\users\\longkuku\\appdata\\local\\programs\\python\\python37\\lib\\site-packages\\sklearn\\metrics\\_classification.py:1245: UndefinedMetricWarning: Recall and F-score are ill-defined and being set to 0.0 in labels with no true samples. Use `zero_division` parameter to control this behavior.\n",
            "  _warn_prf(average, modifier, msg_start, len(result))\n",
            "c:\\users\\longkuku\\appdata\\local\\programs\\python\\python37\\lib\\site-packages\\sklearn\\metrics\\_classification.py:1245: UndefinedMetricWarning: Recall and F-score are ill-defined and being set to 0.0 in labels with no true samples. Use `zero_division` parameter to control this behavior.\n",
            "  _warn_prf(average, modifier, msg_start, len(result))\n",
            "c:\\users\\longkuku\\appdata\\local\\programs\\python\\python37\\lib\\site-packages\\sklearn\\metrics\\_classification.py:1245: UndefinedMetricWarning: Recall is ill-defined and being set to 0.0 due to no true samples. Use `zero_division` parameter to control this behavior.\n",
            "  _warn_prf(average, modifier, msg_start, len(result))\n",
            "c:\\users\\longkuku\\appdata\\local\\programs\\python\\python37\\lib\\site-packages\\sklearn\\utils\\validation.py:72: FutureWarning: Pass beta=1 as keyword args. From version 1.0 (renaming of 0.25) passing these as positional arguments will result in an error\n",
            "  \"will result in an error\", FutureWarning)\n",
            "c:\\users\\longkuku\\appdata\\local\\programs\\python\\python37\\lib\\site-packages\\sklearn\\metrics\\_classification.py:1245: UndefinedMetricWarning: Recall and F-score are ill-defined and being set to 0.0 in labels with no true samples. Use `zero_division` parameter to control this behavior.\n",
            "  _warn_prf(average, modifier, msg_start, len(result))\n",
            "c:\\users\\longkuku\\appdata\\local\\programs\\python\\python37\\lib\\site-packages\\sklearn\\metrics\\_classification.py:1245: UndefinedMetricWarning: Recall and F-score are ill-defined and being set to 0.0 in labels with no true samples. Use `zero_division` parameter to control this behavior.\n",
            "  _warn_prf(average, modifier, msg_start, len(result))\n",
            "c:\\users\\longkuku\\appdata\\local\\programs\\python\\python37\\lib\\site-packages\\sklearn\\metrics\\_classification.py:1245: UndefinedMetricWarning: Recall and F-score are ill-defined and being set to 0.0 in labels with no true samples. Use `zero_division` parameter to control this behavior.\n",
            "  _warn_prf(average, modifier, msg_start, len(result))\n",
            "c:\\users\\longkuku\\appdata\\local\\programs\\python\\python37\\lib\\site-packages\\sklearn\\metrics\\_classification.py:1245: UndefinedMetricWarning: Precision is ill-defined and being set to 0.0 due to no predicted samples. Use `zero_division` parameter to control this behavior.\n",
            "  _warn_prf(average, modifier, msg_start, len(result))\n",
            "c:\\users\\longkuku\\appdata\\local\\programs\\python\\python37\\lib\\site-packages\\sklearn\\metrics\\_classification.py:1245: UndefinedMetricWarning: Precision is ill-defined and being set to 0.0 due to no predicted samples. Use `zero_division` parameter to control this behavior.\n",
            "  _warn_prf(average, modifier, msg_start, len(result))\n",
            "c:\\users\\longkuku\\appdata\\local\\programs\\python\\python37\\lib\\site-packages\\sklearn\\metrics\\_classification.py:1245: UndefinedMetricWarning: Precision is ill-defined and being set to 0.0 due to no predicted samples. Use `zero_division` parameter to control this behavior.\n",
            "  _warn_prf(average, modifier, msg_start, len(result))\n",
            "c:\\users\\longkuku\\appdata\\local\\programs\\python\\python37\\lib\\site-packages\\sklearn\\metrics\\_classification.py:1245: UndefinedMetricWarning: Precision is ill-defined and being set to 0.0 due to no predicted samples. Use `zero_division` parameter to control this behavior.\n",
            "  _warn_prf(average, modifier, msg_start, len(result))\n",
            "c:\\users\\longkuku\\appdata\\local\\programs\\python\\python37\\lib\\site-packages\\sklearn\\metrics\\_classification.py:1245: UndefinedMetricWarning: Precision is ill-defined and being set to 0.0 due to no predicted samples. Use `zero_division` parameter to control this behavior.\n",
            "  _warn_prf(average, modifier, msg_start, len(result))\n",
            "c:\\users\\longkuku\\appdata\\local\\programs\\python\\python37\\lib\\site-packages\\sklearn\\metrics\\_classification.py:1245: UndefinedMetricWarning: Precision is ill-defined and being set to 0.0 due to no predicted samples. Use `zero_division` parameter to control this behavior.\n",
            "  _warn_prf(average, modifier, msg_start, len(result))\n",
            "c:\\users\\longkuku\\appdata\\local\\programs\\python\\python37\\lib\\site-packages\\sklearn\\metrics\\_classification.py:1245: UndefinedMetricWarning: Precision is ill-defined and being set to 0.0 due to no predicted samples. Use `zero_division` parameter to control this behavior.\n",
            "  _warn_prf(average, modifier, msg_start, len(result))\n",
            "c:\\users\\longkuku\\appdata\\local\\programs\\python\\python37\\lib\\site-packages\\sklearn\\metrics\\_classification.py:1245: UndefinedMetricWarning: Precision is ill-defined and being set to 0.0 due to no predicted samples. Use `zero_division` parameter to control this behavior.\n",
            "  _warn_prf(average, modifier, msg_start, len(result))\n",
            "c:\\users\\longkuku\\appdata\\local\\programs\\python\\python37\\lib\\site-packages\\sklearn\\metrics\\_classification.py:1245: UndefinedMetricWarning: Precision is ill-defined and being set to 0.0 due to no predicted samples. Use `zero_division` parameter to control this behavior.\n",
            "  _warn_prf(average, modifier, msg_start, len(result))\n"
          ],
          "name": "stderr"
        },
        {
          "output_type": "stream",
          "text": [
            "Cross validation: Average training set result: test_accuracy=0.893648 test_precision=0.000000 test_f1=0.000000 test_recall=0.000000 .\n",
            "\n",
            "Cross validation: Average validation set result: train_accuracy=0.900295 train_precision=0.200000 train_f1=0.095238 train_recall=0.062500 .\n",
            "\n",
            "Evaluating on test set:\n",
            "Evaluation for: SVMresult on test set\n",
            "Classifier 'SVMresult on test set' has Acc=0.995 P=0.000 R=0.000 F1=0.000\n",
            "              precision    recall  f1-score   support\n",
            "\n",
            "           0      1.000     0.995     0.998      1517\n",
            "           1      0.000     0.000     0.000         0\n",
            "\n",
            "    accuracy                          0.995      1517\n",
            "   macro avg      0.500     0.498     0.499      1517\n",
            "weighted avg      1.000     0.995     0.998      1517\n",
            "\n",
            "Simple test result:\n",
            "Prediction result: {'accuracy': 0.995385629531971, 'precision': 0.0, 'f1': 0.0, 'recall': 0.0}\n",
            "              precision    recall  f1-score   support\n",
            "\n",
            "           0     1.0000    0.9954    0.9977      1517\n",
            "           1     0.0000    0.0000    0.0000         0\n",
            "\n",
            "    accuracy                         0.9954      1517\n",
            "   macro avg     0.5000    0.4977    0.4988      1517\n",
            "weighted avg     1.0000    0.9954    0.9977      1517\n",
            "\n",
            "This compuation takes: 0:06:40\n",
            "Over-sample data set\n",
            "feature-union\n"
          ],
          "name": "stdout"
        },
        {
          "output_type": "stream",
          "text": [
            "c:\\users\\longkuku\\appdata\\local\\programs\\python\\python37\\lib\\site-packages\\sklearn\\metrics\\_classification.py:1245: UndefinedMetricWarning: Recall is ill-defined and being set to 0.0 due to no true samples. Use `zero_division` parameter to control this behavior.\n",
            "  _warn_prf(average, modifier, msg_start, len(result))\n",
            "c:\\users\\longkuku\\appdata\\local\\programs\\python\\python37\\lib\\site-packages\\sklearn\\utils\\validation.py:72: FutureWarning: Pass beta=1 as keyword args. From version 1.0 (renaming of 0.25) passing these as positional arguments will result in an error\n",
            "  \"will result in an error\", FutureWarning)\n",
            "c:\\users\\longkuku\\appdata\\local\\programs\\python\\python37\\lib\\site-packages\\sklearn\\metrics\\_classification.py:1245: UndefinedMetricWarning: Recall and F-score are ill-defined and being set to 0.0 in labels with no true samples. Use `zero_division` parameter to control this behavior.\n",
            "  _warn_prf(average, modifier, msg_start, len(result))\n",
            "c:\\users\\longkuku\\appdata\\local\\programs\\python\\python37\\lib\\site-packages\\sklearn\\metrics\\_classification.py:1245: UndefinedMetricWarning: Recall and F-score are ill-defined and being set to 0.0 in labels with no true samples. Use `zero_division` parameter to control this behavior.\n",
            "  _warn_prf(average, modifier, msg_start, len(result))\n",
            "c:\\users\\longkuku\\appdata\\local\\programs\\python\\python37\\lib\\site-packages\\sklearn\\metrics\\_classification.py:1245: UndefinedMetricWarning: Recall and F-score are ill-defined and being set to 0.0 in labels with no true samples. Use `zero_division` parameter to control this behavior.\n",
            "  _warn_prf(average, modifier, msg_start, len(result))\n",
            "c:\\users\\longkuku\\appdata\\local\\programs\\python\\python37\\lib\\site-packages\\sklearn\\metrics\\_classification.py:1245: UndefinedMetricWarning: Recall is ill-defined and being set to 0.0 due to no true samples. Use `zero_division` parameter to control this behavior.\n",
            "  _warn_prf(average, modifier, msg_start, len(result))\n",
            "c:\\users\\longkuku\\appdata\\local\\programs\\python\\python37\\lib\\site-packages\\sklearn\\utils\\validation.py:72: FutureWarning: Pass beta=1 as keyword args. From version 1.0 (renaming of 0.25) passing these as positional arguments will result in an error\n",
            "  \"will result in an error\", FutureWarning)\n",
            "c:\\users\\longkuku\\appdata\\local\\programs\\python\\python37\\lib\\site-packages\\sklearn\\metrics\\_classification.py:1245: UndefinedMetricWarning: Recall and F-score are ill-defined and being set to 0.0 in labels with no true samples. Use `zero_division` parameter to control this behavior.\n",
            "  _warn_prf(average, modifier, msg_start, len(result))\n",
            "c:\\users\\longkuku\\appdata\\local\\programs\\python\\python37\\lib\\site-packages\\sklearn\\metrics\\_classification.py:1245: UndefinedMetricWarning: Recall and F-score are ill-defined and being set to 0.0 in labels with no true samples. Use `zero_division` parameter to control this behavior.\n",
            "  _warn_prf(average, modifier, msg_start, len(result))\n",
            "c:\\users\\longkuku\\appdata\\local\\programs\\python\\python37\\lib\\site-packages\\sklearn\\metrics\\_classification.py:1245: UndefinedMetricWarning: Recall and F-score are ill-defined and being set to 0.0 in labels with no true samples. Use `zero_division` parameter to control this behavior.\n",
            "  _warn_prf(average, modifier, msg_start, len(result))\n"
          ],
          "name": "stderr"
        },
        {
          "output_type": "stream",
          "text": [
            "Train with feature union\n"
          ],
          "name": "stdout"
        },
        {
          "output_type": "stream",
          "text": [
            "c:\\users\\longkuku\\appdata\\local\\programs\\python\\python37\\lib\\site-packages\\sklearn\\metrics\\_classification.py:1245: UndefinedMetricWarning: Precision is ill-defined and being set to 0.0 due to no predicted samples. Use `zero_division` parameter to control this behavior.\n",
            "  _warn_prf(average, modifier, msg_start, len(result))\n",
            "c:\\users\\longkuku\\appdata\\local\\programs\\python\\python37\\lib\\site-packages\\sklearn\\metrics\\_classification.py:1245: UndefinedMetricWarning: Precision is ill-defined and being set to 0.0 due to no predicted samples. Use `zero_division` parameter to control this behavior.\n",
            "  _warn_prf(average, modifier, msg_start, len(result))\n",
            "c:\\users\\longkuku\\appdata\\local\\programs\\python\\python37\\lib\\site-packages\\sklearn\\metrics\\_classification.py:1245: UndefinedMetricWarning: Precision is ill-defined and being set to 0.0 due to no predicted samples. Use `zero_division` parameter to control this behavior.\n",
            "  _warn_prf(average, modifier, msg_start, len(result))\n",
            "c:\\users\\longkuku\\appdata\\local\\programs\\python\\python37\\lib\\site-packages\\sklearn\\metrics\\_classification.py:1245: UndefinedMetricWarning: Precision is ill-defined and being set to 0.0 due to no predicted samples. Use `zero_division` parameter to control this behavior.\n",
            "  _warn_prf(average, modifier, msg_start, len(result))\n",
            "c:\\users\\longkuku\\appdata\\local\\programs\\python\\python37\\lib\\site-packages\\sklearn\\metrics\\_classification.py:1245: UndefinedMetricWarning: Precision is ill-defined and being set to 0.0 due to no predicted samples. Use `zero_division` parameter to control this behavior.\n",
            "  _warn_prf(average, modifier, msg_start, len(result))\n",
            "c:\\users\\longkuku\\appdata\\local\\programs\\python\\python37\\lib\\site-packages\\sklearn\\metrics\\_classification.py:1245: UndefinedMetricWarning: Precision is ill-defined and being set to 0.0 due to no predicted samples. Use `zero_division` parameter to control this behavior.\n",
            "  _warn_prf(average, modifier, msg_start, len(result))\n",
            "c:\\users\\longkuku\\appdata\\local\\programs\\python\\python37\\lib\\site-packages\\sklearn\\metrics\\_classification.py:1245: UndefinedMetricWarning: Precision is ill-defined and being set to 0.0 due to no predicted samples. Use `zero_division` parameter to control this behavior.\n",
            "  _warn_prf(average, modifier, msg_start, len(result))\n",
            "c:\\users\\longkuku\\appdata\\local\\programs\\python\\python37\\lib\\site-packages\\sklearn\\metrics\\_classification.py:1245: UndefinedMetricWarning: Precision is ill-defined and being set to 0.0 due to no predicted samples. Use `zero_division` parameter to control this behavior.\n",
            "  _warn_prf(average, modifier, msg_start, len(result))\n",
            "c:\\users\\longkuku\\appdata\\local\\programs\\python\\python37\\lib\\site-packages\\sklearn\\metrics\\_classification.py:1245: UndefinedMetricWarning: Precision is ill-defined and being set to 0.0 due to no predicted samples. Use `zero_division` parameter to control this behavior.\n",
            "  _warn_prf(average, modifier, msg_start, len(result))\n",
            "c:\\users\\longkuku\\appdata\\local\\programs\\python\\python37\\lib\\site-packages\\sklearn\\metrics\\_classification.py:1245: UndefinedMetricWarning: Precision is ill-defined and being set to 0.0 due to no predicted samples. Use `zero_division` parameter to control this behavior.\n",
            "  _warn_prf(average, modifier, msg_start, len(result))\n"
          ],
          "name": "stderr"
        },
        {
          "output_type": "stream",
          "text": [
            "Cross validation: Average training set result: test_accuracy=0.994560 test_precision=0.000000 test_f1=0.000000 test_recall=0.000000 .\n",
            "\n",
            "Cross validation: Average validation set result: train_accuracy=0.994560 train_precision=0.000000 train_f1=0.000000 train_recall=0.000000 .\n",
            "\n",
            "Evaluating on test set:\n",
            "Evaluation for: SVMresult on test set\n",
            "Classifier 'SVMresult on test set' has Acc=0.991 P=0.000 R=0.000 F1=0.000\n",
            "              precision    recall  f1-score   support\n",
            "\n",
            "           0      1.000     0.991     0.996      1517\n",
            "           1      0.000     0.000     0.000         0\n",
            "\n",
            "    accuracy                          0.991      1517\n",
            "   macro avg      0.500     0.496     0.498      1517\n",
            "weighted avg      1.000     0.991     0.996      1517\n",
            "\n",
            "Simple test result:\n",
            "Prediction result: {'accuracy': 0.991430454845089, 'precision': 0.0, 'f1': 0.0, 'recall': 0.0}\n",
            "              precision    recall  f1-score   support\n",
            "\n",
            "           0     1.0000    0.9914    0.9957      1517\n",
            "           1     0.0000    0.0000    0.0000         0\n",
            "\n",
            "    accuracy                         0.9914      1517\n",
            "   macro avg     0.5000    0.4957    0.4978      1517\n",
            "weighted avg     1.0000    0.9914    0.9957      1517\n",
            "\n",
            "Train with feature union + over-sample\n"
          ],
          "name": "stdout"
        },
        {
          "output_type": "stream",
          "text": [
            "c:\\users\\longkuku\\appdata\\local\\programs\\python\\python37\\lib\\site-packages\\sklearn\\metrics\\_classification.py:1245: UndefinedMetricWarning: Recall is ill-defined and being set to 0.0 due to no true samples. Use `zero_division` parameter to control this behavior.\n",
            "  _warn_prf(average, modifier, msg_start, len(result))\n",
            "c:\\users\\longkuku\\appdata\\local\\programs\\python\\python37\\lib\\site-packages\\sklearn\\utils\\validation.py:72: FutureWarning: Pass beta=1 as keyword args. From version 1.0 (renaming of 0.25) passing these as positional arguments will result in an error\n",
            "  \"will result in an error\", FutureWarning)\n",
            "c:\\users\\longkuku\\appdata\\local\\programs\\python\\python37\\lib\\site-packages\\sklearn\\metrics\\_classification.py:1245: UndefinedMetricWarning: Recall and F-score are ill-defined and being set to 0.0 in labels with no true samples. Use `zero_division` parameter to control this behavior.\n",
            "  _warn_prf(average, modifier, msg_start, len(result))\n",
            "c:\\users\\longkuku\\appdata\\local\\programs\\python\\python37\\lib\\site-packages\\sklearn\\metrics\\_classification.py:1245: UndefinedMetricWarning: Recall and F-score are ill-defined and being set to 0.0 in labels with no true samples. Use `zero_division` parameter to control this behavior.\n",
            "  _warn_prf(average, modifier, msg_start, len(result))\n",
            "c:\\users\\longkuku\\appdata\\local\\programs\\python\\python37\\lib\\site-packages\\sklearn\\metrics\\_classification.py:1245: UndefinedMetricWarning: Recall and F-score are ill-defined and being set to 0.0 in labels with no true samples. Use `zero_division` parameter to control this behavior.\n",
            "  _warn_prf(average, modifier, msg_start, len(result))\n",
            "c:\\users\\longkuku\\appdata\\local\\programs\\python\\python37\\lib\\site-packages\\sklearn\\metrics\\_classification.py:1245: UndefinedMetricWarning: Recall is ill-defined and being set to 0.0 due to no true samples. Use `zero_division` parameter to control this behavior.\n",
            "  _warn_prf(average, modifier, msg_start, len(result))\n",
            "c:\\users\\longkuku\\appdata\\local\\programs\\python\\python37\\lib\\site-packages\\sklearn\\utils\\validation.py:72: FutureWarning: Pass beta=1 as keyword args. From version 1.0 (renaming of 0.25) passing these as positional arguments will result in an error\n",
            "  \"will result in an error\", FutureWarning)\n",
            "c:\\users\\longkuku\\appdata\\local\\programs\\python\\python37\\lib\\site-packages\\sklearn\\metrics\\_classification.py:1245: UndefinedMetricWarning: Recall and F-score are ill-defined and being set to 0.0 in labels with no true samples. Use `zero_division` parameter to control this behavior.\n",
            "  _warn_prf(average, modifier, msg_start, len(result))\n",
            "c:\\users\\longkuku\\appdata\\local\\programs\\python\\python37\\lib\\site-packages\\sklearn\\metrics\\_classification.py:1245: UndefinedMetricWarning: Recall and F-score are ill-defined and being set to 0.0 in labels with no true samples. Use `zero_division` parameter to control this behavior.\n",
            "  _warn_prf(average, modifier, msg_start, len(result))\n",
            "c:\\users\\longkuku\\appdata\\local\\programs\\python\\python37\\lib\\site-packages\\sklearn\\metrics\\_classification.py:1245: UndefinedMetricWarning: Recall and F-score are ill-defined and being set to 0.0 in labels with no true samples. Use `zero_division` parameter to control this behavior.\n",
            "  _warn_prf(average, modifier, msg_start, len(result))\n",
            "c:\\users\\longkuku\\appdata\\local\\programs\\python\\python37\\lib\\site-packages\\sklearn\\metrics\\_classification.py:1245: UndefinedMetricWarning: Precision is ill-defined and being set to 0.0 due to no predicted samples. Use `zero_division` parameter to control this behavior.\n",
            "  _warn_prf(average, modifier, msg_start, len(result))\n",
            "c:\\users\\longkuku\\appdata\\local\\programs\\python\\python37\\lib\\site-packages\\sklearn\\metrics\\_classification.py:1245: UndefinedMetricWarning: Precision is ill-defined and being set to 0.0 due to no predicted samples. Use `zero_division` parameter to control this behavior.\n",
            "  _warn_prf(average, modifier, msg_start, len(result))\n",
            "c:\\users\\longkuku\\appdata\\local\\programs\\python\\python37\\lib\\site-packages\\sklearn\\metrics\\_classification.py:1245: UndefinedMetricWarning: Precision is ill-defined and being set to 0.0 due to no predicted samples. Use `zero_division` parameter to control this behavior.\n",
            "  _warn_prf(average, modifier, msg_start, len(result))\n",
            "c:\\users\\longkuku\\appdata\\local\\programs\\python\\python37\\lib\\site-packages\\sklearn\\metrics\\_classification.py:1245: UndefinedMetricWarning: Precision is ill-defined and being set to 0.0 due to no predicted samples. Use `zero_division` parameter to control this behavior.\n",
            "  _warn_prf(average, modifier, msg_start, len(result))\n",
            "c:\\users\\longkuku\\appdata\\local\\programs\\python\\python37\\lib\\site-packages\\sklearn\\metrics\\_classification.py:1245: UndefinedMetricWarning: Precision is ill-defined and being set to 0.0 due to no predicted samples. Use `zero_division` parameter to control this behavior.\n",
            "  _warn_prf(average, modifier, msg_start, len(result))\n",
            "c:\\users\\longkuku\\appdata\\local\\programs\\python\\python37\\lib\\site-packages\\sklearn\\metrics\\_classification.py:1245: UndefinedMetricWarning: Precision is ill-defined and being set to 0.0 due to no predicted samples. Use `zero_division` parameter to control this behavior.\n",
            "  _warn_prf(average, modifier, msg_start, len(result))\n",
            "c:\\users\\longkuku\\appdata\\local\\programs\\python\\python37\\lib\\site-packages\\sklearn\\metrics\\_classification.py:1245: UndefinedMetricWarning: Precision is ill-defined and being set to 0.0 due to no predicted samples. Use `zero_division` parameter to control this behavior.\n",
            "  _warn_prf(average, modifier, msg_start, len(result))\n",
            "c:\\users\\longkuku\\appdata\\local\\programs\\python\\python37\\lib\\site-packages\\sklearn\\metrics\\_classification.py:1245: UndefinedMetricWarning: Precision is ill-defined and being set to 0.0 due to no predicted samples. Use `zero_division` parameter to control this behavior.\n",
            "  _warn_prf(average, modifier, msg_start, len(result))\n",
            "c:\\users\\longkuku\\appdata\\local\\programs\\python\\python37\\lib\\site-packages\\sklearn\\metrics\\_classification.py:1245: UndefinedMetricWarning: Precision is ill-defined and being set to 0.0 due to no predicted samples. Use `zero_division` parameter to control this behavior.\n",
            "  _warn_prf(average, modifier, msg_start, len(result))\n",
            "c:\\users\\longkuku\\appdata\\local\\programs\\python\\python37\\lib\\site-packages\\sklearn\\metrics\\_classification.py:1245: UndefinedMetricWarning: Precision is ill-defined and being set to 0.0 due to no predicted samples. Use `zero_division` parameter to control this behavior.\n",
            "  _warn_prf(average, modifier, msg_start, len(result))\n"
          ],
          "name": "stderr"
        },
        {
          "output_type": "stream",
          "text": [
            "Cross validation: Average training set result: test_accuracy=0.958075 test_precision=0.000000 test_f1=0.000000 test_recall=0.000000 .\n",
            "\n",
            "Cross validation: Average validation set result: train_accuracy=0.958075 train_precision=0.000000 train_f1=0.000000 train_recall=0.000000 .\n",
            "\n",
            "Evaluating on test set:\n",
            "Evaluation for: SVMresult on test set\n",
            "Classifier 'SVMresult on test set' has Acc=0.991 P=0.000 R=0.000 F1=0.000\n",
            "              precision    recall  f1-score   support\n",
            "\n",
            "           0      1.000     0.991     0.996      1517\n",
            "           1      0.000     0.000     0.000         0\n",
            "\n",
            "    accuracy                          0.991      1517\n",
            "   macro avg      0.500     0.496     0.498      1517\n",
            "weighted avg      1.000     0.991     0.996      1517\n",
            "\n",
            "Simple test result:\n",
            "Prediction result: {'accuracy': 0.991430454845089, 'precision': 0.0, 'f1': 0.0, 'recall': 0.0}\n",
            "              precision    recall  f1-score   support\n",
            "\n",
            "           0     1.0000    0.9914    0.9957      1517\n",
            "           1     0.0000    0.0000    0.0000         0\n",
            "\n",
            "    accuracy                         0.9914      1517\n",
            "   macro avg     0.5000    0.4957    0.4978      1517\n",
            "weighted avg     1.0000    0.9914    0.9957      1517\n",
            "\n",
            "This compuation takes: 0:06:16\n",
            "Over-sample data set\n",
            "feature-union\n"
          ],
          "name": "stdout"
        },
        {
          "output_type": "stream",
          "text": [
            "c:\\users\\longkuku\\appdata\\local\\programs\\python\\python37\\lib\\site-packages\\sklearn\\metrics\\_classification.py:1245: UndefinedMetricWarning: Recall is ill-defined and being set to 0.0 due to no true samples. Use `zero_division` parameter to control this behavior.\n",
            "  _warn_prf(average, modifier, msg_start, len(result))\n",
            "c:\\users\\longkuku\\appdata\\local\\programs\\python\\python37\\lib\\site-packages\\sklearn\\utils\\validation.py:72: FutureWarning: Pass beta=1 as keyword args. From version 1.0 (renaming of 0.25) passing these as positional arguments will result in an error\n",
            "  \"will result in an error\", FutureWarning)\n",
            "c:\\users\\longkuku\\appdata\\local\\programs\\python\\python37\\lib\\site-packages\\sklearn\\metrics\\_classification.py:1245: UndefinedMetricWarning: Recall and F-score are ill-defined and being set to 0.0 in labels with no true samples. Use `zero_division` parameter to control this behavior.\n",
            "  _warn_prf(average, modifier, msg_start, len(result))\n",
            "c:\\users\\longkuku\\appdata\\local\\programs\\python\\python37\\lib\\site-packages\\sklearn\\metrics\\_classification.py:1245: UndefinedMetricWarning: Recall and F-score are ill-defined and being set to 0.0 in labels with no true samples. Use `zero_division` parameter to control this behavior.\n",
            "  _warn_prf(average, modifier, msg_start, len(result))\n",
            "c:\\users\\longkuku\\appdata\\local\\programs\\python\\python37\\lib\\site-packages\\sklearn\\metrics\\_classification.py:1245: UndefinedMetricWarning: Recall and F-score are ill-defined and being set to 0.0 in labels with no true samples. Use `zero_division` parameter to control this behavior.\n",
            "  _warn_prf(average, modifier, msg_start, len(result))\n",
            "c:\\users\\longkuku\\appdata\\local\\programs\\python\\python37\\lib\\site-packages\\sklearn\\metrics\\_classification.py:1245: UndefinedMetricWarning: Recall is ill-defined and being set to 0.0 due to no true samples. Use `zero_division` parameter to control this behavior.\n",
            "  _warn_prf(average, modifier, msg_start, len(result))\n",
            "c:\\users\\longkuku\\appdata\\local\\programs\\python\\python37\\lib\\site-packages\\sklearn\\utils\\validation.py:72: FutureWarning: Pass beta=1 as keyword args. From version 1.0 (renaming of 0.25) passing these as positional arguments will result in an error\n",
            "  \"will result in an error\", FutureWarning)\n",
            "c:\\users\\longkuku\\appdata\\local\\programs\\python\\python37\\lib\\site-packages\\sklearn\\metrics\\_classification.py:1245: UndefinedMetricWarning: Recall and F-score are ill-defined and being set to 0.0 in labels with no true samples. Use `zero_division` parameter to control this behavior.\n",
            "  _warn_prf(average, modifier, msg_start, len(result))\n",
            "c:\\users\\longkuku\\appdata\\local\\programs\\python\\python37\\lib\\site-packages\\sklearn\\metrics\\_classification.py:1245: UndefinedMetricWarning: Recall and F-score are ill-defined and being set to 0.0 in labels with no true samples. Use `zero_division` parameter to control this behavior.\n",
            "  _warn_prf(average, modifier, msg_start, len(result))\n",
            "c:\\users\\longkuku\\appdata\\local\\programs\\python\\python37\\lib\\site-packages\\sklearn\\metrics\\_classification.py:1245: UndefinedMetricWarning: Recall and F-score are ill-defined and being set to 0.0 in labels with no true samples. Use `zero_division` parameter to control this behavior.\n",
            "  _warn_prf(average, modifier, msg_start, len(result))\n"
          ],
          "name": "stderr"
        },
        {
          "output_type": "stream",
          "text": [
            "Train with feature union\n"
          ],
          "name": "stdout"
        },
        {
          "output_type": "stream",
          "text": [
            "c:\\users\\longkuku\\appdata\\local\\programs\\python\\python37\\lib\\site-packages\\sklearn\\metrics\\_classification.py:1245: UndefinedMetricWarning: Precision is ill-defined and being set to 0.0 due to no predicted samples. Use `zero_division` parameter to control this behavior.\n",
            "  _warn_prf(average, modifier, msg_start, len(result))\n",
            "c:\\users\\longkuku\\appdata\\local\\programs\\python\\python37\\lib\\site-packages\\sklearn\\metrics\\_classification.py:1245: UndefinedMetricWarning: Precision is ill-defined and being set to 0.0 due to no predicted samples. Use `zero_division` parameter to control this behavior.\n",
            "  _warn_prf(average, modifier, msg_start, len(result))\n",
            "c:\\users\\longkuku\\appdata\\local\\programs\\python\\python37\\lib\\site-packages\\sklearn\\metrics\\_classification.py:1245: UndefinedMetricWarning: Precision is ill-defined and being set to 0.0 due to no predicted samples. Use `zero_division` parameter to control this behavior.\n",
            "  _warn_prf(average, modifier, msg_start, len(result))\n",
            "c:\\users\\longkuku\\appdata\\local\\programs\\python\\python37\\lib\\site-packages\\sklearn\\metrics\\_classification.py:1245: UndefinedMetricWarning: Precision is ill-defined and being set to 0.0 due to no predicted samples. Use `zero_division` parameter to control this behavior.\n",
            "  _warn_prf(average, modifier, msg_start, len(result))\n",
            "c:\\users\\longkuku\\appdata\\local\\programs\\python\\python37\\lib\\site-packages\\sklearn\\metrics\\_classification.py:1245: UndefinedMetricWarning: Precision is ill-defined and being set to 0.0 due to no predicted samples. Use `zero_division` parameter to control this behavior.\n",
            "  _warn_prf(average, modifier, msg_start, len(result))\n",
            "c:\\users\\longkuku\\appdata\\local\\programs\\python\\python37\\lib\\site-packages\\sklearn\\metrics\\_classification.py:1245: UndefinedMetricWarning: Precision is ill-defined and being set to 0.0 due to no predicted samples. Use `zero_division` parameter to control this behavior.\n",
            "  _warn_prf(average, modifier, msg_start, len(result))\n",
            "c:\\users\\longkuku\\appdata\\local\\programs\\python\\python37\\lib\\site-packages\\sklearn\\metrics\\_classification.py:1245: UndefinedMetricWarning: Precision is ill-defined and being set to 0.0 due to no predicted samples. Use `zero_division` parameter to control this behavior.\n",
            "  _warn_prf(average, modifier, msg_start, len(result))\n",
            "c:\\users\\longkuku\\appdata\\local\\programs\\python\\python37\\lib\\site-packages\\sklearn\\metrics\\_classification.py:1245: UndefinedMetricWarning: Precision is ill-defined and being set to 0.0 due to no predicted samples. Use `zero_division` parameter to control this behavior.\n",
            "  _warn_prf(average, modifier, msg_start, len(result))\n",
            "c:\\users\\longkuku\\appdata\\local\\programs\\python\\python37\\lib\\site-packages\\sklearn\\metrics\\_classification.py:1245: UndefinedMetricWarning: Precision is ill-defined and being set to 0.0 due to no predicted samples. Use `zero_division` parameter to control this behavior.\n",
            "  _warn_prf(average, modifier, msg_start, len(result))\n",
            "c:\\users\\longkuku\\appdata\\local\\programs\\python\\python37\\lib\\site-packages\\sklearn\\metrics\\_classification.py:1245: UndefinedMetricWarning: Precision is ill-defined and being set to 0.0 due to no predicted samples. Use `zero_division` parameter to control this behavior.\n",
            "  _warn_prf(average, modifier, msg_start, len(result))\n"
          ],
          "name": "stderr"
        },
        {
          "output_type": "stream",
          "text": [
            "Cross validation: Average training set result: test_accuracy=0.932081 test_precision=0.000000 test_f1=0.000000 test_recall=0.000000 .\n",
            "\n",
            "Cross validation: Average validation set result: train_accuracy=0.932080 train_precision=0.000000 train_f1=0.000000 train_recall=0.000000 .\n",
            "\n",
            "Evaluating on test set:\n",
            "Evaluation for: SVMresult on test set\n",
            "Classifier 'SVMresult on test set' has Acc=0.933 P=0.000 R=0.000 F1=0.000\n",
            "              precision    recall  f1-score   support\n",
            "\n",
            "           0      1.000     0.933     0.965      1517\n",
            "           1      0.000     0.000     0.000         0\n",
            "\n",
            "    accuracy                          0.933      1517\n",
            "   macro avg      0.500     0.466     0.483      1517\n",
            "weighted avg      1.000     0.933     0.965      1517\n",
            "\n",
            "Simple test result:\n",
            "Prediction result: {'accuracy': 0.932762030323006, 'precision': 0.0, 'f1': 0.0, 'recall': 0.0}\n",
            "              precision    recall  f1-score   support\n",
            "\n",
            "           0     1.0000    0.9328    0.9652      1517\n",
            "           1     0.0000    0.0000    0.0000         0\n",
            "\n",
            "    accuracy                         0.9328      1517\n",
            "   macro avg     0.5000    0.4664    0.4826      1517\n",
            "weighted avg     1.0000    0.9328    0.9652      1517\n",
            "\n",
            "Train with feature union + over-sample\n"
          ],
          "name": "stdout"
        },
        {
          "output_type": "stream",
          "text": [
            "c:\\users\\longkuku\\appdata\\local\\programs\\python\\python37\\lib\\site-packages\\sklearn\\metrics\\_classification.py:1245: UndefinedMetricWarning: Recall is ill-defined and being set to 0.0 due to no true samples. Use `zero_division` parameter to control this behavior.\n",
            "  _warn_prf(average, modifier, msg_start, len(result))\n",
            "c:\\users\\longkuku\\appdata\\local\\programs\\python\\python37\\lib\\site-packages\\sklearn\\utils\\validation.py:72: FutureWarning: Pass beta=1 as keyword args. From version 1.0 (renaming of 0.25) passing these as positional arguments will result in an error\n",
            "  \"will result in an error\", FutureWarning)\n",
            "c:\\users\\longkuku\\appdata\\local\\programs\\python\\python37\\lib\\site-packages\\sklearn\\metrics\\_classification.py:1245: UndefinedMetricWarning: Recall and F-score are ill-defined and being set to 0.0 in labels with no true samples. Use `zero_division` parameter to control this behavior.\n",
            "  _warn_prf(average, modifier, msg_start, len(result))\n",
            "c:\\users\\longkuku\\appdata\\local\\programs\\python\\python37\\lib\\site-packages\\sklearn\\metrics\\_classification.py:1245: UndefinedMetricWarning: Recall and F-score are ill-defined and being set to 0.0 in labels with no true samples. Use `zero_division` parameter to control this behavior.\n",
            "  _warn_prf(average, modifier, msg_start, len(result))\n",
            "c:\\users\\longkuku\\appdata\\local\\programs\\python\\python37\\lib\\site-packages\\sklearn\\metrics\\_classification.py:1245: UndefinedMetricWarning: Recall and F-score are ill-defined and being set to 0.0 in labels with no true samples. Use `zero_division` parameter to control this behavior.\n",
            "  _warn_prf(average, modifier, msg_start, len(result))\n",
            "c:\\users\\longkuku\\appdata\\local\\programs\\python\\python37\\lib\\site-packages\\sklearn\\metrics\\_classification.py:1245: UndefinedMetricWarning: Recall is ill-defined and being set to 0.0 due to no true samples. Use `zero_division` parameter to control this behavior.\n",
            "  _warn_prf(average, modifier, msg_start, len(result))\n",
            "c:\\users\\longkuku\\appdata\\local\\programs\\python\\python37\\lib\\site-packages\\sklearn\\utils\\validation.py:72: FutureWarning: Pass beta=1 as keyword args. From version 1.0 (renaming of 0.25) passing these as positional arguments will result in an error\n",
            "  \"will result in an error\", FutureWarning)\n",
            "c:\\users\\longkuku\\appdata\\local\\programs\\python\\python37\\lib\\site-packages\\sklearn\\metrics\\_classification.py:1245: UndefinedMetricWarning: Recall and F-score are ill-defined and being set to 0.0 in labels with no true samples. Use `zero_division` parameter to control this behavior.\n",
            "  _warn_prf(average, modifier, msg_start, len(result))\n",
            "c:\\users\\longkuku\\appdata\\local\\programs\\python\\python37\\lib\\site-packages\\sklearn\\metrics\\_classification.py:1245: UndefinedMetricWarning: Recall and F-score are ill-defined and being set to 0.0 in labels with no true samples. Use `zero_division` parameter to control this behavior.\n",
            "  _warn_prf(average, modifier, msg_start, len(result))\n",
            "c:\\users\\longkuku\\appdata\\local\\programs\\python\\python37\\lib\\site-packages\\sklearn\\metrics\\_classification.py:1245: UndefinedMetricWarning: Recall and F-score are ill-defined and being set to 0.0 in labels with no true samples. Use `zero_division` parameter to control this behavior.\n",
            "  _warn_prf(average, modifier, msg_start, len(result))\n",
            "c:\\users\\longkuku\\appdata\\local\\programs\\python\\python37\\lib\\site-packages\\sklearn\\metrics\\_classification.py:1245: UndefinedMetricWarning: Precision is ill-defined and being set to 0.0 due to no predicted samples. Use `zero_division` parameter to control this behavior.\n",
            "  _warn_prf(average, modifier, msg_start, len(result))\n",
            "c:\\users\\longkuku\\appdata\\local\\programs\\python\\python37\\lib\\site-packages\\sklearn\\metrics\\_classification.py:1245: UndefinedMetricWarning: Precision is ill-defined and being set to 0.0 due to no predicted samples. Use `zero_division` parameter to control this behavior.\n",
            "  _warn_prf(average, modifier, msg_start, len(result))\n",
            "c:\\users\\longkuku\\appdata\\local\\programs\\python\\python37\\lib\\site-packages\\sklearn\\metrics\\_classification.py:1245: UndefinedMetricWarning: Precision is ill-defined and being set to 0.0 due to no predicted samples. Use `zero_division` parameter to control this behavior.\n",
            "  _warn_prf(average, modifier, msg_start, len(result))\n"
          ],
          "name": "stderr"
        },
        {
          "output_type": "stream",
          "text": [
            "Cross validation: Average training set result: test_accuracy=0.733212 test_precision=0.333333 test_f1=0.004796 test_recall=0.002427 .\n",
            "\n",
            "Cross validation: Average validation set result: train_accuracy=0.733601 train_precision=0.662564 train_f1=0.006035 train_recall=0.003034 .\n",
            "\n",
            "Evaluating on test set:\n",
            "Evaluation for: SVMresult on test set\n",
            "Classifier 'SVMresult on test set' has Acc=0.933 P=0.000 R=0.000 F1=0.000\n",
            "              precision    recall  f1-score   support\n",
            "\n",
            "           0      1.000     0.933     0.965      1517\n",
            "           1      0.000     0.000     0.000         0\n",
            "\n",
            "    accuracy                          0.933      1517\n",
            "   macro avg      0.500     0.466     0.483      1517\n",
            "weighted avg      1.000     0.933     0.965      1517\n",
            "\n",
            "Simple test result:\n",
            "Prediction result: {'accuracy': 0.932762030323006, 'precision': 0.0, 'f1': 0.0, 'recall': 0.0}\n",
            "              precision    recall  f1-score   support\n",
            "\n",
            "           0     1.0000    0.9328    0.9652      1517\n",
            "           1     0.0000    0.0000    0.0000         0\n",
            "\n",
            "    accuracy                         0.9328      1517\n",
            "   macro avg     0.5000    0.4664    0.4826      1517\n",
            "weighted avg     1.0000    0.9328    0.9652      1517\n",
            "\n",
            "This compuation takes: 0:07:23\n",
            "Over-sample data set\n",
            "feature-union\n"
          ],
          "name": "stdout"
        },
        {
          "output_type": "stream",
          "text": [
            "c:\\users\\longkuku\\appdata\\local\\programs\\python\\python37\\lib\\site-packages\\sklearn\\metrics\\_classification.py:1245: UndefinedMetricWarning: Recall is ill-defined and being set to 0.0 due to no true samples. Use `zero_division` parameter to control this behavior.\n",
            "  _warn_prf(average, modifier, msg_start, len(result))\n",
            "c:\\users\\longkuku\\appdata\\local\\programs\\python\\python37\\lib\\site-packages\\sklearn\\utils\\validation.py:72: FutureWarning: Pass beta=1 as keyword args. From version 1.0 (renaming of 0.25) passing these as positional arguments will result in an error\n",
            "  \"will result in an error\", FutureWarning)\n",
            "c:\\users\\longkuku\\appdata\\local\\programs\\python\\python37\\lib\\site-packages\\sklearn\\metrics\\_classification.py:1245: UndefinedMetricWarning: Recall and F-score are ill-defined and being set to 0.0 in labels with no true samples. Use `zero_division` parameter to control this behavior.\n",
            "  _warn_prf(average, modifier, msg_start, len(result))\n",
            "c:\\users\\longkuku\\appdata\\local\\programs\\python\\python37\\lib\\site-packages\\sklearn\\metrics\\_classification.py:1245: UndefinedMetricWarning: Recall and F-score are ill-defined and being set to 0.0 in labels with no true samples. Use `zero_division` parameter to control this behavior.\n",
            "  _warn_prf(average, modifier, msg_start, len(result))\n",
            "c:\\users\\longkuku\\appdata\\local\\programs\\python\\python37\\lib\\site-packages\\sklearn\\metrics\\_classification.py:1245: UndefinedMetricWarning: Recall and F-score are ill-defined and being set to 0.0 in labels with no true samples. Use `zero_division` parameter to control this behavior.\n",
            "  _warn_prf(average, modifier, msg_start, len(result))\n",
            "c:\\users\\longkuku\\appdata\\local\\programs\\python\\python37\\lib\\site-packages\\sklearn\\metrics\\_classification.py:1245: UndefinedMetricWarning: Recall is ill-defined and being set to 0.0 due to no true samples. Use `zero_division` parameter to control this behavior.\n",
            "  _warn_prf(average, modifier, msg_start, len(result))\n",
            "c:\\users\\longkuku\\appdata\\local\\programs\\python\\python37\\lib\\site-packages\\sklearn\\utils\\validation.py:72: FutureWarning: Pass beta=1 as keyword args. From version 1.0 (renaming of 0.25) passing these as positional arguments will result in an error\n",
            "  \"will result in an error\", FutureWarning)\n",
            "c:\\users\\longkuku\\appdata\\local\\programs\\python\\python37\\lib\\site-packages\\sklearn\\metrics\\_classification.py:1245: UndefinedMetricWarning: Recall and F-score are ill-defined and being set to 0.0 in labels with no true samples. Use `zero_division` parameter to control this behavior.\n",
            "  _warn_prf(average, modifier, msg_start, len(result))\n",
            "c:\\users\\longkuku\\appdata\\local\\programs\\python\\python37\\lib\\site-packages\\sklearn\\metrics\\_classification.py:1245: UndefinedMetricWarning: Recall and F-score are ill-defined and being set to 0.0 in labels with no true samples. Use `zero_division` parameter to control this behavior.\n",
            "  _warn_prf(average, modifier, msg_start, len(result))\n",
            "c:\\users\\longkuku\\appdata\\local\\programs\\python\\python37\\lib\\site-packages\\sklearn\\metrics\\_classification.py:1245: UndefinedMetricWarning: Recall and F-score are ill-defined and being set to 0.0 in labels with no true samples. Use `zero_division` parameter to control this behavior.\n",
            "  _warn_prf(average, modifier, msg_start, len(result))\n"
          ],
          "name": "stderr"
        },
        {
          "output_type": "stream",
          "text": [
            "Train with feature union\n"
          ],
          "name": "stdout"
        },
        {
          "output_type": "stream",
          "text": [
            "c:\\users\\longkuku\\appdata\\local\\programs\\python\\python37\\lib\\site-packages\\sklearn\\metrics\\_classification.py:1245: UndefinedMetricWarning: Precision is ill-defined and being set to 0.0 due to no predicted samples. Use `zero_division` parameter to control this behavior.\n",
            "  _warn_prf(average, modifier, msg_start, len(result))\n",
            "c:\\users\\longkuku\\appdata\\local\\programs\\python\\python37\\lib\\site-packages\\sklearn\\metrics\\_classification.py:1245: UndefinedMetricWarning: Precision is ill-defined and being set to 0.0 due to no predicted samples. Use `zero_division` parameter to control this behavior.\n",
            "  _warn_prf(average, modifier, msg_start, len(result))\n",
            "c:\\users\\longkuku\\appdata\\local\\programs\\python\\python37\\lib\\site-packages\\sklearn\\metrics\\_classification.py:1245: UndefinedMetricWarning: Precision is ill-defined and being set to 0.0 due to no predicted samples. Use `zero_division` parameter to control this behavior.\n",
            "  _warn_prf(average, modifier, msg_start, len(result))\n",
            "c:\\users\\longkuku\\appdata\\local\\programs\\python\\python37\\lib\\site-packages\\sklearn\\metrics\\_classification.py:1245: UndefinedMetricWarning: Precision is ill-defined and being set to 0.0 due to no predicted samples. Use `zero_division` parameter to control this behavior.\n",
            "  _warn_prf(average, modifier, msg_start, len(result))\n",
            "c:\\users\\longkuku\\appdata\\local\\programs\\python\\python37\\lib\\site-packages\\sklearn\\metrics\\_classification.py:1245: UndefinedMetricWarning: Precision is ill-defined and being set to 0.0 due to no predicted samples. Use `zero_division` parameter to control this behavior.\n",
            "  _warn_prf(average, modifier, msg_start, len(result))\n",
            "c:\\users\\longkuku\\appdata\\local\\programs\\python\\python37\\lib\\site-packages\\sklearn\\metrics\\_classification.py:1245: UndefinedMetricWarning: Precision is ill-defined and being set to 0.0 due to no predicted samples. Use `zero_division` parameter to control this behavior.\n",
            "  _warn_prf(average, modifier, msg_start, len(result))\n",
            "c:\\users\\longkuku\\appdata\\local\\programs\\python\\python37\\lib\\site-packages\\sklearn\\metrics\\_classification.py:1245: UndefinedMetricWarning: Precision is ill-defined and being set to 0.0 due to no predicted samples. Use `zero_division` parameter to control this behavior.\n",
            "  _warn_prf(average, modifier, msg_start, len(result))\n",
            "c:\\users\\longkuku\\appdata\\local\\programs\\python\\python37\\lib\\site-packages\\sklearn\\metrics\\_classification.py:1245: UndefinedMetricWarning: Precision is ill-defined and being set to 0.0 due to no predicted samples. Use `zero_division` parameter to control this behavior.\n",
            "  _warn_prf(average, modifier, msg_start, len(result))\n",
            "c:\\users\\longkuku\\appdata\\local\\programs\\python\\python37\\lib\\site-packages\\sklearn\\metrics\\_classification.py:1245: UndefinedMetricWarning: Precision is ill-defined and being set to 0.0 due to no predicted samples. Use `zero_division` parameter to control this behavior.\n",
            "  _warn_prf(average, modifier, msg_start, len(result))\n",
            "c:\\users\\longkuku\\appdata\\local\\programs\\python\\python37\\lib\\site-packages\\sklearn\\metrics\\_classification.py:1245: UndefinedMetricWarning: Precision is ill-defined and being set to 0.0 due to no predicted samples. Use `zero_division` parameter to control this behavior.\n",
            "  _warn_prf(average, modifier, msg_start, len(result))\n"
          ],
          "name": "stderr"
        },
        {
          "output_type": "stream",
          "text": [
            "Cross validation: Average training set result: test_accuracy=0.972799 test_precision=0.000000 test_f1=0.000000 test_recall=0.000000 .\n",
            "\n",
            "Cross validation: Average validation set result: train_accuracy=0.972799 train_precision=0.000000 train_f1=0.000000 train_recall=0.000000 .\n",
            "\n",
            "Evaluating on test set:\n",
            "Evaluation for: SVMresult on test set\n",
            "Classifier 'SVMresult on test set' has Acc=0.945 P=0.000 R=0.000 F1=0.000\n",
            "              precision    recall  f1-score   support\n",
            "\n",
            "           0      1.000     0.945     0.972      1517\n",
            "           1      0.000     0.000     0.000         0\n",
            "\n",
            "    accuracy                          0.945      1517\n",
            "   macro avg      0.500     0.473     0.486      1517\n",
            "weighted avg      1.000     0.945     0.972      1517\n",
            "\n",
            "Simple test result:\n",
            "Prediction result: {'accuracy': 0.9452867501647989, 'precision': 0.0, 'f1': 0.0, 'recall': 0.0}\n",
            "              precision    recall  f1-score   support\n",
            "\n",
            "           0     1.0000    0.9453    0.9719      1517\n",
            "           1     0.0000    0.0000    0.0000         0\n",
            "\n",
            "    accuracy                         0.9453      1517\n",
            "   macro avg     0.5000    0.4726    0.4859      1517\n",
            "weighted avg     1.0000    0.9453    0.9719      1517\n",
            "\n",
            "Train with feature union + over-sample\n"
          ],
          "name": "stdout"
        },
        {
          "output_type": "stream",
          "text": [
            "c:\\users\\longkuku\\appdata\\local\\programs\\python\\python37\\lib\\site-packages\\sklearn\\metrics\\_classification.py:1245: UndefinedMetricWarning: Recall is ill-defined and being set to 0.0 due to no true samples. Use `zero_division` parameter to control this behavior.\n",
            "  _warn_prf(average, modifier, msg_start, len(result))\n",
            "c:\\users\\longkuku\\appdata\\local\\programs\\python\\python37\\lib\\site-packages\\sklearn\\utils\\validation.py:72: FutureWarning: Pass beta=1 as keyword args. From version 1.0 (renaming of 0.25) passing these as positional arguments will result in an error\n",
            "  \"will result in an error\", FutureWarning)\n",
            "c:\\users\\longkuku\\appdata\\local\\programs\\python\\python37\\lib\\site-packages\\sklearn\\metrics\\_classification.py:1245: UndefinedMetricWarning: Recall and F-score are ill-defined and being set to 0.0 in labels with no true samples. Use `zero_division` parameter to control this behavior.\n",
            "  _warn_prf(average, modifier, msg_start, len(result))\n",
            "c:\\users\\longkuku\\appdata\\local\\programs\\python\\python37\\lib\\site-packages\\sklearn\\metrics\\_classification.py:1245: UndefinedMetricWarning: Recall and F-score are ill-defined and being set to 0.0 in labels with no true samples. Use `zero_division` parameter to control this behavior.\n",
            "  _warn_prf(average, modifier, msg_start, len(result))\n",
            "c:\\users\\longkuku\\appdata\\local\\programs\\python\\python37\\lib\\site-packages\\sklearn\\metrics\\_classification.py:1245: UndefinedMetricWarning: Recall and F-score are ill-defined and being set to 0.0 in labels with no true samples. Use `zero_division` parameter to control this behavior.\n",
            "  _warn_prf(average, modifier, msg_start, len(result))\n",
            "c:\\users\\longkuku\\appdata\\local\\programs\\python\\python37\\lib\\site-packages\\sklearn\\metrics\\_classification.py:1245: UndefinedMetricWarning: Recall is ill-defined and being set to 0.0 due to no true samples. Use `zero_division` parameter to control this behavior.\n",
            "  _warn_prf(average, modifier, msg_start, len(result))\n",
            "c:\\users\\longkuku\\appdata\\local\\programs\\python\\python37\\lib\\site-packages\\sklearn\\utils\\validation.py:72: FutureWarning: Pass beta=1 as keyword args. From version 1.0 (renaming of 0.25) passing these as positional arguments will result in an error\n",
            "  \"will result in an error\", FutureWarning)\n",
            "c:\\users\\longkuku\\appdata\\local\\programs\\python\\python37\\lib\\site-packages\\sklearn\\metrics\\_classification.py:1245: UndefinedMetricWarning: Recall and F-score are ill-defined and being set to 0.0 in labels with no true samples. Use `zero_division` parameter to control this behavior.\n",
            "  _warn_prf(average, modifier, msg_start, len(result))\n",
            "c:\\users\\longkuku\\appdata\\local\\programs\\python\\python37\\lib\\site-packages\\sklearn\\metrics\\_classification.py:1245: UndefinedMetricWarning: Recall and F-score are ill-defined and being set to 0.0 in labels with no true samples. Use `zero_division` parameter to control this behavior.\n",
            "  _warn_prf(average, modifier, msg_start, len(result))\n",
            "c:\\users\\longkuku\\appdata\\local\\programs\\python\\python37\\lib\\site-packages\\sklearn\\metrics\\_classification.py:1245: UndefinedMetricWarning: Recall and F-score are ill-defined and being set to 0.0 in labels with no true samples. Use `zero_division` parameter to control this behavior.\n",
            "  _warn_prf(average, modifier, msg_start, len(result))\n",
            "c:\\users\\longkuku\\appdata\\local\\programs\\python\\python37\\lib\\site-packages\\sklearn\\metrics\\_classification.py:1245: UndefinedMetricWarning: Precision is ill-defined and being set to 0.0 due to no predicted samples. Use `zero_division` parameter to control this behavior.\n",
            "  _warn_prf(average, modifier, msg_start, len(result))\n",
            "c:\\users\\longkuku\\appdata\\local\\programs\\python\\python37\\lib\\site-packages\\sklearn\\metrics\\_classification.py:1245: UndefinedMetricWarning: Precision is ill-defined and being set to 0.0 due to no predicted samples. Use `zero_division` parameter to control this behavior.\n",
            "  _warn_prf(average, modifier, msg_start, len(result))\n",
            "c:\\users\\longkuku\\appdata\\local\\programs\\python\\python37\\lib\\site-packages\\sklearn\\metrics\\_classification.py:1245: UndefinedMetricWarning: Precision is ill-defined and being set to 0.0 due to no predicted samples. Use `zero_division` parameter to control this behavior.\n",
            "  _warn_prf(average, modifier, msg_start, len(result))\n",
            "c:\\users\\longkuku\\appdata\\local\\programs\\python\\python37\\lib\\site-packages\\sklearn\\metrics\\_classification.py:1245: UndefinedMetricWarning: Precision is ill-defined and being set to 0.0 due to no predicted samples. Use `zero_division` parameter to control this behavior.\n",
            "  _warn_prf(average, modifier, msg_start, len(result))\n",
            "c:\\users\\longkuku\\appdata\\local\\programs\\python\\python37\\lib\\site-packages\\sklearn\\metrics\\_classification.py:1245: UndefinedMetricWarning: Precision is ill-defined and being set to 0.0 due to no predicted samples. Use `zero_division` parameter to control this behavior.\n",
            "  _warn_prf(average, modifier, msg_start, len(result))\n",
            "c:\\users\\longkuku\\appdata\\local\\programs\\python\\python37\\lib\\site-packages\\sklearn\\metrics\\_classification.py:1245: UndefinedMetricWarning: Precision is ill-defined and being set to 0.0 due to no predicted samples. Use `zero_division` parameter to control this behavior.\n",
            "  _warn_prf(average, modifier, msg_start, len(result))\n",
            "c:\\users\\longkuku\\appdata\\local\\programs\\python\\python37\\lib\\site-packages\\sklearn\\metrics\\_classification.py:1245: UndefinedMetricWarning: Precision is ill-defined and being set to 0.0 due to no predicted samples. Use `zero_division` parameter to control this behavior.\n",
            "  _warn_prf(average, modifier, msg_start, len(result))\n",
            "c:\\users\\longkuku\\appdata\\local\\programs\\python\\python37\\lib\\site-packages\\sklearn\\metrics\\_classification.py:1245: UndefinedMetricWarning: Precision is ill-defined and being set to 0.0 due to no predicted samples. Use `zero_division` parameter to control this behavior.\n",
            "  _warn_prf(average, modifier, msg_start, len(result))\n"
          ],
          "name": "stderr"
        },
        {
          "output_type": "stream",
          "text": [
            "Cross validation: Average training set result: test_accuracy=0.877044 test_precision=0.000000 test_f1=0.000000 test_recall=0.000000 .\n",
            "\n",
            "Cross validation: Average validation set result: train_accuracy=0.877453 train_precision=0.142857 train_f1=0.002999 train_recall=0.001515 .\n",
            "\n",
            "Evaluating on test set:\n",
            "Evaluation for: SVMresult on test set\n",
            "Classifier 'SVMresult on test set' has Acc=0.945 P=0.000 R=0.000 F1=0.000\n",
            "              precision    recall  f1-score   support\n",
            "\n",
            "           0      1.000     0.945     0.972      1517\n",
            "           1      0.000     0.000     0.000         0\n",
            "\n",
            "    accuracy                          0.945      1517\n",
            "   macro avg      0.500     0.473     0.486      1517\n",
            "weighted avg      1.000     0.945     0.972      1517\n",
            "\n",
            "Simple test result:\n",
            "Prediction result: {'accuracy': 0.9452867501647989, 'precision': 0.0, 'f1': 0.0, 'recall': 0.0}\n",
            "              precision    recall  f1-score   support\n",
            "\n",
            "           0     1.0000    0.9453    0.9719      1517\n",
            "           1     0.0000    0.0000    0.0000         0\n",
            "\n",
            "    accuracy                         0.9453      1517\n",
            "   macro avg     0.5000    0.4726    0.4859      1517\n",
            "weighted avg     1.0000    0.9453    0.9719      1517\n",
            "\n",
            "This compuation takes: 0:06:36\n",
            "Over-sample data set\n",
            "feature-union\n"
          ],
          "name": "stdout"
        },
        {
          "output_type": "stream",
          "text": [
            "c:\\users\\longkuku\\appdata\\local\\programs\\python\\python37\\lib\\site-packages\\sklearn\\metrics\\_classification.py:1245: UndefinedMetricWarning: Recall is ill-defined and being set to 0.0 due to no true samples. Use `zero_division` parameter to control this behavior.\n",
            "  _warn_prf(average, modifier, msg_start, len(result))\n",
            "c:\\users\\longkuku\\appdata\\local\\programs\\python\\python37\\lib\\site-packages\\sklearn\\utils\\validation.py:72: FutureWarning: Pass beta=1 as keyword args. From version 1.0 (renaming of 0.25) passing these as positional arguments will result in an error\n",
            "  \"will result in an error\", FutureWarning)\n",
            "c:\\users\\longkuku\\appdata\\local\\programs\\python\\python37\\lib\\site-packages\\sklearn\\metrics\\_classification.py:1245: UndefinedMetricWarning: Recall and F-score are ill-defined and being set to 0.0 in labels with no true samples. Use `zero_division` parameter to control this behavior.\n",
            "  _warn_prf(average, modifier, msg_start, len(result))\n",
            "c:\\users\\longkuku\\appdata\\local\\programs\\python\\python37\\lib\\site-packages\\sklearn\\metrics\\_classification.py:1245: UndefinedMetricWarning: Recall and F-score are ill-defined and being set to 0.0 in labels with no true samples. Use `zero_division` parameter to control this behavior.\n",
            "  _warn_prf(average, modifier, msg_start, len(result))\n",
            "c:\\users\\longkuku\\appdata\\local\\programs\\python\\python37\\lib\\site-packages\\sklearn\\metrics\\_classification.py:1245: UndefinedMetricWarning: Recall and F-score are ill-defined and being set to 0.0 in labels with no true samples. Use `zero_division` parameter to control this behavior.\n",
            "  _warn_prf(average, modifier, msg_start, len(result))\n",
            "c:\\users\\longkuku\\appdata\\local\\programs\\python\\python37\\lib\\site-packages\\sklearn\\metrics\\_classification.py:1245: UndefinedMetricWarning: Recall is ill-defined and being set to 0.0 due to no true samples. Use `zero_division` parameter to control this behavior.\n",
            "  _warn_prf(average, modifier, msg_start, len(result))\n",
            "c:\\users\\longkuku\\appdata\\local\\programs\\python\\python37\\lib\\site-packages\\sklearn\\utils\\validation.py:72: FutureWarning: Pass beta=1 as keyword args. From version 1.0 (renaming of 0.25) passing these as positional arguments will result in an error\n",
            "  \"will result in an error\", FutureWarning)\n",
            "c:\\users\\longkuku\\appdata\\local\\programs\\python\\python37\\lib\\site-packages\\sklearn\\metrics\\_classification.py:1245: UndefinedMetricWarning: Recall and F-score are ill-defined and being set to 0.0 in labels with no true samples. Use `zero_division` parameter to control this behavior.\n",
            "  _warn_prf(average, modifier, msg_start, len(result))\n",
            "c:\\users\\longkuku\\appdata\\local\\programs\\python\\python37\\lib\\site-packages\\sklearn\\metrics\\_classification.py:1245: UndefinedMetricWarning: Recall and F-score are ill-defined and being set to 0.0 in labels with no true samples. Use `zero_division` parameter to control this behavior.\n",
            "  _warn_prf(average, modifier, msg_start, len(result))\n",
            "c:\\users\\longkuku\\appdata\\local\\programs\\python\\python37\\lib\\site-packages\\sklearn\\metrics\\_classification.py:1245: UndefinedMetricWarning: Recall and F-score are ill-defined and being set to 0.0 in labels with no true samples. Use `zero_division` parameter to control this behavior.\n",
            "  _warn_prf(average, modifier, msg_start, len(result))\n"
          ],
          "name": "stderr"
        },
        {
          "output_type": "stream",
          "text": [
            "Train with feature union\n"
          ],
          "name": "stdout"
        },
        {
          "output_type": "stream",
          "text": [
            "c:\\users\\longkuku\\appdata\\local\\programs\\python\\python37\\lib\\site-packages\\sklearn\\metrics\\_classification.py:1245: UndefinedMetricWarning: Precision is ill-defined and being set to 0.0 due to no predicted samples. Use `zero_division` parameter to control this behavior.\n",
            "  _warn_prf(average, modifier, msg_start, len(result))\n",
            "c:\\users\\longkuku\\appdata\\local\\programs\\python\\python37\\lib\\site-packages\\sklearn\\metrics\\_classification.py:1245: UndefinedMetricWarning: Precision is ill-defined and being set to 0.0 due to no predicted samples. Use `zero_division` parameter to control this behavior.\n",
            "  _warn_prf(average, modifier, msg_start, len(result))\n",
            "c:\\users\\longkuku\\appdata\\local\\programs\\python\\python37\\lib\\site-packages\\sklearn\\metrics\\_classification.py:1245: UndefinedMetricWarning: Precision is ill-defined and being set to 0.0 due to no predicted samples. Use `zero_division` parameter to control this behavior.\n",
            "  _warn_prf(average, modifier, msg_start, len(result))\n",
            "c:\\users\\longkuku\\appdata\\local\\programs\\python\\python37\\lib\\site-packages\\sklearn\\metrics\\_classification.py:1245: UndefinedMetricWarning: Precision is ill-defined and being set to 0.0 due to no predicted samples. Use `zero_division` parameter to control this behavior.\n",
            "  _warn_prf(average, modifier, msg_start, len(result))\n",
            "c:\\users\\longkuku\\appdata\\local\\programs\\python\\python37\\lib\\site-packages\\sklearn\\metrics\\_classification.py:1245: UndefinedMetricWarning: Precision is ill-defined and being set to 0.0 due to no predicted samples. Use `zero_division` parameter to control this behavior.\n",
            "  _warn_prf(average, modifier, msg_start, len(result))\n",
            "c:\\users\\longkuku\\appdata\\local\\programs\\python\\python37\\lib\\site-packages\\sklearn\\metrics\\_classification.py:1245: UndefinedMetricWarning: Precision is ill-defined and being set to 0.0 due to no predicted samples. Use `zero_division` parameter to control this behavior.\n",
            "  _warn_prf(average, modifier, msg_start, len(result))\n",
            "c:\\users\\longkuku\\appdata\\local\\programs\\python\\python37\\lib\\site-packages\\sklearn\\metrics\\_classification.py:1245: UndefinedMetricWarning: Precision is ill-defined and being set to 0.0 due to no predicted samples. Use `zero_division` parameter to control this behavior.\n",
            "  _warn_prf(average, modifier, msg_start, len(result))\n",
            "c:\\users\\longkuku\\appdata\\local\\programs\\python\\python37\\lib\\site-packages\\sklearn\\metrics\\_classification.py:1245: UndefinedMetricWarning: Precision is ill-defined and being set to 0.0 due to no predicted samples. Use `zero_division` parameter to control this behavior.\n",
            "  _warn_prf(average, modifier, msg_start, len(result))\n",
            "c:\\users\\longkuku\\appdata\\local\\programs\\python\\python37\\lib\\site-packages\\sklearn\\metrics\\_classification.py:1245: UndefinedMetricWarning: Precision is ill-defined and being set to 0.0 due to no predicted samples. Use `zero_division` parameter to control this behavior.\n",
            "  _warn_prf(average, modifier, msg_start, len(result))\n"
          ],
          "name": "stderr"
        },
        {
          "output_type": "stream",
          "text": [
            "Cross validation: Average training set result: test_accuracy=0.954995 test_precision=0.000000 test_f1=0.000000 test_recall=0.000000 .\n",
            "\n",
            "Cross validation: Average validation set result: train_accuracy=0.955036 train_precision=0.200000 train_f1=0.001818 train_recall=0.000913 .\n",
            "\n",
            "Evaluating on test set:\n",
            "Evaluation for: SVMresult on test set\n",
            "Classifier 'SVMresult on test set' has Acc=0.945 P=0.000 R=0.000 F1=0.000\n",
            "              precision    recall  f1-score   support\n",
            "\n",
            "           0      1.000     0.945     0.972      1517\n",
            "           1      0.000     0.000     0.000         0\n",
            "\n",
            "    accuracy                          0.945      1517\n",
            "   macro avg      0.500     0.472     0.486      1517\n",
            "weighted avg      1.000     0.945     0.972      1517\n",
            "\n",
            "Simple test result:\n",
            "Prediction result: {'accuracy': 0.944627554383652, 'precision': 0.0, 'f1': 0.0, 'recall': 0.0}\n",
            "              precision    recall  f1-score   support\n",
            "\n",
            "           0     1.0000    0.9446    0.9715      1517\n",
            "           1     0.0000    0.0000    0.0000         0\n",
            "\n",
            "    accuracy                         0.9446      1517\n",
            "   macro avg     0.5000    0.4723    0.4858      1517\n",
            "weighted avg     1.0000    0.9446    0.9715      1517\n",
            "\n",
            "Train with feature union + over-sample\n"
          ],
          "name": "stdout"
        },
        {
          "output_type": "stream",
          "text": [
            "c:\\users\\longkuku\\appdata\\local\\programs\\python\\python37\\lib\\site-packages\\sklearn\\metrics\\_classification.py:1245: UndefinedMetricWarning: Recall is ill-defined and being set to 0.0 due to no true samples. Use `zero_division` parameter to control this behavior.\n",
            "  _warn_prf(average, modifier, msg_start, len(result))\n",
            "c:\\users\\longkuku\\appdata\\local\\programs\\python\\python37\\lib\\site-packages\\sklearn\\utils\\validation.py:72: FutureWarning: Pass beta=1 as keyword args. From version 1.0 (renaming of 0.25) passing these as positional arguments will result in an error\n",
            "  \"will result in an error\", FutureWarning)\n",
            "c:\\users\\longkuku\\appdata\\local\\programs\\python\\python37\\lib\\site-packages\\sklearn\\metrics\\_classification.py:1245: UndefinedMetricWarning: Recall and F-score are ill-defined and being set to 0.0 in labels with no true samples. Use `zero_division` parameter to control this behavior.\n",
            "  _warn_prf(average, modifier, msg_start, len(result))\n",
            "c:\\users\\longkuku\\appdata\\local\\programs\\python\\python37\\lib\\site-packages\\sklearn\\metrics\\_classification.py:1245: UndefinedMetricWarning: Recall and F-score are ill-defined and being set to 0.0 in labels with no true samples. Use `zero_division` parameter to control this behavior.\n",
            "  _warn_prf(average, modifier, msg_start, len(result))\n",
            "c:\\users\\longkuku\\appdata\\local\\programs\\python\\python37\\lib\\site-packages\\sklearn\\metrics\\_classification.py:1245: UndefinedMetricWarning: Recall and F-score are ill-defined and being set to 0.0 in labels with no true samples. Use `zero_division` parameter to control this behavior.\n",
            "  _warn_prf(average, modifier, msg_start, len(result))\n",
            "c:\\users\\longkuku\\appdata\\local\\programs\\python\\python37\\lib\\site-packages\\sklearn\\metrics\\_classification.py:1245: UndefinedMetricWarning: Recall is ill-defined and being set to 0.0 due to no true samples. Use `zero_division` parameter to control this behavior.\n",
            "  _warn_prf(average, modifier, msg_start, len(result))\n",
            "c:\\users\\longkuku\\appdata\\local\\programs\\python\\python37\\lib\\site-packages\\sklearn\\utils\\validation.py:72: FutureWarning: Pass beta=1 as keyword args. From version 1.0 (renaming of 0.25) passing these as positional arguments will result in an error\n",
            "  \"will result in an error\", FutureWarning)\n",
            "c:\\users\\longkuku\\appdata\\local\\programs\\python\\python37\\lib\\site-packages\\sklearn\\metrics\\_classification.py:1245: UndefinedMetricWarning: Recall and F-score are ill-defined and being set to 0.0 in labels with no true samples. Use `zero_division` parameter to control this behavior.\n",
            "  _warn_prf(average, modifier, msg_start, len(result))\n",
            "c:\\users\\longkuku\\appdata\\local\\programs\\python\\python37\\lib\\site-packages\\sklearn\\metrics\\_classification.py:1245: UndefinedMetricWarning: Recall and F-score are ill-defined and being set to 0.0 in labels with no true samples. Use `zero_division` parameter to control this behavior.\n",
            "  _warn_prf(average, modifier, msg_start, len(result))\n",
            "c:\\users\\longkuku\\appdata\\local\\programs\\python\\python37\\lib\\site-packages\\sklearn\\metrics\\_classification.py:1245: UndefinedMetricWarning: Recall and F-score are ill-defined and being set to 0.0 in labels with no true samples. Use `zero_division` parameter to control this behavior.\n",
            "  _warn_prf(average, modifier, msg_start, len(result))\n",
            "c:\\users\\longkuku\\appdata\\local\\programs\\python\\python37\\lib\\site-packages\\sklearn\\metrics\\_classification.py:1245: UndefinedMetricWarning: Precision is ill-defined and being set to 0.0 due to no predicted samples. Use `zero_division` parameter to control this behavior.\n",
            "  _warn_prf(average, modifier, msg_start, len(result))\n"
          ],
          "name": "stderr"
        },
        {
          "output_type": "stream",
          "text": [
            "Cross validation: Average training set result: test_accuracy=0.809444 test_precision=0.400000 test_f1=0.007236 test_recall=0.003663 .\n",
            "\n",
            "Cross validation: Average validation set result: train_accuracy=0.810352 train_precision=0.804322 train_f1=0.014501 train_recall=0.007326 .\n",
            "\n",
            "Evaluating on test set:\n",
            "Evaluation for: SVMresult on test set\n",
            "Classifier 'SVMresult on test set' has Acc=0.944 P=0.000 R=0.000 F1=0.000\n",
            "              precision    recall  f1-score   support\n",
            "\n",
            "           0      0.999     0.945     0.971      1516\n",
            "           1      0.000     0.000     0.000         1\n",
            "\n",
            "    accuracy                          0.944      1517\n",
            "   macro avg      0.500     0.472     0.486      1517\n",
            "weighted avg      0.999     0.944     0.971      1517\n",
            "\n",
            "Simple test result:\n",
            "Prediction result: {'accuracy': 0.9439683586025049, 'precision': 0.0, 'f1': 0.0, 'recall': 0.0}\n",
            "              precision    recall  f1-score   support\n",
            "\n",
            "           0     0.9993    0.9446    0.9712      1516\n",
            "           1     0.0000    0.0000    0.0000         1\n",
            "\n",
            "    accuracy                         0.9440      1517\n",
            "   macro avg     0.4997    0.4723    0.4856      1517\n",
            "weighted avg     0.9986    0.9440    0.9705      1517\n",
            "\n",
            "This compuation takes: 0:07:04\n",
            "Over-sample data set\n",
            "feature-union\n"
          ],
          "name": "stdout"
        },
        {
          "output_type": "stream",
          "text": [
            "c:\\users\\longkuku\\appdata\\local\\programs\\python\\python37\\lib\\site-packages\\sklearn\\utils\\validation.py:72: FutureWarning: Pass beta=1 as keyword args. From version 1.0 (renaming of 0.25) passing these as positional arguments will result in an error\n",
            "  \"will result in an error\", FutureWarning)\n",
            "c:\\users\\longkuku\\appdata\\local\\programs\\python\\python37\\lib\\site-packages\\sklearn\\utils\\validation.py:72: FutureWarning: Pass beta=1 as keyword args. From version 1.0 (renaming of 0.25) passing these as positional arguments will result in an error\n",
            "  \"will result in an error\", FutureWarning)\n"
          ],
          "name": "stderr"
        },
        {
          "output_type": "stream",
          "text": [
            "Train with feature union\n"
          ],
          "name": "stdout"
        },
        {
          "output_type": "stream",
          "text": [
            "c:\\users\\longkuku\\appdata\\local\\programs\\python\\python37\\lib\\site-packages\\sklearn\\metrics\\_classification.py:1245: UndefinedMetricWarning: Precision is ill-defined and being set to 0.0 due to no predicted samples. Use `zero_division` parameter to control this behavior.\n",
            "  _warn_prf(average, modifier, msg_start, len(result))\n",
            "c:\\users\\longkuku\\appdata\\local\\programs\\python\\python37\\lib\\site-packages\\sklearn\\metrics\\_classification.py:1245: UndefinedMetricWarning: Precision is ill-defined and being set to 0.0 due to no predicted samples. Use `zero_division` parameter to control this behavior.\n",
            "  _warn_prf(average, modifier, msg_start, len(result))\n",
            "c:\\users\\longkuku\\appdata\\local\\programs\\python\\python37\\lib\\site-packages\\sklearn\\metrics\\_classification.py:1245: UndefinedMetricWarning: Precision is ill-defined and being set to 0.0 due to no predicted samples. Use `zero_division` parameter to control this behavior.\n",
            "  _warn_prf(average, modifier, msg_start, len(result))\n",
            "c:\\users\\longkuku\\appdata\\local\\programs\\python\\python37\\lib\\site-packages\\sklearn\\metrics\\_classification.py:1245: UndefinedMetricWarning: Precision is ill-defined and being set to 0.0 due to no predicted samples. Use `zero_division` parameter to control this behavior.\n",
            "  _warn_prf(average, modifier, msg_start, len(result))\n",
            "c:\\users\\longkuku\\appdata\\local\\programs\\python\\python37\\lib\\site-packages\\sklearn\\metrics\\_classification.py:1245: UndefinedMetricWarning: Precision is ill-defined and being set to 0.0 due to no predicted samples. Use `zero_division` parameter to control this behavior.\n",
            "  _warn_prf(average, modifier, msg_start, len(result))\n",
            "c:\\users\\longkuku\\appdata\\local\\programs\\python\\python37\\lib\\site-packages\\sklearn\\metrics\\_classification.py:1245: UndefinedMetricWarning: Precision is ill-defined and being set to 0.0 due to no predicted samples. Use `zero_division` parameter to control this behavior.\n",
            "  _warn_prf(average, modifier, msg_start, len(result))\n"
          ],
          "name": "stderr"
        },
        {
          "output_type": "stream",
          "text": [
            "Cross validation: Average training set result: test_accuracy=0.934718 test_precision=0.000000 test_f1=0.000000 test_recall=0.000000 .\n",
            "\n",
            "Cross validation: Average validation set result: train_accuracy=0.934883 train_precision=0.800000 train_f1=0.005031 train_recall=0.002524 .\n",
            "\n",
            "Evaluating on test set:\n",
            "Evaluation for: SVMresult on test set\n",
            "Classifier 'SVMresult on test set' has Acc=0.871 P=0.000 R=0.000 F1=0.000\n",
            "              precision    recall  f1-score   support\n",
            "\n",
            "           0      1.000     0.871     0.931      1517\n",
            "           1      0.000     0.000     0.000         0\n",
            "\n",
            "    accuracy                          0.871      1517\n",
            "   macro avg      0.500     0.435     0.465      1517\n",
            "weighted avg      1.000     0.871     0.931      1517\n",
            "\n",
            "Simple test result:\n",
            "Prediction result: {'accuracy': 0.8707976268951879, 'precision': 0.0, 'f1': 0.0, 'recall': 0.0}\n",
            "              precision    recall  f1-score   support\n",
            "\n",
            "           0     1.0000    0.8708    0.9309      1517\n",
            "           1     0.0000    0.0000    0.0000         0\n",
            "\n",
            "    accuracy                         0.8708      1517\n",
            "   macro avg     0.5000    0.4354    0.4655      1517\n",
            "weighted avg     1.0000    0.8708    0.9309      1517\n",
            "\n",
            "Train with feature union + over-sample\n"
          ],
          "name": "stdout"
        },
        {
          "output_type": "stream",
          "text": [
            "c:\\users\\longkuku\\appdata\\local\\programs\\python\\python37\\lib\\site-packages\\sklearn\\metrics\\_classification.py:1245: UndefinedMetricWarning: Recall is ill-defined and being set to 0.0 due to no true samples. Use `zero_division` parameter to control this behavior.\n",
            "  _warn_prf(average, modifier, msg_start, len(result))\n",
            "c:\\users\\longkuku\\appdata\\local\\programs\\python\\python37\\lib\\site-packages\\sklearn\\utils\\validation.py:72: FutureWarning: Pass beta=1 as keyword args. From version 1.0 (renaming of 0.25) passing these as positional arguments will result in an error\n",
            "  \"will result in an error\", FutureWarning)\n",
            "c:\\users\\longkuku\\appdata\\local\\programs\\python\\python37\\lib\\site-packages\\sklearn\\metrics\\_classification.py:1245: UndefinedMetricWarning: Recall and F-score are ill-defined and being set to 0.0 in labels with no true samples. Use `zero_division` parameter to control this behavior.\n",
            "  _warn_prf(average, modifier, msg_start, len(result))\n",
            "c:\\users\\longkuku\\appdata\\local\\programs\\python\\python37\\lib\\site-packages\\sklearn\\metrics\\_classification.py:1245: UndefinedMetricWarning: Recall and F-score are ill-defined and being set to 0.0 in labels with no true samples. Use `zero_division` parameter to control this behavior.\n",
            "  _warn_prf(average, modifier, msg_start, len(result))\n",
            "c:\\users\\longkuku\\appdata\\local\\programs\\python\\python37\\lib\\site-packages\\sklearn\\metrics\\_classification.py:1245: UndefinedMetricWarning: Recall and F-score are ill-defined and being set to 0.0 in labels with no true samples. Use `zero_division` parameter to control this behavior.\n",
            "  _warn_prf(average, modifier, msg_start, len(result))\n",
            "c:\\users\\longkuku\\appdata\\local\\programs\\python\\python37\\lib\\site-packages\\sklearn\\metrics\\_classification.py:1245: UndefinedMetricWarning: Recall is ill-defined and being set to 0.0 due to no true samples. Use `zero_division` parameter to control this behavior.\n",
            "  _warn_prf(average, modifier, msg_start, len(result))\n",
            "c:\\users\\longkuku\\appdata\\local\\programs\\python\\python37\\lib\\site-packages\\sklearn\\utils\\validation.py:72: FutureWarning: Pass beta=1 as keyword args. From version 1.0 (renaming of 0.25) passing these as positional arguments will result in an error\n",
            "  \"will result in an error\", FutureWarning)\n",
            "c:\\users\\longkuku\\appdata\\local\\programs\\python\\python37\\lib\\site-packages\\sklearn\\metrics\\_classification.py:1245: UndefinedMetricWarning: Recall and F-score are ill-defined and being set to 0.0 in labels with no true samples. Use `zero_division` parameter to control this behavior.\n",
            "  _warn_prf(average, modifier, msg_start, len(result))\n",
            "c:\\users\\longkuku\\appdata\\local\\programs\\python\\python37\\lib\\site-packages\\sklearn\\metrics\\_classification.py:1245: UndefinedMetricWarning: Recall and F-score are ill-defined and being set to 0.0 in labels with no true samples. Use `zero_division` parameter to control this behavior.\n",
            "  _warn_prf(average, modifier, msg_start, len(result))\n",
            "c:\\users\\longkuku\\appdata\\local\\programs\\python\\python37\\lib\\site-packages\\sklearn\\metrics\\_classification.py:1245: UndefinedMetricWarning: Recall and F-score are ill-defined and being set to 0.0 in labels with no true samples. Use `zero_division` parameter to control this behavior.\n",
            "  _warn_prf(average, modifier, msg_start, len(result))\n",
            "c:\\users\\longkuku\\appdata\\local\\programs\\python\\python37\\lib\\site-packages\\sklearn\\metrics\\_classification.py:1245: UndefinedMetricWarning: Precision is ill-defined and being set to 0.0 due to no predicted samples. Use `zero_division` parameter to control this behavior.\n",
            "  _warn_prf(average, modifier, msg_start, len(result))\n",
            "c:\\users\\longkuku\\appdata\\local\\programs\\python\\python37\\lib\\site-packages\\sklearn\\metrics\\_classification.py:1245: UndefinedMetricWarning: Precision is ill-defined and being set to 0.0 due to no predicted samples. Use `zero_division` parameter to control this behavior.\n",
            "  _warn_prf(average, modifier, msg_start, len(result))\n",
            "c:\\users\\longkuku\\appdata\\local\\programs\\python\\python37\\lib\\site-packages\\sklearn\\metrics\\_classification.py:1245: UndefinedMetricWarning: Precision is ill-defined and being set to 0.0 due to no predicted samples. Use `zero_division` parameter to control this behavior.\n",
            "  _warn_prf(average, modifier, msg_start, len(result))\n"
          ],
          "name": "stderr"
        },
        {
          "output_type": "stream",
          "text": [
            "Cross validation: Average training set result: test_accuracy=0.877747 test_precision=0.400000 test_f1=0.005016 test_recall=0.002524 .\n",
            "\n",
            "Cross validation: Average validation set result: train_accuracy=0.877747 train_precision=1.000000 train_f1=0.005036 train_recall=0.002525 .\n",
            "\n",
            "Evaluating on test set:\n",
            "Evaluation for: SVMresult on test set\n",
            "Classifier 'SVMresult on test set' has Acc=0.870 P=0.000 R=0.000 F1=0.000\n",
            "              precision    recall  f1-score   support\n",
            "\n",
            "           0      0.999     0.871     0.931      1516\n",
            "           1      0.000     0.000     0.000         1\n",
            "\n",
            "    accuracy                          0.870      1517\n",
            "   macro avg      0.500     0.435     0.465      1517\n",
            "weighted avg      0.999     0.870     0.930      1517\n",
            "\n",
            "Simple test result:\n",
            "Prediction result: {'accuracy': 0.8701384311140409, 'precision': 0.0, 'f1': 0.0, 'recall': 0.0}\n",
            "              precision    recall  f1-score   support\n",
            "\n",
            "           0     0.9992    0.8707    0.9306      1516\n",
            "           1     0.0000    0.0000    0.0000         1\n",
            "\n",
            "    accuracy                         0.8701      1517\n",
            "   macro avg     0.4996    0.4354    0.4653      1517\n",
            "weighted avg     0.9986    0.8701    0.9299      1517\n",
            "\n",
            "This compuation takes: 0:06:38\n"
          ],
          "name": "stdout"
        },
        {
          "output_type": "stream",
          "text": [
            "c:\\users\\longkuku\\appdata\\local\\programs\\python\\python37\\lib\\site-packages\\sklearn\\utils\\validation.py:72: FutureWarning: Pass beta=1 as keyword args. From version 1.0 (renaming of 0.25) passing these as positional arguments will result in an error\n",
            "  \"will result in an error\", FutureWarning)\n",
            "c:\\users\\longkuku\\appdata\\local\\programs\\python\\python37\\lib\\site-packages\\sklearn\\utils\\validation.py:72: FutureWarning: Pass beta=1 as keyword args. From version 1.0 (renaming of 0.25) passing these as positional arguments will result in an error\n",
            "  \"will result in an error\", FutureWarning)\n"
          ],
          "name": "stderr"
        }
      ]
    },
    {
      "cell_type": "markdown",
      "metadata": {
        "id": "4h7EluqiOh_b"
      },
      "source": [
        ""
      ]
    },
    {
      "cell_type": "markdown",
      "metadata": {
        "id": "M-eBN3pHv7kf"
      },
      "source": [
        "#### Using wrod2vec embedding"
      ]
    },
    {
      "cell_type": "code",
      "metadata": {
        "id": "iAaC5-ELv_mv"
      },
      "source": [
        "import gensim.downloader\r\n",
        "glove_model = gensim.downloader.load('glove-twitter-200')"
      ],
      "execution_count": null,
      "outputs": []
    },
    {
      "cell_type": "code",
      "metadata": {
        "id": "_Ohu-Rk4NfP5"
      },
      "source": [
        "from gensim.models.keyedvectors import KeyedVectors\r\n",
        "glove_model = KeyedVectors.load_word2vec_format(\"glove.twitter.27B.200d.txt\")"
      ],
      "execution_count": null,
      "outputs": []
    },
    {
      "cell_type": "code",
      "metadata": {
        "id": "Ane6fM8uxMY0"
      },
      "source": [
        "vectors = [glove_model[sen] for sen in sentences]"
      ],
      "execution_count": null,
      "outputs": []
    },
    {
      "cell_type": "code",
      "metadata": {
        "id": "7j_J8Qlp38BF"
      },
      "source": [
        "a_batch = [cv19_a_run_info_labeled, labels_single_a]\r\n",
        "b_batch = [cv19_b_run_info_labeled, labels_single_b]\r\n",
        "best_over_sample_factors = [24,44,7,4,4,4,1]\r\n",
        "\r\n",
        "for i in range(7):\r\n",
        "    section_category = i\r\n",
        "    increase_time = best_over_sample_factors[i]\r\n",
        "    train_labels = labels_single_a[section_category][:int(len(cv19_a_run_info_labeled)*0.8)]\r\n",
        "    test_labels = labels_single_a[section_category][int(len(cv19_a_run_info_labeled)*0.8) :]\r\n",
        "    running_set = [train_features, train_labels, test_features, test_labels]\r\n",
        "    Classical_classifiers.cross_event_validate_lr_info_task(section_category, a_batch, b_batch,increase_time, full_text_vectorizer=glove_model, hash_tags_vectorizer=count_vect\r\n",
        "                        )"
      ],
      "execution_count": null,
      "outputs": []
    },
    {
      "cell_type": "markdown",
      "metadata": {
        "id": "VzoYofx7Oihp"
      },
      "source": [
        "### Decision tree\r\n"
      ]
    },
    {
      "cell_type": "markdown",
      "metadata": {
        "id": "Ev3jLYj1mv2p"
      },
      "source": [
        "#### 1. tf-idf + count"
      ]
    },
    {
      "cell_type": "code",
      "metadata": {
        "colab": {
          "base_uri": "https://localhost:8080/"
        },
        "id": "rbMWC-GhOkR7",
        "outputId": "28f01cdc-486e-4b56-9957-2aa3036e3b92"
      },
      "source": [
        "train_features = cv19_a_run_info_labeled[:int(len(cv19_a_run_info_labeled)*0.8)]\r\n",
        "\r\n",
        "test_features = cv19_a_run_info_labeled[int(len(cv19_a_run_info_labeled)*0.8) :]\r\n",
        "\r\n",
        "featureList = ['full_text','hashtags','favorite_count'] #,'favorited'\r\n",
        "train_features = Process_labels.extract_features(train_features,featureList)\r\n",
        "\r\n",
        "\r\n",
        "# best_over_sample_factors = [24,44,7,4,4,4,1]\r\n",
        "best_over_sample_factors = [24,44,7,4,4,4,1]\r\n",
        "vectorizers = [Tfidf_vect , count_vect]\r\n",
        "total_training_time = 0\r\n",
        "for i in range(7):\r\n",
        "    print(\"Currently is processing %d\" %(i))\r\n",
        "    section_category = i\r\n",
        "    train_labels = labels_single_a[section_category][:int(len(cv19_a_run_info_labeled)*0.8)]\r\n",
        "    test_labels = labels_single_a[section_category][int(len(cv19_a_run_info_labeled)*0.8) :]\r\n",
        "    running_set = [train_features, train_labels, test_features, test_labels]\r\n",
        "    total_training_time += Classical_classifiers.DecisionTreeCf(running_set, vectorizers, section_category, over_sample_targets=[1], increase_factor=best_over_sample_factors[i],\r\n",
        "                        )"
      ],
      "execution_count": null,
      "outputs": [
        {
          "output_type": "stream",
          "text": [
            "Currently is processing 0\n",
            "Train with feature union\n"
          ],
          "name": "stdout"
        },
        {
          "output_type": "stream",
          "text": [
            "c:\\users\\longkuku\\appdata\\local\\programs\\python\\python37\\lib\\site-packages\\sklearn\\metrics\\_classification.py:1245: UndefinedMetricWarning: Precision is ill-defined and being set to 0.0 due to no predicted samples. Use `zero_division` parameter to control this behavior.\n",
            "  _warn_prf(average, modifier, msg_start, len(result))\n",
            "c:\\users\\longkuku\\appdata\\local\\programs\\python\\python37\\lib\\site-packages\\sklearn\\metrics\\_classification.py:1245: UndefinedMetricWarning: Recall is ill-defined and being set to 0.0 due to no true samples. Use `zero_division` parameter to control this behavior.\n",
            "  _warn_prf(average, modifier, msg_start, len(result))\n",
            "c:\\users\\longkuku\\appdata\\local\\programs\\python\\python37\\lib\\site-packages\\sklearn\\utils\\validation.py:72: FutureWarning: Pass beta=1 as keyword args. From version 1.0 (renaming of 0.25) passing these as positional arguments will result in an error\n",
            "  \"will result in an error\", FutureWarning)\n",
            "c:\\users\\longkuku\\appdata\\local\\programs\\python\\python37\\lib\\site-packages\\sklearn\\metrics\\_classification.py:1245: UndefinedMetricWarning: Recall and F-score are ill-defined and being set to 0.0 in labels with no true samples. Use `zero_division` parameter to control this behavior.\n",
            "  _warn_prf(average, modifier, msg_start, len(result))\n",
            "c:\\users\\longkuku\\appdata\\local\\programs\\python\\python37\\lib\\site-packages\\sklearn\\metrics\\_classification.py:1245: UndefinedMetricWarning: Recall and F-score are ill-defined and being set to 0.0 in labels with no true samples. Use `zero_division` parameter to control this behavior.\n",
            "  _warn_prf(average, modifier, msg_start, len(result))\n",
            "c:\\users\\longkuku\\appdata\\local\\programs\\python\\python37\\lib\\site-packages\\sklearn\\metrics\\_classification.py:1245: UndefinedMetricWarning: Recall and F-score are ill-defined and being set to 0.0 in labels with no true samples. Use `zero_division` parameter to control this behavior.\n",
            "  _warn_prf(average, modifier, msg_start, len(result))\n",
            "c:\\users\\longkuku\\appdata\\local\\programs\\python\\python37\\lib\\site-packages\\sklearn\\metrics\\_classification.py:1245: UndefinedMetricWarning: Recall is ill-defined and being set to 0.0 due to no true samples. Use `zero_division` parameter to control this behavior.\n",
            "  _warn_prf(average, modifier, msg_start, len(result))\n",
            "c:\\users\\longkuku\\appdata\\local\\programs\\python\\python37\\lib\\site-packages\\sklearn\\utils\\validation.py:72: FutureWarning: Pass beta=1 as keyword args. From version 1.0 (renaming of 0.25) passing these as positional arguments will result in an error\n",
            "  \"will result in an error\", FutureWarning)\n",
            "c:\\users\\longkuku\\appdata\\local\\programs\\python\\python37\\lib\\site-packages\\sklearn\\metrics\\_classification.py:1245: UndefinedMetricWarning: Recall and F-score are ill-defined and being set to 0.0 in labels with no true samples. Use `zero_division` parameter to control this behavior.\n",
            "  _warn_prf(average, modifier, msg_start, len(result))\n",
            "c:\\users\\longkuku\\appdata\\local\\programs\\python\\python37\\lib\\site-packages\\sklearn\\metrics\\_classification.py:1245: UndefinedMetricWarning: Recall and F-score are ill-defined and being set to 0.0 in labels with no true samples. Use `zero_division` parameter to control this behavior.\n",
            "  _warn_prf(average, modifier, msg_start, len(result))\n",
            "c:\\users\\longkuku\\appdata\\local\\programs\\python\\python37\\lib\\site-packages\\sklearn\\metrics\\_classification.py:1245: UndefinedMetricWarning: Recall and F-score are ill-defined and being set to 0.0 in labels with no true samples. Use `zero_division` parameter to control this behavior.\n",
            "  _warn_prf(average, modifier, msg_start, len(result))\n"
          ],
          "name": "stderr"
        },
        {
          "output_type": "stream",
          "text": [
            "Cross validation: Average training set result: test_accuracy=0.996373 test_precision=0.000000 test_f1=0.000000 test_recall=0.000000 .\n",
            "\n",
            "Cross validation: Average validation set result: train_accuracy=1.000000 train_precision=1.000000 train_f1=1.000000 train_recall=1.000000 .\n",
            "\n",
            "Evaluating on test set:\n",
            "Evaluation for: DTresult on test set\n",
            "Classifier 'DTresult on test set' has Acc=0.999 P=0.000 R=0.000 F1=0.000\n",
            "              precision    recall  f1-score   support\n",
            "\n",
            "           0      1.000     0.999     0.999      1517\n",
            "           1      0.000     0.000     0.000         0\n",
            "\n",
            "    accuracy                          0.999      1517\n",
            "   macro avg      0.500     0.499     0.500      1517\n",
            "weighted avg      1.000     0.999     0.999      1517\n",
            "\n",
            "Simple test result:\n",
            "Prediction result: {'accuracy': 0.998681608437706, 'precision': 0.0, 'f1': 0.0, 'recall': 0.0}\n",
            "              precision    recall  f1-score   support\n",
            "\n",
            "           0     1.0000    0.9987    0.9993      1517\n",
            "           1     0.0000    0.0000    0.0000         0\n",
            "\n",
            "    accuracy                         0.9987      1517\n",
            "   macro avg     0.5000    0.4993    0.4997      1517\n",
            "weighted avg     1.0000    0.9987    0.9993      1517\n",
            "\n",
            "Train with feature union + over-sample\n",
            "Cross validation: Average training set result: test_accuracy=0.987752 test_precision=0.920737 test_f1=0.875822 test_recall=0.875000 .\n",
            "\n",
            "Cross validation: Average validation set result: train_accuracy=1.000000 train_precision=1.000000 train_f1=1.000000 train_recall=1.000000 .\n",
            "\n",
            "Evaluating on test set:\n",
            "Evaluation for: DTresult on test set\n",
            "Classifier 'DTresult on test set' has Acc=0.996 P=0.000 R=0.000 F1=0.000\n",
            "              precision    recall  f1-score   support\n",
            "\n",
            "           0      0.997     0.999     0.998      1513\n",
            "           1      0.000     0.000     0.000         4\n",
            "\n",
            "    accuracy                          0.996      1517\n",
            "   macro avg      0.499     0.499     0.499      1517\n",
            "weighted avg      0.995     0.996     0.995      1517\n",
            "\n",
            "Simple test result:\n",
            "Prediction result: {'accuracy': 0.996044825313118, 'precision': 0.0, 'f1': 0.0, 'recall': 0.0}\n",
            "              precision    recall  f1-score   support\n",
            "\n",
            "           0     0.9974    0.9987    0.9980      1513\n",
            "           1     0.0000    0.0000    0.0000         4\n",
            "\n",
            "    accuracy                         0.9960      1517\n",
            "   macro avg     0.4987    0.4993    0.4990      1517\n",
            "weighted avg     0.9947    0.9960    0.9954      1517\n",
            "\n",
            "This compuation takes: 0:06:57\n",
            "Currently is processing 1\n"
          ],
          "name": "stdout"
        },
        {
          "output_type": "stream",
          "text": [
            "c:\\users\\longkuku\\appdata\\local\\programs\\python\\python37\\lib\\site-packages\\sklearn\\utils\\validation.py:72: FutureWarning: Pass beta=1 as keyword args. From version 1.0 (renaming of 0.25) passing these as positional arguments will result in an error\n",
            "  \"will result in an error\", FutureWarning)\n",
            "c:\\users\\longkuku\\appdata\\local\\programs\\python\\python37\\lib\\site-packages\\sklearn\\utils\\validation.py:72: FutureWarning: Pass beta=1 as keyword args. From version 1.0 (renaming of 0.25) passing these as positional arguments will result in an error\n",
            "  \"will result in an error\", FutureWarning)\n"
          ],
          "name": "stderr"
        },
        {
          "output_type": "stream",
          "text": [
            "Train with feature union\n"
          ],
          "name": "stdout"
        },
        {
          "output_type": "stream",
          "text": [
            "c:\\users\\longkuku\\appdata\\local\\programs\\python\\python37\\lib\\site-packages\\sklearn\\metrics\\_classification.py:1245: UndefinedMetricWarning: Precision is ill-defined and being set to 0.0 due to no predicted samples. Use `zero_division` parameter to control this behavior.\n",
            "  _warn_prf(average, modifier, msg_start, len(result))\n"
          ],
          "name": "stderr"
        },
        {
          "output_type": "stream",
          "text": [
            "Cross validation: Average training set result: test_accuracy=0.984172 test_precision=0.102564 test_f1=0.084938 test_recall=0.133333 .\n",
            "\n",
            "Cross validation: Average validation set result: train_accuracy=1.000000 train_precision=1.000000 train_f1=1.000000 train_recall=1.000000 .\n",
            "\n",
            "Evaluating on test set:\n",
            "Evaluation for: DTresult on test set\n",
            "Classifier 'DTresult on test set' has Acc=0.995 P=0.000 R=0.000 F1=0.000\n",
            "              precision    recall  f1-score   support\n",
            "\n",
            "           0      1.000     0.995     0.998      1517\n",
            "           1      0.000     0.000     0.000         0\n",
            "\n",
            "    accuracy                          0.995      1517\n",
            "   macro avg      0.500     0.498     0.499      1517\n",
            "weighted avg      1.000     0.995     0.998      1517\n",
            "\n",
            "Simple test result:\n",
            "Prediction result: {'accuracy': 0.995385629531971, 'precision': 0.0, 'f1': 0.0, 'recall': 0.0}\n",
            "              precision    recall  f1-score   support\n",
            "\n",
            "           0     1.0000    0.9954    0.9977      1517\n",
            "           1     0.0000    0.0000    0.0000         0\n",
            "\n",
            "    accuracy                         0.9954      1517\n",
            "   macro avg     0.5000    0.4977    0.4988      1517\n",
            "weighted avg     1.0000    0.9954    0.9977      1517\n",
            "\n",
            "Train with feature union + over-sample\n"
          ],
          "name": "stdout"
        },
        {
          "output_type": "stream",
          "text": [
            "c:\\users\\longkuku\\appdata\\local\\programs\\python\\python37\\lib\\site-packages\\sklearn\\metrics\\_classification.py:1245: UndefinedMetricWarning: Recall is ill-defined and being set to 0.0 due to no true samples. Use `zero_division` parameter to control this behavior.\n",
            "  _warn_prf(average, modifier, msg_start, len(result))\n",
            "c:\\users\\longkuku\\appdata\\local\\programs\\python\\python37\\lib\\site-packages\\sklearn\\utils\\validation.py:72: FutureWarning: Pass beta=1 as keyword args. From version 1.0 (renaming of 0.25) passing these as positional arguments will result in an error\n",
            "  \"will result in an error\", FutureWarning)\n",
            "c:\\users\\longkuku\\appdata\\local\\programs\\python\\python37\\lib\\site-packages\\sklearn\\metrics\\_classification.py:1245: UndefinedMetricWarning: Recall and F-score are ill-defined and being set to 0.0 in labels with no true samples. Use `zero_division` parameter to control this behavior.\n",
            "  _warn_prf(average, modifier, msg_start, len(result))\n",
            "c:\\users\\longkuku\\appdata\\local\\programs\\python\\python37\\lib\\site-packages\\sklearn\\metrics\\_classification.py:1245: UndefinedMetricWarning: Recall and F-score are ill-defined and being set to 0.0 in labels with no true samples. Use `zero_division` parameter to control this behavior.\n",
            "  _warn_prf(average, modifier, msg_start, len(result))\n",
            "c:\\users\\longkuku\\appdata\\local\\programs\\python\\python37\\lib\\site-packages\\sklearn\\metrics\\_classification.py:1245: UndefinedMetricWarning: Recall and F-score are ill-defined and being set to 0.0 in labels with no true samples. Use `zero_division` parameter to control this behavior.\n",
            "  _warn_prf(average, modifier, msg_start, len(result))\n",
            "c:\\users\\longkuku\\appdata\\local\\programs\\python\\python37\\lib\\site-packages\\sklearn\\metrics\\_classification.py:1245: UndefinedMetricWarning: Recall is ill-defined and being set to 0.0 due to no true samples. Use `zero_division` parameter to control this behavior.\n",
            "  _warn_prf(average, modifier, msg_start, len(result))\n",
            "c:\\users\\longkuku\\appdata\\local\\programs\\python\\python37\\lib\\site-packages\\sklearn\\utils\\validation.py:72: FutureWarning: Pass beta=1 as keyword args. From version 1.0 (renaming of 0.25) passing these as positional arguments will result in an error\n",
            "  \"will result in an error\", FutureWarning)\n",
            "c:\\users\\longkuku\\appdata\\local\\programs\\python\\python37\\lib\\site-packages\\sklearn\\metrics\\_classification.py:1245: UndefinedMetricWarning: Recall and F-score are ill-defined and being set to 0.0 in labels with no true samples. Use `zero_division` parameter to control this behavior.\n",
            "  _warn_prf(average, modifier, msg_start, len(result))\n",
            "c:\\users\\longkuku\\appdata\\local\\programs\\python\\python37\\lib\\site-packages\\sklearn\\metrics\\_classification.py:1245: UndefinedMetricWarning: Recall and F-score are ill-defined and being set to 0.0 in labels with no true samples. Use `zero_division` parameter to control this behavior.\n",
            "  _warn_prf(average, modifier, msg_start, len(result))\n",
            "c:\\users\\longkuku\\appdata\\local\\programs\\python\\python37\\lib\\site-packages\\sklearn\\metrics\\_classification.py:1245: UndefinedMetricWarning: Recall and F-score are ill-defined and being set to 0.0 in labels with no true samples. Use `zero_division` parameter to control this behavior.\n",
            "  _warn_prf(average, modifier, msg_start, len(result))\n"
          ],
          "name": "stderr"
        },
        {
          "output_type": "stream",
          "text": [
            "Cross validation: Average training set result: test_accuracy=0.973117 test_precision=0.906442 test_f1=0.857176 test_recall=0.875000 .\n",
            "\n",
            "Cross validation: Average validation set result: train_accuracy=1.000000 train_precision=1.000000 train_f1=1.000000 train_recall=1.000000 .\n",
            "\n",
            "Evaluating on test set:\n",
            "Evaluation for: DTresult on test set\n",
            "Classifier 'DTresult on test set' has Acc=0.991 P=0.000 R=0.000 F1=0.000\n",
            "              precision    recall  f1-score   support\n",
            "\n",
            "           0      0.996     0.995     0.996      1511\n",
            "           1      0.000     0.000     0.000         6\n",
            "\n",
            "    accuracy                          0.991      1517\n",
            "   macro avg      0.498     0.498     0.498      1517\n",
            "weighted avg      0.992     0.991     0.992      1517\n",
            "\n",
            "Simple test result:\n",
            "Prediction result: {'accuracy': 0.991430454845089, 'precision': 0.0, 'f1': 0.0, 'recall': 0.0}\n",
            "              precision    recall  f1-score   support\n",
            "\n",
            "           0     0.9960    0.9954    0.9957      1511\n",
            "           1     0.0000    0.0000    0.0000         6\n",
            "\n",
            "    accuracy                         0.9914      1517\n",
            "   macro avg     0.4980    0.4977    0.4978      1517\n",
            "weighted avg     0.9921    0.9914    0.9918      1517\n",
            "\n",
            "This compuation takes: 0:07:05\n",
            "Currently is processing 2\n"
          ],
          "name": "stdout"
        },
        {
          "output_type": "stream",
          "text": [
            "c:\\users\\longkuku\\appdata\\local\\programs\\python\\python37\\lib\\site-packages\\sklearn\\utils\\validation.py:72: FutureWarning: Pass beta=1 as keyword args. From version 1.0 (renaming of 0.25) passing these as positional arguments will result in an error\n",
            "  \"will result in an error\", FutureWarning)\n",
            "c:\\users\\longkuku\\appdata\\local\\programs\\python\\python37\\lib\\site-packages\\sklearn\\utils\\validation.py:72: FutureWarning: Pass beta=1 as keyword args. From version 1.0 (renaming of 0.25) passing these as positional arguments will result in an error\n",
            "  \"will result in an error\", FutureWarning)\n"
          ],
          "name": "stderr"
        },
        {
          "output_type": "stream",
          "text": [
            "Train with feature union\n",
            "Cross validation: Average training set result: test_accuracy=0.992746 test_precision=0.000000 test_f1=0.000000 test_recall=0.000000 .\n",
            "\n",
            "Cross validation: Average validation set result: train_accuracy=1.000000 train_precision=1.000000 train_f1=1.000000 train_recall=1.000000 .\n",
            "\n",
            "Evaluating on test set:\n",
            "Evaluation for: DTresult on test set\n",
            "Classifier 'DTresult on test set' has Acc=0.993 P=0.385 R=0.714 F1=0.500\n",
            "              precision    recall  f1-score   support\n",
            "\n",
            "           0      0.999     0.995     0.997      1510\n",
            "           1      0.385     0.714     0.500         7\n",
            "\n",
            "    accuracy                          0.993      1517\n",
            "   macro avg      0.692     0.854     0.748      1517\n",
            "weighted avg      0.996     0.993     0.994      1517\n",
            "\n",
            "Simple test result:\n",
            "Prediction result: {'accuracy': 0.99340804218853, 'precision': 0.38461538461538464, 'f1': 0.5, 'recall': 0.7142857142857143}\n",
            "              precision    recall  f1-score   support\n",
            "\n",
            "           0     0.9987    0.9947    0.9967      1510\n",
            "           1     0.3846    0.7143    0.5000         7\n",
            "\n",
            "    accuracy                         0.9934      1517\n",
            "   macro avg     0.6916    0.8545    0.7483      1517\n",
            "weighted avg     0.9958    0.9934    0.9944      1517\n",
            "\n",
            "Train with feature union + over-sample\n"
          ],
          "name": "stdout"
        },
        {
          "output_type": "stream",
          "text": [
            "c:\\users\\longkuku\\appdata\\local\\programs\\python\\python37\\lib\\site-packages\\sklearn\\utils\\validation.py:72: FutureWarning: Pass beta=1 as keyword args. From version 1.0 (renaming of 0.25) passing these as positional arguments will result in an error\n",
            "  \"will result in an error\", FutureWarning)\n",
            "c:\\users\\longkuku\\appdata\\local\\programs\\python\\python37\\lib\\site-packages\\sklearn\\utils\\validation.py:72: FutureWarning: Pass beta=1 as keyword args. From version 1.0 (renaming of 0.25) passing these as positional arguments will result in an error\n",
            "  \"will result in an error\", FutureWarning)\n"
          ],
          "name": "stderr"
        },
        {
          "output_type": "stream",
          "text": [
            "Cross validation: Average training set result: test_accuracy=0.982846 test_precision=0.791074 test_f1=0.854610 test_recall=0.969811 .\n",
            "\n",
            "Cross validation: Average validation set result: train_accuracy=1.000000 train_precision=1.000000 train_f1=1.000000 train_recall=1.000000 .\n",
            "\n",
            "Evaluating on test set:\n",
            "Evaluation for: DTresult on test set\n",
            "Classifier 'DTresult on test set' has Acc=0.991 P=0.385 R=0.500 F1=0.435\n",
            "              precision    recall  f1-score   support\n",
            "\n",
            "           0      0.997     0.995     0.996      1507\n",
            "           1      0.385     0.500     0.435        10\n",
            "\n",
            "    accuracy                          0.991      1517\n",
            "   macro avg      0.691     0.747     0.715      1517\n",
            "weighted avg      0.993     0.991     0.992      1517\n",
            "\n",
            "Simple test result:\n",
            "Prediction result: {'accuracy': 0.991430454845089, 'precision': 0.38461538461538464, 'f1': 0.4347826086956522, 'recall': 0.5}\n",
            "              precision    recall  f1-score   support\n",
            "\n",
            "           0     0.9967    0.9947    0.9957      1507\n",
            "           1     0.3846    0.5000    0.4348        10\n",
            "\n",
            "    accuracy                         0.9914      1517\n",
            "   macro avg     0.6906    0.7473    0.7152      1517\n",
            "weighted avg     0.9926    0.9914    0.9920      1517\n",
            "\n",
            "This compuation takes: 0:06:44\n",
            "Currently is processing 3\n"
          ],
          "name": "stdout"
        },
        {
          "output_type": "stream",
          "text": [
            "c:\\users\\longkuku\\appdata\\local\\programs\\python\\python37\\lib\\site-packages\\sklearn\\utils\\validation.py:72: FutureWarning: Pass beta=1 as keyword args. From version 1.0 (renaming of 0.25) passing these as positional arguments will result in an error\n",
            "  \"will result in an error\", FutureWarning)\n",
            "c:\\users\\longkuku\\appdata\\local\\programs\\python\\python37\\lib\\site-packages\\sklearn\\utils\\validation.py:72: FutureWarning: Pass beta=1 as keyword args. From version 1.0 (renaming of 0.25) passing these as positional arguments will result in an error\n",
            "  \"will result in an error\", FutureWarning)\n"
          ],
          "name": "stderr"
        },
        {
          "output_type": "stream",
          "text": [
            "Train with feature union\n",
            "Cross validation: Average training set result: test_accuracy=0.915594 test_precision=0.347482 test_f1=0.272546 test_recall=0.238407 .\n",
            "\n",
            "Cross validation: Average validation set result: train_accuracy=1.000000 train_precision=1.000000 train_f1=1.000000 train_recall=1.000000 .\n",
            "\n",
            "Evaluating on test set:\n",
            "Evaluation for: DTresult on test set\n",
            "Classifier 'DTresult on test set' has Acc=0.927 P=0.304 R=0.437 F1=0.358\n",
            "              precision    recall  f1-score   support\n",
            "\n",
            "           0      0.972     0.951     0.961      1446\n",
            "           1      0.304     0.437     0.358        71\n",
            "\n",
            "    accuracy                          0.927      1517\n",
            "   macro avg      0.638     0.694     0.660      1517\n",
            "weighted avg      0.940     0.927     0.933      1517\n",
            "\n",
            "Simple test result:\n",
            "Prediction result: {'accuracy': 0.926829268292683, 'precision': 0.30392156862745096, 'f1': 0.3583815028901734, 'recall': 0.43661971830985913}\n",
            "              precision    recall  f1-score   support\n",
            "\n",
            "           0     0.9717    0.9509    0.9612      1446\n",
            "           1     0.3039    0.4366    0.3584        71\n",
            "\n",
            "    accuracy                         0.9268      1517\n",
            "   macro avg     0.6378    0.6938    0.6598      1517\n",
            "weighted avg     0.9405    0.9268    0.9330      1517\n",
            "\n",
            "Train with feature union + over-sample\n"
          ],
          "name": "stdout"
        },
        {
          "output_type": "stream",
          "text": [
            "c:\\users\\longkuku\\appdata\\local\\programs\\python\\python37\\lib\\site-packages\\sklearn\\utils\\validation.py:72: FutureWarning: Pass beta=1 as keyword args. From version 1.0 (renaming of 0.25) passing these as positional arguments will result in an error\n",
            "  \"will result in an error\", FutureWarning)\n",
            "c:\\users\\longkuku\\appdata\\local\\programs\\python\\python37\\lib\\site-packages\\sklearn\\utils\\validation.py:72: FutureWarning: Pass beta=1 as keyword args. From version 1.0 (renaming of 0.25) passing these as positional arguments will result in an error\n",
            "  \"will result in an error\", FutureWarning)\n"
          ],
          "name": "stderr"
        },
        {
          "output_type": "stream",
          "text": [
            "Cross validation: Average training set result: test_accuracy=0.887052 test_precision=0.773869 test_f1=0.857073 test_recall=1.000000 .\n",
            "\n",
            "Cross validation: Average validation set result: train_accuracy=1.000000 train_precision=1.000000 train_f1=1.000000 train_recall=1.000000 .\n",
            "\n",
            "Evaluating on test set:\n",
            "Evaluation for: DTresult on test set\n",
            "Classifier 'DTresult on test set' has Acc=0.898 P=0.206 R=0.221 F1=0.213\n",
            "              precision    recall  f1-score   support\n",
            "\n",
            "           0      0.948     0.943     0.945      1422\n",
            "           1      0.206     0.221     0.213        95\n",
            "\n",
            "    accuracy                          0.898      1517\n",
            "   macro avg      0.577     0.582     0.579      1517\n",
            "weighted avg      0.901     0.898     0.900      1517\n",
            "\n",
            "Simple test result:\n",
            "Prediction result: {'accuracy': 0.8978246539222149, 'precision': 0.20588235294117646, 'f1': 0.2131979695431472, 'recall': 0.22105263157894736}\n",
            "              precision    recall  f1-score   support\n",
            "\n",
            "           0     0.9477    0.9430    0.9454      1422\n",
            "           1     0.2059    0.2211    0.2132        95\n",
            "\n",
            "    accuracy                         0.8978      1517\n",
            "   macro avg     0.5768    0.5820    0.5793      1517\n",
            "weighted avg     0.9012    0.8978    0.8995      1517\n",
            "\n",
            "This compuation takes: 0:07:35\n",
            "Currently is processing 4\n"
          ],
          "name": "stdout"
        },
        {
          "output_type": "stream",
          "text": [
            "c:\\users\\longkuku\\appdata\\local\\programs\\python\\python37\\lib\\site-packages\\sklearn\\utils\\validation.py:72: FutureWarning: Pass beta=1 as keyword args. From version 1.0 (renaming of 0.25) passing these as positional arguments will result in an error\n",
            "  \"will result in an error\", FutureWarning)\n",
            "c:\\users\\longkuku\\appdata\\local\\programs\\python\\python37\\lib\\site-packages\\sklearn\\utils\\validation.py:72: FutureWarning: Pass beta=1 as keyword args. From version 1.0 (renaming of 0.25) passing these as positional arguments will result in an error\n",
            "  \"will result in an error\", FutureWarning)\n"
          ],
          "name": "stderr"
        },
        {
          "output_type": "stream",
          "text": [
            "Train with feature union\n",
            "Cross validation: Average training set result: test_accuracy=0.912618 test_precision=0.429163 test_f1=0.294373 test_recall=0.315152 .\n",
            "\n",
            "Cross validation: Average validation set result: train_accuracy=1.000000 train_precision=1.000000 train_f1=1.000000 train_recall=1.000000 .\n",
            "\n",
            "Evaluating on test set:\n",
            "Evaluation for: DTresult on test set\n",
            "Classifier 'DTresult on test set' has Acc=0.947 P=0.241 R=0.541 F1=0.333\n",
            "              precision    recall  f1-score   support\n",
            "\n",
            "           0      0.988     0.957     0.973      1480\n",
            "           1      0.241     0.541     0.333        37\n",
            "\n",
            "    accuracy                          0.947      1517\n",
            "   macro avg      0.615     0.749     0.653      1517\n",
            "weighted avg      0.970     0.947     0.957      1517\n",
            "\n",
            "Simple test result:\n",
            "Prediction result: {'accuracy': 0.9472643375082399, 'precision': 0.24096385542168675, 'f1': 0.3333333333333333, 'recall': 0.5405405405405406}\n",
            "              precision    recall  f1-score   support\n",
            "\n",
            "           0     0.9881    0.9574    0.9725      1480\n",
            "           1     0.2410    0.5405    0.3333        37\n",
            "\n",
            "    accuracy                         0.9473      1517\n",
            "   macro avg     0.6146    0.7490    0.6529      1517\n",
            "weighted avg     0.9699    0.9473    0.9570      1517\n",
            "\n",
            "Train with feature union + over-sample\n"
          ],
          "name": "stdout"
        },
        {
          "output_type": "stream",
          "text": [
            "c:\\users\\longkuku\\appdata\\local\\programs\\python\\python37\\lib\\site-packages\\sklearn\\utils\\validation.py:72: FutureWarning: Pass beta=1 as keyword args. From version 1.0 (renaming of 0.25) passing these as positional arguments will result in an error\n",
            "  \"will result in an error\", FutureWarning)\n",
            "c:\\users\\longkuku\\appdata\\local\\programs\\python\\python37\\lib\\site-packages\\sklearn\\utils\\validation.py:72: FutureWarning: Pass beta=1 as keyword args. From version 1.0 (renaming of 0.25) passing these as positional arguments will result in an error\n",
            "  \"will result in an error\", FutureWarning)\n"
          ],
          "name": "stderr"
        },
        {
          "output_type": "stream",
          "text": [
            "Cross validation: Average training set result: test_accuracy=0.896805 test_precision=0.783321 test_f1=0.837819 test_recall=1.000000 .\n",
            "\n",
            "Cross validation: Average validation set result: train_accuracy=1.000000 train_precision=1.000000 train_f1=1.000000 train_recall=1.000000 .\n",
            "\n",
            "Evaluating on test set:\n",
            "Evaluation for: DTresult on test set\n",
            "Classifier 'DTresult on test set' has Acc=0.937 P=0.193 R=0.356 F1=0.250\n",
            "              precision    recall  f1-score   support\n",
            "\n",
            "           0      0.980     0.954     0.967      1472\n",
            "           1      0.193     0.356     0.250        45\n",
            "\n",
            "    accuracy                          0.937      1517\n",
            "   macro avg      0.586     0.655     0.608      1517\n",
            "weighted avg      0.956     0.937     0.946      1517\n",
            "\n",
            "Simple test result:\n",
            "Prediction result: {'accuracy': 0.936717205009888, 'precision': 0.1927710843373494, 'f1': 0.25, 'recall': 0.35555555555555557}\n",
            "              precision    recall  f1-score   support\n",
            "\n",
            "           0     0.9798    0.9545    0.9670      1472\n",
            "           1     0.1928    0.3556    0.2500        45\n",
            "\n",
            "    accuracy                         0.9367      1517\n",
            "   macro avg     0.5863    0.6550    0.6085      1517\n",
            "weighted avg     0.9564    0.9367    0.9457      1517\n",
            "\n",
            "This compuation takes: 0:07:02\n",
            "Currently is processing 5\n"
          ],
          "name": "stdout"
        },
        {
          "output_type": "stream",
          "text": [
            "c:\\users\\longkuku\\appdata\\local\\programs\\python\\python37\\lib\\site-packages\\sklearn\\utils\\validation.py:72: FutureWarning: Pass beta=1 as keyword args. From version 1.0 (renaming of 0.25) passing these as positional arguments will result in an error\n",
            "  \"will result in an error\", FutureWarning)\n",
            "c:\\users\\longkuku\\appdata\\local\\programs\\python\\python37\\lib\\site-packages\\sklearn\\utils\\validation.py:72: FutureWarning: Pass beta=1 as keyword args. From version 1.0 (renaming of 0.25) passing these as positional arguments will result in an error\n",
            "  \"will result in an error\", FutureWarning)\n"
          ],
          "name": "stderr"
        },
        {
          "output_type": "stream",
          "text": [
            "Train with feature union\n",
            "Cross validation: Average training set result: test_accuracy=0.951204 test_precision=0.403419 test_f1=0.247191 test_recall=0.179663 .\n",
            "\n",
            "Cross validation: Average validation set result: train_accuracy=1.000000 train_precision=1.000000 train_f1=1.000000 train_recall=1.000000 .\n",
            "\n",
            "Evaluating on test set:\n",
            "Evaluation for: DTresult on test set\n",
            "Classifier 'DTresult on test set' has Acc=0.945 P=0.298 R=0.510 F1=0.376\n",
            "              precision    recall  f1-score   support\n",
            "\n",
            "           0      0.983     0.960     0.971      1468\n",
            "           1      0.298     0.510     0.376        49\n",
            "\n",
            "    accuracy                          0.945      1517\n",
            "   macro avg      0.640     0.735     0.674      1517\n",
            "weighted avg      0.961     0.945     0.952      1517\n",
            "\n",
            "Simple test result:\n",
            "Prediction result: {'accuracy': 0.9452867501647989, 'precision': 0.2976190476190476, 'f1': 0.37593984962406013, 'recall': 0.5102040816326531}\n",
            "              precision    recall  f1-score   support\n",
            "\n",
            "           0     0.9833    0.9598    0.9714      1468\n",
            "           1     0.2976    0.5102    0.3759        49\n",
            "\n",
            "    accuracy                         0.9453      1517\n",
            "   macro avg     0.6404    0.7350    0.6737      1517\n",
            "weighted avg     0.9611    0.9453    0.9522      1517\n",
            "\n",
            "Train with feature union + over-sample\n"
          ],
          "name": "stdout"
        },
        {
          "output_type": "stream",
          "text": [
            "c:\\users\\longkuku\\appdata\\local\\programs\\python\\python37\\lib\\site-packages\\sklearn\\utils\\validation.py:72: FutureWarning: Pass beta=1 as keyword args. From version 1.0 (renaming of 0.25) passing these as positional arguments will result in an error\n",
            "  \"will result in an error\", FutureWarning)\n",
            "c:\\users\\longkuku\\appdata\\local\\programs\\python\\python37\\lib\\site-packages\\sklearn\\utils\\validation.py:72: FutureWarning: Pass beta=1 as keyword args. From version 1.0 (renaming of 0.25) passing these as positional arguments will result in an error\n",
            "  \"will result in an error\", FutureWarning)\n"
          ],
          "name": "stderr"
        },
        {
          "output_type": "stream",
          "text": [
            "Cross validation: Average training set result: test_accuracy=0.892396 test_precision=0.736802 test_f1=0.828510 test_recall=1.000000 .\n",
            "\n",
            "Cross validation: Average validation set result: train_accuracy=1.000000 train_precision=1.000000 train_f1=1.000000 train_recall=1.000000 .\n",
            "\n",
            "Evaluating on test set:\n",
            "Evaluation for: DTresult on test set\n",
            "Classifier 'DTresult on test set' has Acc=0.932 P=0.250 R=0.344 F1=0.290\n",
            "              precision    recall  f1-score   support\n",
            "\n",
            "           0      0.972     0.957     0.964      1456\n",
            "           1      0.250     0.344     0.290        61\n",
            "\n",
            "    accuracy                          0.932      1517\n",
            "   macro avg      0.611     0.650     0.627      1517\n",
            "weighted avg      0.943     0.932     0.937      1517\n",
            "\n",
            "Simple test result:\n",
            "Prediction result: {'accuracy': 0.9321028345418589, 'precision': 0.25, 'f1': 0.2896551724137931, 'recall': 0.3442622950819672}\n",
            "              precision    recall  f1-score   support\n",
            "\n",
            "           0     0.9721    0.9567    0.9643      1456\n",
            "           1     0.2500    0.3443    0.2897        61\n",
            "\n",
            "    accuracy                         0.9321      1517\n",
            "   macro avg     0.6110    0.6505    0.6270      1517\n",
            "weighted avg     0.9431    0.9321    0.9372      1517\n",
            "\n",
            "This compuation takes: 0:07:27\n",
            "Currently is processing 6\n"
          ],
          "name": "stdout"
        },
        {
          "output_type": "stream",
          "text": [
            "c:\\users\\longkuku\\appdata\\local\\programs\\python\\python37\\lib\\site-packages\\sklearn\\utils\\validation.py:72: FutureWarning: Pass beta=1 as keyword args. From version 1.0 (renaming of 0.25) passing these as positional arguments will result in an error\n",
            "  \"will result in an error\", FutureWarning)\n",
            "c:\\users\\longkuku\\appdata\\local\\programs\\python\\python37\\lib\\site-packages\\sklearn\\utils\\validation.py:72: FutureWarning: Pass beta=1 as keyword args. From version 1.0 (renaming of 0.25) passing these as positional arguments will result in an error\n",
            "  \"will result in an error\", FutureWarning)\n"
          ],
          "name": "stderr"
        },
        {
          "output_type": "stream",
          "text": [
            "Train with feature union\n",
            "Cross validation: Average training set result: test_accuracy=0.823096 test_precision=0.219859 test_f1=0.168791 test_recall=0.230032 .\n",
            "\n",
            "Cross validation: Average validation set result: train_accuracy=1.000000 train_precision=1.000000 train_f1=1.000000 train_recall=1.000000 .\n",
            "\n",
            "Evaluating on test set:\n",
            "Evaluation for: DTresult on test set\n",
            "Classifier 'DTresult on test set' has Acc=0.862 P=0.112 R=0.386 F1=0.174\n",
            "              precision    recall  f1-score   support\n",
            "\n",
            "           0      0.974     0.881     0.925      1460\n",
            "           1      0.112     0.386     0.174        57\n",
            "\n",
            "    accuracy                          0.862      1517\n",
            "   macro avg      0.543     0.633     0.549      1517\n",
            "weighted avg      0.941     0.862     0.897      1517\n",
            "\n",
            "Simple test result:\n",
            "Prediction result: {'accuracy': 0.8622280817402769, 'precision': 0.11224489795918367, 'f1': 0.17391304347826086, 'recall': 0.38596491228070173}\n",
            "              precision    recall  f1-score   support\n",
            "\n",
            "           0     0.9735    0.8808    0.9248      1460\n",
            "           1     0.1122    0.3860    0.1739        57\n",
            "\n",
            "    accuracy                         0.8622      1517\n",
            "   macro avg     0.5429    0.6334    0.5494      1517\n",
            "weighted avg     0.9411    0.8622    0.8966      1517\n",
            "\n",
            "Train with feature union + over-sample\n"
          ],
          "name": "stdout"
        },
        {
          "output_type": "stream",
          "text": [
            "c:\\users\\longkuku\\appdata\\local\\programs\\python\\python37\\lib\\site-packages\\sklearn\\utils\\validation.py:72: FutureWarning: Pass beta=1 as keyword args. From version 1.0 (renaming of 0.25) passing these as positional arguments will result in an error\n",
            "  \"will result in an error\", FutureWarning)\n",
            "c:\\users\\longkuku\\appdata\\local\\programs\\python\\python37\\lib\\site-packages\\sklearn\\utils\\validation.py:72: FutureWarning: Pass beta=1 as keyword args. From version 1.0 (renaming of 0.25) passing these as positional arguments will result in an error\n",
            "  \"will result in an error\", FutureWarning)\n"
          ],
          "name": "stderr"
        },
        {
          "output_type": "stream",
          "text": [
            "Cross validation: Average training set result: test_accuracy=0.867344 test_precision=0.676525 test_f1=0.772459 test_recall=1.000000 .\n",
            "\n",
            "Cross validation: Average validation set result: train_accuracy=1.000000 train_precision=1.000000 train_f1=1.000000 train_recall=1.000000 .\n",
            "\n",
            "Evaluating on test set:\n",
            "Evaluation for: DTresult on test set\n",
            "Classifier 'DTresult on test set' has Acc=0.860 P=0.097 R=0.352 F1=0.152\n",
            "              precision    recall  f1-score   support\n",
            "\n",
            "           0      0.974     0.879     0.924      1463\n",
            "           1      0.097     0.352     0.152        54\n",
            "\n",
            "    accuracy                          0.860      1517\n",
            "   macro avg      0.535     0.615     0.538      1517\n",
            "weighted avg      0.942     0.860     0.896      1517\n",
            "\n",
            "Simple test result:\n",
            "Prediction result: {'accuracy': 0.8602504943968359, 'precision': 0.09693877551020408, 'f1': 0.152, 'recall': 0.35185185185185186}\n",
            "              precision    recall  f1-score   support\n",
            "\n",
            "           0     0.9735    0.8790    0.9239      1463\n",
            "           1     0.0969    0.3519    0.1520        54\n",
            "\n",
            "    accuracy                         0.8603      1517\n",
            "   macro avg     0.5352    0.6154    0.5379      1517\n",
            "weighted avg     0.9423    0.8603    0.8964      1517\n",
            "\n",
            "This compuation takes: 0:07:05\n"
          ],
          "name": "stdout"
        },
        {
          "output_type": "stream",
          "text": [
            "c:\\users\\longkuku\\appdata\\local\\programs\\python\\python37\\lib\\site-packages\\sklearn\\utils\\validation.py:72: FutureWarning: Pass beta=1 as keyword args. From version 1.0 (renaming of 0.25) passing these as positional arguments will result in an error\n",
            "  \"will result in an error\", FutureWarning)\n",
            "c:\\users\\longkuku\\appdata\\local\\programs\\python\\python37\\lib\\site-packages\\sklearn\\utils\\validation.py:72: FutureWarning: Pass beta=1 as keyword args. From version 1.0 (renaming of 0.25) passing these as positional arguments will result in an error\n",
            "  \"will result in an error\", FutureWarning)\n"
          ],
          "name": "stderr"
        }
      ]
    },
    {
      "cell_type": "code",
      "metadata": {
        "id": "zJ-4HXCdQe9L"
      },
      "source": [
        ""
      ],
      "execution_count": null,
      "outputs": []
    },
    {
      "cell_type": "markdown",
      "metadata": {
        "id": "2OLqpvBkmx4n"
      },
      "source": [
        "#### 2. count + count"
      ]
    },
    {
      "cell_type": "code",
      "metadata": {
        "colab": {
          "base_uri": "https://localhost:8080/"
        },
        "id": "1WW57PTbmyOi",
        "outputId": "14579793-9167-4c3c-8076-04bd2309d5a1"
      },
      "source": [
        "train_features = cv19_a_run_info_labeled[:int(len(cv19_a_run_info_labeled)*0.8)]\r\n",
        "\r\n",
        "test_features = cv19_a_run_info_labeled[int(len(cv19_a_run_info_labeled)*0.8) :]\r\n",
        "\r\n",
        "featureList = ['full_text','hashtags','favorite_count'] #,'favorited'\r\n",
        "train_features = Process_labels.extract_features(train_features,featureList)\r\n",
        "\r\n",
        "\r\n",
        "# best_over_sample_factors = [24,44,7,4,4,4,1]\r\n",
        "best_over_sample_factors = [24,44,7,4,4,4,1]\r\n",
        "vectorizers = [count_vect , count_vect]\r\n",
        "total_training_time = 0\r\n",
        "for i in range(7):\r\n",
        "    print(\"Currently is processing %d\" %(i))\r\n",
        "    section_category = i\r\n",
        "    train_labels = labels_single_a[section_category][:int(len(cv19_a_run_info_labeled)*0.8)]\r\n",
        "    test_labels = labels_single_a[section_category][int(len(cv19_a_run_info_labeled)*0.8) :]\r\n",
        "    running_set = [train_features, train_labels, test_features, test_labels]\r\n",
        "    total_training_time += Classical_classifiers.DecisionTreeCf(running_set, vectorizers, section_category, over_sample_targets=[1], increase_factor=best_over_sample_factors[i],\r\n",
        "                        )"
      ],
      "execution_count": null,
      "outputs": [
        {
          "output_type": "stream",
          "text": [
            "Currently is processing 0\n",
            "Train with feature union\n"
          ],
          "name": "stdout"
        },
        {
          "output_type": "stream",
          "text": [
            "c:\\users\\longkuku\\appdata\\local\\programs\\python\\python37\\lib\\site-packages\\sklearn\\metrics\\_classification.py:1245: UndefinedMetricWarning: Precision is ill-defined and being set to 0.0 due to no predicted samples. Use `zero_division` parameter to control this behavior.\n",
            "  _warn_prf(average, modifier, msg_start, len(result))\n"
          ],
          "name": "stderr"
        },
        {
          "output_type": "stream",
          "text": [
            "Cross validation: Average training set result: test_accuracy=0.995879 test_precision=0.000000 test_f1=0.000000 test_recall=0.000000 .\n",
            "\n",
            "Cross validation: Average validation set result: train_accuracy=1.000000 train_precision=1.000000 train_f1=1.000000 train_recall=1.000000 .\n",
            "\n",
            "Evaluating on test set:\n",
            "Evaluation for: DTresult on test set\n",
            "Classifier 'DTresult on test set' has Acc=0.997 P=0.000 R=0.000 F1=0.000\n",
            "              precision    recall  f1-score   support\n",
            "\n",
            "           0      0.999     0.999     0.999      1515\n",
            "           1      0.000     0.000     0.000         2\n",
            "\n",
            "    accuracy                          0.997      1517\n",
            "   macro avg      0.499     0.499     0.499      1517\n",
            "weighted avg      0.997     0.997     0.997      1517\n",
            "\n",
            "Simple test result:\n",
            "Prediction result: {'accuracy': 0.997363216875412, 'precision': 0.0, 'f1': 0.0, 'recall': 0.0}\n",
            "              precision    recall  f1-score   support\n",
            "\n",
            "           0     0.9987    0.9987    0.9987      1515\n",
            "           1     0.0000    0.0000    0.0000         2\n",
            "\n",
            "    accuracy                         0.9974      1517\n",
            "   macro avg     0.4993    0.4993    0.4993      1517\n",
            "weighted avg     0.9974    0.9974    0.9974      1517\n",
            "\n",
            "Train with feature union + over-sample\n"
          ],
          "name": "stdout"
        },
        {
          "output_type": "stream",
          "text": [
            "c:\\users\\longkuku\\appdata\\local\\programs\\python\\python37\\lib\\site-packages\\sklearn\\utils\\validation.py:72: FutureWarning: Pass beta=1 as keyword args. From version 1.0 (renaming of 0.25) passing these as positional arguments will result in an error\n",
            "  \"will result in an error\", FutureWarning)\n",
            "c:\\users\\longkuku\\appdata\\local\\programs\\python\\python37\\lib\\site-packages\\sklearn\\utils\\validation.py:72: FutureWarning: Pass beta=1 as keyword args. From version 1.0 (renaming of 0.25) passing these as positional arguments will result in an error\n",
            "  \"will result in an error\", FutureWarning)\n"
          ],
          "name": "stderr"
        },
        {
          "output_type": "stream",
          "text": [
            "Cross validation: Average training set result: test_accuracy=0.989767 test_precision=0.958748 test_f1=0.890065 test_recall=0.875000 .\n",
            "\n",
            "Cross validation: Average validation set result: train_accuracy=1.000000 train_precision=1.000000 train_f1=1.000000 train_recall=1.000000 .\n",
            "\n",
            "Evaluating on test set:\n",
            "Evaluation for: DTresult on test set\n",
            "Classifier 'DTresult on test set' has Acc=0.997 P=0.000 R=0.000 F1=0.000\n",
            "              precision    recall  f1-score   support\n",
            "\n",
            "           0      0.998     0.999     0.998      1514\n",
            "           1      0.000     0.000     0.000         3\n",
            "\n",
            "    accuracy                          0.997      1517\n",
            "   macro avg      0.499     0.499     0.499      1517\n",
            "weighted avg      0.996     0.997     0.996      1517\n",
            "\n",
            "Simple test result:\n",
            "Prediction result: {'accuracy': 0.996704021094265, 'precision': 0.0, 'f1': 0.0, 'recall': 0.0}\n",
            "              precision    recall  f1-score   support\n",
            "\n",
            "           0     0.9980    0.9987    0.9983      1514\n",
            "           1     0.0000    0.0000    0.0000         3\n",
            "\n",
            "    accuracy                         0.9967      1517\n",
            "   macro avg     0.4990    0.4993    0.4992      1517\n",
            "weighted avg     0.9960    0.9967    0.9964      1517\n",
            "\n",
            "This compuation takes: 0:06:56\n",
            "Currently is processing 1\n"
          ],
          "name": "stdout"
        },
        {
          "output_type": "stream",
          "text": [
            "c:\\users\\longkuku\\appdata\\local\\programs\\python\\python37\\lib\\site-packages\\sklearn\\utils\\validation.py:72: FutureWarning: Pass beta=1 as keyword args. From version 1.0 (renaming of 0.25) passing these as positional arguments will result in an error\n",
            "  \"will result in an error\", FutureWarning)\n",
            "c:\\users\\longkuku\\appdata\\local\\programs\\python\\python37\\lib\\site-packages\\sklearn\\utils\\validation.py:72: FutureWarning: Pass beta=1 as keyword args. From version 1.0 (renaming of 0.25) passing these as positional arguments will result in an error\n",
            "  \"will result in an error\", FutureWarning)\n"
          ],
          "name": "stderr"
        },
        {
          "output_type": "stream",
          "text": [
            "Train with feature union\n"
          ],
          "name": "stdout"
        },
        {
          "output_type": "stream",
          "text": [
            "c:\\users\\longkuku\\appdata\\local\\programs\\python\\python37\\lib\\site-packages\\sklearn\\metrics\\_classification.py:1245: UndefinedMetricWarning: Precision is ill-defined and being set to 0.0 due to no predicted samples. Use `zero_division` parameter to control this behavior.\n",
            "  _warn_prf(average, modifier, msg_start, len(result))\n"
          ],
          "name": "stderr"
        },
        {
          "output_type": "stream",
          "text": [
            "Cross validation: Average training set result: test_accuracy=0.983678 test_precision=0.102469 test_f1=0.084762 test_recall=0.133333 .\n",
            "\n",
            "Cross validation: Average validation set result: train_accuracy=1.000000 train_precision=1.000000 train_f1=1.000000 train_recall=1.000000 .\n",
            "\n",
            "Evaluating on test set:\n",
            "Evaluation for: DTresult on test set\n",
            "Classifier 'DTresult on test set' has Acc=0.993 P=0.000 R=0.000 F1=0.000\n",
            "              precision    recall  f1-score   support\n",
            "\n",
            "           0      0.998     0.995     0.997      1514\n",
            "           1      0.000     0.000     0.000         3\n",
            "\n",
            "    accuracy                          0.993      1517\n",
            "   macro avg      0.499     0.498     0.498      1517\n",
            "weighted avg      0.996     0.993     0.995      1517\n",
            "\n",
            "Simple test result:\n",
            "Prediction result: {'accuracy': 0.99340804218853, 'precision': 0.0, 'f1': 0.0, 'recall': 0.0}\n",
            "              precision    recall  f1-score   support\n",
            "\n",
            "           0     0.9980    0.9954    0.9967      1514\n",
            "           1     0.0000    0.0000    0.0000         3\n",
            "\n",
            "    accuracy                         0.9934      1517\n",
            "   macro avg     0.4990    0.4977    0.4983      1517\n",
            "weighted avg     0.9960    0.9934    0.9947      1517\n",
            "\n",
            "Train with feature union + over-sample\n"
          ],
          "name": "stdout"
        },
        {
          "output_type": "stream",
          "text": [
            "c:\\users\\longkuku\\appdata\\local\\programs\\python\\python37\\lib\\site-packages\\sklearn\\utils\\validation.py:72: FutureWarning: Pass beta=1 as keyword args. From version 1.0 (renaming of 0.25) passing these as positional arguments will result in an error\n",
            "  \"will result in an error\", FutureWarning)\n",
            "c:\\users\\longkuku\\appdata\\local\\programs\\python\\python37\\lib\\site-packages\\sklearn\\utils\\validation.py:72: FutureWarning: Pass beta=1 as keyword args. From version 1.0 (renaming of 0.25) passing these as positional arguments will result in an error\n",
            "  \"will result in an error\", FutureWarning)\n"
          ],
          "name": "stderr"
        },
        {
          "output_type": "stream",
          "text": [
            "Cross validation: Average training set result: test_accuracy=0.973264 test_precision=0.903855 test_f1=0.858164 test_recall=0.875000 .\n",
            "\n",
            "Cross validation: Average validation set result: train_accuracy=1.000000 train_precision=1.000000 train_f1=1.000000 train_recall=1.000000 .\n",
            "\n",
            "Evaluating on test set:\n",
            "Evaluation for: DTresult on test set\n",
            "Classifier 'DTresult on test set' has Acc=0.993 P=0.000 R=0.000 F1=0.000\n",
            "              precision    recall  f1-score   support\n",
            "\n",
            "           0      0.997     0.995     0.996      1513\n",
            "           1      0.000     0.000     0.000         4\n",
            "\n",
            "    accuracy                          0.993      1517\n",
            "   macro avg      0.499     0.498     0.498      1517\n",
            "weighted avg      0.995     0.993     0.994      1517\n",
            "\n",
            "Simple test result:\n",
            "Prediction result: {'accuracy': 0.992748846407383, 'precision': 0.0, 'f1': 0.0, 'recall': 0.0}\n",
            "              precision    recall  f1-score   support\n",
            "\n",
            "           0     0.9974    0.9954    0.9964      1513\n",
            "           1     0.0000    0.0000    0.0000         4\n",
            "\n",
            "    accuracy                         0.9927      1517\n",
            "   macro avg     0.4987    0.4977    0.4982      1517\n",
            "weighted avg     0.9947    0.9927    0.9937      1517\n",
            "\n",
            "This compuation takes: 0:07:00\n",
            "Currently is processing 2\n"
          ],
          "name": "stdout"
        },
        {
          "output_type": "stream",
          "text": [
            "c:\\users\\longkuku\\appdata\\local\\programs\\python\\python37\\lib\\site-packages\\sklearn\\utils\\validation.py:72: FutureWarning: Pass beta=1 as keyword args. From version 1.0 (renaming of 0.25) passing these as positional arguments will result in an error\n",
            "  \"will result in an error\", FutureWarning)\n",
            "c:\\users\\longkuku\\appdata\\local\\programs\\python\\python37\\lib\\site-packages\\sklearn\\utils\\validation.py:72: FutureWarning: Pass beta=1 as keyword args. From version 1.0 (renaming of 0.25) passing these as positional arguments will result in an error\n",
            "  \"will result in an error\", FutureWarning)\n"
          ],
          "name": "stderr"
        },
        {
          "output_type": "stream",
          "text": [
            "Train with feature union\n"
          ],
          "name": "stdout"
        },
        {
          "output_type": "stream",
          "text": [
            "c:\\users\\longkuku\\appdata\\local\\programs\\python\\python37\\lib\\site-packages\\sklearn\\metrics\\_classification.py:1245: UndefinedMetricWarning: Precision is ill-defined and being set to 0.0 due to no predicted samples. Use `zero_division` parameter to control this behavior.\n",
            "  _warn_prf(average, modifier, msg_start, len(result))\n"
          ],
          "name": "stderr"
        },
        {
          "output_type": "stream",
          "text": [
            "Cross validation: Average training set result: test_accuracy=0.993076 test_precision=0.000000 test_f1=0.000000 test_recall=0.000000 .\n",
            "\n",
            "Cross validation: Average validation set result: train_accuracy=1.000000 train_precision=1.000000 train_f1=1.000000 train_recall=1.000000 .\n",
            "\n",
            "Evaluating on test set:\n",
            "Evaluation for: DTresult on test set\n",
            "Classifier 'DTresult on test set' has Acc=0.992 P=0.231 R=0.600 F1=0.333\n",
            "              precision    recall  f1-score   support\n",
            "\n",
            "           0      0.999     0.993     0.996      1512\n",
            "           1      0.231     0.600     0.333         5\n",
            "\n",
            "    accuracy                          0.992      1517\n",
            "   macro avg      0.615     0.797     0.665      1517\n",
            "weighted avg      0.996     0.992     0.994      1517\n",
            "\n",
            "Simple test result:\n",
            "Prediction result: {'accuracy': 0.992089650626236, 'precision': 0.23076923076923078, 'f1': 0.33333333333333337, 'recall': 0.6}\n",
            "              precision    recall  f1-score   support\n",
            "\n",
            "           0     0.9987    0.9934    0.9960      1512\n",
            "           1     0.2308    0.6000    0.3333         5\n",
            "\n",
            "    accuracy                         0.9921      1517\n",
            "   macro avg     0.6147    0.7967    0.6647      1517\n",
            "weighted avg     0.9961    0.9921    0.9938      1517\n",
            "\n",
            "Train with feature union + over-sample\n"
          ],
          "name": "stdout"
        },
        {
          "output_type": "stream",
          "text": [
            "c:\\users\\longkuku\\appdata\\local\\programs\\python\\python37\\lib\\site-packages\\sklearn\\utils\\validation.py:72: FutureWarning: Pass beta=1 as keyword args. From version 1.0 (renaming of 0.25) passing these as positional arguments will result in an error\n",
            "  \"will result in an error\", FutureWarning)\n",
            "c:\\users\\longkuku\\appdata\\local\\programs\\python\\python37\\lib\\site-packages\\sklearn\\utils\\validation.py:72: FutureWarning: Pass beta=1 as keyword args. From version 1.0 (renaming of 0.25) passing these as positional arguments will result in an error\n",
            "  \"will result in an error\", FutureWarning)\n"
          ],
          "name": "stderr"
        },
        {
          "output_type": "stream",
          "text": [
            "Cross validation: Average training set result: test_accuracy=0.991266 test_precision=0.890176 test_f1=0.903124 test_recall=0.939623 .\n",
            "\n",
            "Cross validation: Average validation set result: train_accuracy=1.000000 train_precision=1.000000 train_f1=1.000000 train_recall=1.000000 .\n",
            "\n",
            "Evaluating on test set:\n",
            "Evaluation for: DTresult on test set\n",
            "Classifier 'DTresult on test set' has Acc=0.991 P=0.308 R=0.444 F1=0.364\n",
            "              precision    recall  f1-score   support\n",
            "\n",
            "           0      0.997     0.994     0.995      1508\n",
            "           1      0.308     0.444     0.364         9\n",
            "\n",
            "    accuracy                          0.991      1517\n",
            "   macro avg      0.652     0.719     0.679      1517\n",
            "weighted avg      0.993     0.991     0.992      1517\n",
            "\n",
            "Simple test result:\n",
            "Prediction result: {'accuracy': 0.990771259063942, 'precision': 0.3076923076923077, 'f1': 0.3636363636363637, 'recall': 0.4444444444444444}\n",
            "              precision    recall  f1-score   support\n",
            "\n",
            "           0     0.9967    0.9940    0.9954      1508\n",
            "           1     0.3077    0.4444    0.3636         9\n",
            "\n",
            "    accuracy                         0.9908      1517\n",
            "   macro avg     0.6522    0.7192    0.6795      1517\n",
            "weighted avg     0.9926    0.9908    0.9916      1517\n",
            "\n",
            "This compuation takes: 0:06:43\n",
            "Currently is processing 3\n"
          ],
          "name": "stdout"
        },
        {
          "output_type": "stream",
          "text": [
            "c:\\users\\longkuku\\appdata\\local\\programs\\python\\python37\\lib\\site-packages\\sklearn\\utils\\validation.py:72: FutureWarning: Pass beta=1 as keyword args. From version 1.0 (renaming of 0.25) passing these as positional arguments will result in an error\n",
            "  \"will result in an error\", FutureWarning)\n",
            "c:\\users\\longkuku\\appdata\\local\\programs\\python\\python37\\lib\\site-packages\\sklearn\\utils\\validation.py:72: FutureWarning: Pass beta=1 as keyword args. From version 1.0 (renaming of 0.25) passing these as positional arguments will result in an error\n",
            "  \"will result in an error\", FutureWarning)\n"
          ],
          "name": "stderr"
        },
        {
          "output_type": "stream",
          "text": [
            "Train with feature union\n",
            "Cross validation: Average training set result: test_accuracy=0.912296 test_precision=0.339500 test_f1=0.244347 test_recall=0.211607 .\n",
            "\n",
            "Cross validation: Average validation set result: train_accuracy=1.000000 train_precision=1.000000 train_f1=1.000000 train_recall=1.000000 .\n",
            "\n",
            "Evaluating on test set:\n",
            "Evaluation for: DTresult on test set\n",
            "Classifier 'DTresult on test set' has Acc=0.920 P=0.225 R=0.354 F1=0.275\n",
            "              precision    recall  f1-score   support\n",
            "\n",
            "           0      0.970     0.946     0.958      1452\n",
            "           1      0.225     0.354     0.275        65\n",
            "\n",
            "    accuracy                          0.920      1517\n",
            "   macro avg      0.598     0.650     0.617      1517\n",
            "weighted avg      0.938     0.920     0.929      1517\n",
            "\n",
            "Simple test result:\n",
            "Prediction result: {'accuracy': 0.9202373104812129, 'precision': 0.22549019607843138, 'f1': 0.2754491017964072, 'recall': 0.35384615384615387}\n",
            "              precision    recall  f1-score   support\n",
            "\n",
            "           0     0.9703    0.9456    0.9578      1452\n",
            "           1     0.2255    0.3538    0.2754        65\n",
            "\n",
            "    accuracy                         0.9202      1517\n",
            "   macro avg     0.5979    0.6497    0.6166      1517\n",
            "weighted avg     0.9384    0.9202    0.9286      1517\n",
            "\n",
            "Train with feature union + over-sample\n"
          ],
          "name": "stdout"
        },
        {
          "output_type": "stream",
          "text": [
            "c:\\users\\longkuku\\appdata\\local\\programs\\python\\python37\\lib\\site-packages\\sklearn\\utils\\validation.py:72: FutureWarning: Pass beta=1 as keyword args. From version 1.0 (renaming of 0.25) passing these as positional arguments will result in an error\n",
            "  \"will result in an error\", FutureWarning)\n",
            "c:\\users\\longkuku\\appdata\\local\\programs\\python\\python37\\lib\\site-packages\\sklearn\\utils\\validation.py:72: FutureWarning: Pass beta=1 as keyword args. From version 1.0 (renaming of 0.25) passing these as positional arguments will result in an error\n",
            "  \"will result in an error\", FutureWarning)\n"
          ],
          "name": "stderr"
        },
        {
          "output_type": "stream",
          "text": [
            "Cross validation: Average training set result: test_accuracy=0.893404 test_precision=0.788219 test_f1=0.865816 test_recall=1.000000 .\n",
            "\n",
            "Cross validation: Average validation set result: train_accuracy=1.000000 train_precision=1.000000 train_f1=1.000000 train_recall=1.000000 .\n",
            "\n",
            "Evaluating on test set:\n",
            "Evaluation for: DTresult on test set\n",
            "Classifier 'DTresult on test set' has Acc=0.907 P=0.333 R=0.318 F1=0.325\n",
            "              precision    recall  f1-score   support\n",
            "\n",
            "           0      0.948     0.952     0.950      1410\n",
            "           1      0.333     0.318     0.325       107\n",
            "\n",
            "    accuracy                          0.907      1517\n",
            "   macro avg      0.641     0.635     0.638      1517\n",
            "weighted avg      0.905     0.907     0.906      1517\n",
            "\n",
            "Simple test result:\n",
            "Prediction result: {'accuracy': 0.9070533948582729, 'precision': 0.3333333333333333, 'f1': 0.3253588516746411, 'recall': 0.3177570093457944}\n",
            "              precision    recall  f1-score   support\n",
            "\n",
            "           0     0.9484    0.9518    0.9501      1410\n",
            "           1     0.3333    0.3178    0.3254       107\n",
            "\n",
            "    accuracy                         0.9071      1517\n",
            "   macro avg     0.6409    0.6348    0.6377      1517\n",
            "weighted avg     0.9050    0.9071    0.9060      1517\n",
            "\n",
            "This compuation takes: 0:07:33\n",
            "Currently is processing 4\n"
          ],
          "name": "stdout"
        },
        {
          "output_type": "stream",
          "text": [
            "c:\\users\\longkuku\\appdata\\local\\programs\\python\\python37\\lib\\site-packages\\sklearn\\utils\\validation.py:72: FutureWarning: Pass beta=1 as keyword args. From version 1.0 (renaming of 0.25) passing these as positional arguments will result in an error\n",
            "  \"will result in an error\", FutureWarning)\n",
            "c:\\users\\longkuku\\appdata\\local\\programs\\python\\python37\\lib\\site-packages\\sklearn\\utils\\validation.py:72: FutureWarning: Pass beta=1 as keyword args. From version 1.0 (renaming of 0.25) passing these as positional arguments will result in an error\n",
            "  \"will result in an error\", FutureWarning)\n"
          ],
          "name": "stderr"
        },
        {
          "output_type": "stream",
          "text": [
            "Train with feature union\n",
            "Cross validation: Average training set result: test_accuracy=0.915091 test_precision=0.476146 test_f1=0.342234 test_recall=0.351515 .\n",
            "\n",
            "Cross validation: Average validation set result: train_accuracy=1.000000 train_precision=1.000000 train_f1=1.000000 train_recall=1.000000 .\n",
            "\n",
            "Evaluating on test set:\n",
            "Evaluation for: DTresult on test set\n",
            "Classifier 'DTresult on test set' has Acc=0.937 P=0.157 R=0.333 F1=0.213\n",
            "              precision    recall  f1-score   support\n",
            "\n",
            "           0      0.982     0.953     0.967      1478\n",
            "           1      0.157     0.333     0.213        39\n",
            "\n",
            "    accuracy                          0.937      1517\n",
            "   macro avg      0.569     0.643     0.590      1517\n",
            "weighted avg      0.961     0.937     0.948      1517\n",
            "\n",
            "Simple test result:\n",
            "Prediction result: {'accuracy': 0.936717205009888, 'precision': 0.1566265060240964, 'f1': 0.21311475409836064, 'recall': 0.3333333333333333}\n",
            "              precision    recall  f1-score   support\n",
            "\n",
            "           0     0.9819    0.9526    0.9670      1478\n",
            "           1     0.1566    0.3333    0.2131        39\n",
            "\n",
            "    accuracy                         0.9367      1517\n",
            "   macro avg     0.5692    0.6430    0.5901      1517\n",
            "weighted avg     0.9607    0.9367    0.9477      1517\n",
            "\n",
            "Train with feature union + over-sample\n"
          ],
          "name": "stdout"
        },
        {
          "output_type": "stream",
          "text": [
            "c:\\users\\longkuku\\appdata\\local\\programs\\python\\python37\\lib\\site-packages\\sklearn\\utils\\validation.py:72: FutureWarning: Pass beta=1 as keyword args. From version 1.0 (renaming of 0.25) passing these as positional arguments will result in an error\n",
            "  \"will result in an error\", FutureWarning)\n",
            "c:\\users\\longkuku\\appdata\\local\\programs\\python\\python37\\lib\\site-packages\\sklearn\\utils\\validation.py:72: FutureWarning: Pass beta=1 as keyword args. From version 1.0 (renaming of 0.25) passing these as positional arguments will result in an error\n",
            "  \"will result in an error\", FutureWarning)\n"
          ],
          "name": "stderr"
        },
        {
          "output_type": "stream",
          "text": [
            "Cross validation: Average training set result: test_accuracy=0.897103 test_precision=0.771899 test_f1=0.832182 test_recall=1.000000 .\n",
            "\n",
            "Cross validation: Average validation set result: train_accuracy=1.000000 train_precision=1.000000 train_f1=1.000000 train_recall=1.000000 .\n",
            "\n",
            "Evaluating on test set:\n",
            "Evaluation for: DTresult on test set\n",
            "Classifier 'DTresult on test set' has Acc=0.924 P=0.253 R=0.284 F1=0.268\n",
            "              precision    recall  f1-score   support\n",
            "\n",
            "           0      0.963     0.957     0.960      1443\n",
            "           1      0.253     0.284     0.268        74\n",
            "\n",
            "    accuracy                          0.924      1517\n",
            "   macro avg      0.608     0.620     0.614      1517\n",
            "weighted avg      0.928     0.924     0.926      1517\n",
            "\n",
            "Simple test result:\n"
          ],
          "name": "stdout"
        },
        {
          "output_type": "stream",
          "text": [
            "c:\\users\\longkuku\\appdata\\local\\programs\\python\\python37\\lib\\site-packages\\sklearn\\utils\\validation.py:72: FutureWarning: Pass beta=1 as keyword args. From version 1.0 (renaming of 0.25) passing these as positional arguments will result in an error\n",
            "  \"will result in an error\", FutureWarning)\n",
            "c:\\users\\longkuku\\appdata\\local\\programs\\python\\python37\\lib\\site-packages\\sklearn\\utils\\validation.py:72: FutureWarning: Pass beta=1 as keyword args. From version 1.0 (renaming of 0.25) passing these as positional arguments will result in an error\n",
            "  \"will result in an error\", FutureWarning)\n"
          ],
          "name": "stderr"
        },
        {
          "output_type": "stream",
          "text": [
            "Prediction result: {'accuracy': 0.9241924851680949, 'precision': 0.25301204819277107, 'f1': 0.267515923566879, 'recall': 0.28378378378378377}\n",
            "              precision    recall  f1-score   support\n",
            "\n",
            "           0     0.9630    0.9570    0.9600      1443\n",
            "           1     0.2530    0.2838    0.2675        74\n",
            "\n",
            "    accuracy                         0.9242      1517\n",
            "   macro avg     0.6080    0.6204    0.6138      1517\n",
            "weighted avg     0.9284    0.9242    0.9262      1517\n",
            "\n",
            "This compuation takes: 0:06:55\n",
            "Currently is processing 5\n",
            "Train with feature union\n",
            "Cross validation: Average training set result: test_accuracy=0.943785 test_precision=0.230000 test_f1=0.156556 test_recall=0.121414 .\n",
            "\n",
            "Cross validation: Average validation set result: train_accuracy=1.000000 train_precision=1.000000 train_f1=1.000000 train_recall=1.000000 .\n",
            "\n",
            "Evaluating on test set:\n",
            "Evaluation for: DTresult on test set\n",
            "Classifier 'DTresult on test set' has Acc=0.946 P=0.250 R=0.525 F1=0.339\n",
            "              precision    recall  f1-score   support\n",
            "\n",
            "           0      0.987     0.957     0.972      1477\n",
            "           1      0.250     0.525     0.339        40\n",
            "\n",
            "    accuracy                          0.946      1517\n",
            "   macro avg      0.618     0.741     0.655      1517\n",
            "weighted avg      0.967     0.946     0.955      1517\n",
            "\n",
            "Simple test result:\n",
            "Prediction result: {'accuracy': 0.9459459459459459, 'precision': 0.25, 'f1': 0.33870967741935487, 'recall': 0.525}\n",
            "              precision    recall  f1-score   support\n",
            "\n",
            "           0     0.9867    0.9573    0.9718      1477\n",
            "           1     0.2500    0.5250    0.3387        40\n",
            "\n",
            "    accuracy                         0.9459      1517\n",
            "   macro avg     0.6184    0.7412    0.6553      1517\n",
            "weighted avg     0.9673    0.9459    0.9551      1517\n",
            "\n",
            "Train with feature union + over-sample\n"
          ],
          "name": "stdout"
        },
        {
          "output_type": "stream",
          "text": [
            "c:\\users\\longkuku\\appdata\\local\\programs\\python\\python37\\lib\\site-packages\\sklearn\\utils\\validation.py:72: FutureWarning: Pass beta=1 as keyword args. From version 1.0 (renaming of 0.25) passing these as positional arguments will result in an error\n",
            "  \"will result in an error\", FutureWarning)\n",
            "c:\\users\\longkuku\\appdata\\local\\programs\\python\\python37\\lib\\site-packages\\sklearn\\utils\\validation.py:72: FutureWarning: Pass beta=1 as keyword args. From version 1.0 (renaming of 0.25) passing these as positional arguments will result in an error\n",
            "  \"will result in an error\", FutureWarning)\n"
          ],
          "name": "stderr"
        },
        {
          "output_type": "stream",
          "text": [
            "Cross validation: Average training set result: test_accuracy=0.882890 test_precision=0.756417 test_f1=0.835079 test_recall=1.000000 .\n",
            "\n",
            "Cross validation: Average validation set result: train_accuracy=1.000000 train_precision=1.000000 train_f1=1.000000 train_recall=1.000000 .\n",
            "\n",
            "Evaluating on test set:\n",
            "Evaluation for: DTresult on test set\n",
            "Classifier 'DTresult on test set' has Acc=0.929 P=0.321 R=0.346 F1=0.333\n",
            "              precision    recall  f1-score   support\n",
            "\n",
            "           0      0.964     0.960     0.962      1439\n",
            "           1      0.321     0.346     0.333        78\n",
            "\n",
            "    accuracy                          0.929      1517\n",
            "   macro avg      0.643     0.653     0.648      1517\n",
            "weighted avg      0.931     0.929     0.930      1517\n",
            "\n",
            "Simple test result:\n",
            "Prediction result: {'accuracy': 0.928806855636124, 'precision': 0.32142857142857145, 'f1': 0.3333333333333333, 'recall': 0.34615384615384615}\n",
            "              precision    recall  f1-score   support\n",
            "\n",
            "           0     0.9644    0.9604    0.9624      1439\n",
            "           1     0.3214    0.3462    0.3333        78\n",
            "\n",
            "    accuracy                         0.9288      1517\n",
            "   macro avg     0.6429    0.6533    0.6479      1517\n",
            "weighted avg     0.9313    0.9288    0.9301      1517\n",
            "\n",
            "This compuation takes: 0:07:16\n",
            "Currently is processing 6\n"
          ],
          "name": "stdout"
        },
        {
          "output_type": "stream",
          "text": [
            "c:\\users\\longkuku\\appdata\\local\\programs\\python\\python37\\lib\\site-packages\\sklearn\\utils\\validation.py:72: FutureWarning: Pass beta=1 as keyword args. From version 1.0 (renaming of 0.25) passing these as positional arguments will result in an error\n",
            "  \"will result in an error\", FutureWarning)\n",
            "c:\\users\\longkuku\\appdata\\local\\programs\\python\\python37\\lib\\site-packages\\sklearn\\utils\\validation.py:72: FutureWarning: Pass beta=1 as keyword args. From version 1.0 (renaming of 0.25) passing these as positional arguments will result in an error\n",
            "  \"will result in an error\", FutureWarning)\n"
          ],
          "name": "stderr"
        },
        {
          "output_type": "stream",
          "text": [
            "Train with feature union\n",
            "Cross validation: Average training set result: test_accuracy=0.816006 test_precision=0.211559 test_f1=0.148348 test_recall=0.214937 .\n",
            "\n",
            "Cross validation: Average validation set result: train_accuracy=1.000000 train_precision=1.000000 train_f1=1.000000 train_recall=1.000000 .\n",
            "\n",
            "Evaluating on test set:\n",
            "Evaluation for: DTresult on test set\n",
            "Classifier 'DTresult on test set' has Acc=0.854 P=0.117 R=0.319 F1=0.172\n",
            "              precision    recall  f1-score   support\n",
            "\n",
            "           0      0.963     0.880     0.920      1445\n",
            "           1      0.117     0.319     0.172        72\n",
            "\n",
            "    accuracy                          0.854      1517\n",
            "   macro avg      0.540     0.600     0.546      1517\n",
            "weighted avg      0.923     0.854     0.884      1517\n",
            "\n",
            "Simple test result:\n",
            "Prediction result: {'accuracy': 0.8536585365853658, 'precision': 0.11734693877551021, 'f1': 0.17164179104477612, 'recall': 0.3194444444444444}\n",
            "              precision    recall  f1-score   support\n",
            "\n",
            "           0     0.9629    0.8803    0.9197      1445\n",
            "           1     0.1173    0.3194    0.1716        72\n",
            "\n",
            "    accuracy                         0.8537      1517\n",
            "   macro avg     0.5401    0.5999    0.5457      1517\n",
            "weighted avg     0.9228    0.8537    0.8842      1517\n",
            "\n",
            "Train with feature union + over-sample\n"
          ],
          "name": "stdout"
        },
        {
          "output_type": "stream",
          "text": [
            "c:\\users\\longkuku\\appdata\\local\\programs\\python\\python37\\lib\\site-packages\\sklearn\\utils\\validation.py:72: FutureWarning: Pass beta=1 as keyword args. From version 1.0 (renaming of 0.25) passing these as positional arguments will result in an error\n",
            "  \"will result in an error\", FutureWarning)\n",
            "c:\\users\\longkuku\\appdata\\local\\programs\\python\\python37\\lib\\site-packages\\sklearn\\utils\\validation.py:72: FutureWarning: Pass beta=1 as keyword args. From version 1.0 (renaming of 0.25) passing these as positional arguments will result in an error\n",
            "  \"will result in an error\", FutureWarning)\n"
          ],
          "name": "stderr"
        },
        {
          "output_type": "stream",
          "text": [
            "Cross validation: Average training set result: test_accuracy=0.853877 test_precision=0.634652 test_f1=0.742449 test_recall=1.000000 .\n",
            "\n",
            "Cross validation: Average validation set result: train_accuracy=1.000000 train_precision=1.000000 train_f1=1.000000 train_recall=1.000000 .\n",
            "\n",
            "Evaluating on test set:\n",
            "Evaluation for: DTresult on test set\n",
            "Classifier 'DTresult on test set' has Acc=0.842 P=0.148 R=0.287 F1=0.195\n",
            "              precision    recall  f1-score   support\n",
            "\n",
            "           0      0.945     0.882     0.913      1416\n",
            "           1      0.148     0.287     0.195       101\n",
            "\n",
            "    accuracy                          0.842      1517\n",
            "   macro avg      0.547     0.585     0.554      1517\n",
            "weighted avg      0.892     0.842     0.865      1517\n",
            "\n",
            "Simple test result:\n",
            "Prediction result: {'accuracy': 0.8424522083058669, 'precision': 0.14795918367346939, 'f1': 0.19528619528619529, 'recall': 0.2871287128712871}\n",
            "              precision    recall  f1-score   support\n",
            "\n",
            "           0     0.9455    0.8821    0.9127      1416\n",
            "           1     0.1480    0.2871    0.1953       101\n",
            "\n",
            "    accuracy                         0.8425      1517\n",
            "   macro avg     0.5467    0.5846    0.5540      1517\n",
            "weighted avg     0.8924    0.8425    0.8649      1517\n",
            "\n",
            "This compuation takes: 0:06:54\n"
          ],
          "name": "stdout"
        },
        {
          "output_type": "stream",
          "text": [
            "c:\\users\\longkuku\\appdata\\local\\programs\\python\\python37\\lib\\site-packages\\sklearn\\utils\\validation.py:72: FutureWarning: Pass beta=1 as keyword args. From version 1.0 (renaming of 0.25) passing these as positional arguments will result in an error\n",
            "  \"will result in an error\", FutureWarning)\n",
            "c:\\users\\longkuku\\appdata\\local\\programs\\python\\python37\\lib\\site-packages\\sklearn\\utils\\validation.py:72: FutureWarning: Pass beta=1 as keyword args. From version 1.0 (renaming of 0.25) passing these as positional arguments will result in an error\n",
            "  \"will result in an error\", FutureWarning)\n"
          ],
          "name": "stderr"
        }
      ]
    },
    {
      "cell_type": "code",
      "metadata": {
        "id": "OBV5hpsjniIh"
      },
      "source": [
        ""
      ],
      "execution_count": null,
      "outputs": []
    }
  ]
}